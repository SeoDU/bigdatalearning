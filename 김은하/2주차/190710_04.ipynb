{
 "cells": [
  {
   "cell_type": "markdown",
   "metadata": {},
   "source": [
    "## xml"
   ]
  },
  {
   "cell_type": "markdown",
   "metadata": {},
   "source": [
    "extensible markup language\n",
    "여는 태그와 닫는 태그로 구성된 한 쌍\n",
    "확장 가능\n",
    "html : hypertext markup language\n",
    "html로 한계가 있어서 만들어짐\n",
    "가장 큰 장점 : human- machine-readable\n",
    "목적도 결국은 데이터 파싱\n",
    "W3C recommendation\n",
    "JSON 때문에 사용량 저하\n",
    "standard way of structuring data\n",
    "협력해서 작업할 때 약속되어있는 데이터 형태\n",
    "데이터 스키마를 서로 공유했으면 분업해서 양쪽에서 작업 가능\n",
    "이런 이름으로 JSON으로 넘길게 하는 약속 (protocol) 하면 ok\n",
    "\n",
    "둘이 명세서만 맞춰 놓으면 됨.\n",
    "어떤 키값을 넣을지에 대해서만 맞추면 ok (interface?)\n",
    "\n",
    "어떤 언어에도 독립적 -> 모든 언어에서 사용 가능\n",
    "\n",
    "no predifined tag -> 사용자가 모든 태그를 다 정리해서 만들어야 함\n",
    "\n",
    "텍스트 기반\n",
    "\n",
    "byte type으로 만들어서 주고받을 수 있음\n",
    "\n",
    "Validity : validation을 스스로 함 -> 조금이라도 잘못 쓰여 있으면 바로 error\n",
    "규칙, 규약, 규범 등을 정확히 지켜야만 오류가 없기 때문에 안전!\n",
    "누가 잘못했는지 명확.\n",
    "\n",
    "validation과 well-formed는 다른 얘기\n",
    "형식을 잘 지켜서 만들었다고 validity가 있는 건 아님\n",
    "\n",
    "### Well-formed Documents\n",
    "root node가 반드시 있어야 함\n",
    "계층형 구조를 가지는 정형 데이터\n",
    "이름은 root가 아님. 최상단에 있다는 뜻\n",
    "즉 시작하는 태그가 하나는 있어야 함\n",
    "반드시 여는 태그와 닫는 태그의 쌍으로 이루어져있음\n",
    "html의 경우 닫는 태그가 없는 경우도 있음 예) meta tag\n",
    "대소문자 구별 정확하게 해야 함\n",
    "html은 대소문자 마음대로 써도 상관없음\n",
    "얘는 대문자로 시작했으면 대문자로 끝나야 하고...무조건 맞춰야 함\n",
    "attribute들은 각 태그의 안에 포함되어야 함\n",
    "예) version = \"1.0\"\n",
    "값들은 무조건 quote로 싸여 있어야. \"가 일반적 '도 사용가능\n",
    "html보다 훨씬 더 규약적인 측면에서 엄격\n",
    "-> 오류가 날 확률이 없음\n",
    "-> validation을 지켜준다는 장점\n"
   ]
  },
  {
   "cell_type": "code",
   "execution_count": 1,
   "metadata": {},
   "outputs": [],
   "source": [
    "import xml.etree.ElementTree as et\n",
    "from lxml import etree"
   ]
  },
  {
   "cell_type": "code",
   "execution_count": 4,
   "metadata": {},
   "outputs": [
    {
     "name": "stdout",
     "output_type": "stream",
     "text": [
      "<bookstore><book category=\"cooking\"><title lang=\"en\">Everyday Italian</title><author>Giada De Laurentiis</author><year>2005</year><price>30.00</price></book><book category=\"children\"><title lang=\"en\">Harry Potter</title><author>Giada De Laurentiis</author><year>2005</year><price>30.00</price></book></bookstore>\n"
     ]
    }
   ],
   "source": [
    "bookstore = et.Element(\"bookstore\")\n",
    "\n",
    "book1 = et.Element(\"book\", category=\"cooking\")\n",
    "bookstore.insert(0,book1)\n",
    "\n",
    "title1 = et.Element(\"title\")\n",
    "title1.attrib[\"lang\"] = \"en\"\n",
    "title1.text = \"Everyday Italian\"\n",
    "book1.append(title1)\n",
    "\n",
    "et.SubElement(book1, \"author\").text = \"Giada De Laurentiis\"\n",
    "et.SubElement(book1, \"year\").text = \"2005\"\n",
    "et.SubElement(book1, \"price\").text = \"30.00\"\n",
    "\n",
    "book2 = et.Element(\"book\", {\"category\" : \"children\"})\n",
    "bookstore.append(book2)\n",
    "\n",
    "title2 = et.Element(\"title\")\n",
    "title2.attrib[\"lang\"] = title1.get(\"lang\")\n",
    "title2.text = \"Harry Potter\"\n",
    "book2.append(title2)\n",
    "\n",
    "et.SubElement(book2, \"author\").text = \"Giada De Laurentiis\"\n",
    "et.SubElement(book2, \"year\").text = \"2005\"\n",
    "et.SubElement(book2, \"price\").text = \"30.00\"\n",
    "\n",
    "et.dump(bookstore)"
   ]
  },
  {
   "cell_type": "code",
   "execution_count": 22,
   "metadata": {},
   "outputs": [
    {
     "name": "stdout",
     "output_type": "stream",
     "text": [
      "2\n",
      "book {'category': 'cooking'}\n",
      "book {'category': 'children'}\n",
      "2\n",
      "book [('category', 'cooking')]\n",
      "book [('category', 'children')]\n",
      "title ['lang']\n",
      "['en']\n",
      "author []\n",
      "year []\n",
      "price []\n",
      "book cooking\n",
      "book cooking\n",
      "book children\n",
      "<class 'xml.etree.ElementTree.Element'> Everyday Italian\n",
      "['Everyday Italian', 'Harry Potter']\n",
      "<class 'str'> Everyday Italian\n",
      "<Element 'book' at 0x10f9fb9f8> book\n"
     ]
    },
    {
     "name": "stderr",
     "output_type": "stream",
     "text": [
      "/Users/eunha/anaconda3/lib/python3.7/site-packages/ipykernel_launcher.py:13: DeprecationWarning: This method will be removed in future versions.  Use 'list(elem)' or iteration over elem instead.\n",
      "  del sys.path[0]\n"
     ]
    }
   ],
   "source": [
    "root = et.XML(et.tostring(bookstore))\n",
    "\n",
    "#self.children\n",
    "print(len(root))\n",
    "for childNode in root:\n",
    "    print(childNode.tag, childNode.attrib)\n",
    "\n",
    "root.clear()\n",
    "\n",
    "root = et.fromstring(et.tostring(bookstore))\n",
    "\n",
    "#self.children, list(elem)\n",
    "childNodes = root.getchildren()\n",
    "print(len(childNodes))\n",
    "for childNode in childNodes:\n",
    "    print(childNode.tag, childNode.items())\n",
    "    \n",
    "for childNode in childNodes[0]:\n",
    "    print(childNode.tag, childNode.keys())\n",
    "    if childNode.keys() != []:\n",
    "        print([childNode.get(k) for k in childNode.keys()])\n",
    "        \n",
    "book = root.find(\"book\")\n",
    "print(book.tag, book.get(\"category\"))\n",
    "\n",
    "bookList = root.findall(\"book\")\n",
    "for book in bookList:\n",
    "    print(book.tag, book.get(\"category\"))\n",
    "    \n",
    "title = root.find(\".//title\") # .은 현재위치...root! find는 첫 element만 찾음 findall은 모두 찾음\n",
    "print(type(title), title.text)\n",
    "\n",
    "titleList = root.findall(\".//title\")\n",
    "print([title.text for title in titleList])\n",
    "\n",
    "title = root.findtext(\".//title\")\n",
    "print(type(title), title)\n",
    "\n",
    "book = root.find(\".//book[@category='children']\")\n",
    "print(book, book.tag)"
   ]
  },
  {
   "cell_type": "code",
   "execution_count": 24,
   "metadata": {},
   "outputs": [
    {
     "name": "stdout",
     "output_type": "stream",
     "text": [
      "[<Element 'book' at 0x10f9fb9f8>]\n"
     ]
    }
   ],
   "source": [
    "book = root.findall(\".//book[@category='children']\")\n",
    "print(book)"
   ]
  },
  {
   "cell_type": "code",
   "execution_count": 26,
   "metadata": {},
   "outputs": [],
   "source": [
    "from xml.etree.ElementTree import ElementTree\n",
    "\n",
    "tree = ElementTree(root)\n",
    "tree.write(\"book_xml.xml\", encoding = \"utf-8\", xml_declaration = \"utf-8\")"
   ]
  },
  {
   "cell_type": "code",
   "execution_count": 27,
   "metadata": {},
   "outputs": [
    {
     "name": "stdout",
     "output_type": "stream",
     "text": [
      "bookstore None\n",
      "book None\n",
      "title Everyday Italian\n",
      "author Giada De Laurentiis\n",
      "year 2005\n",
      "price 30.00\n",
      "book None\n",
      "title Harry Potter\n",
      "author Giada De Laurentiis\n",
      "year 2005\n",
      "price 30.00\n"
     ]
    }
   ],
   "source": [
    "from xml.etree.ElementTree import parse\n",
    "\n",
    "tree = parse(\"book_xml.xml\")\n",
    "root = tree.getroot()\n",
    "\n",
    "for node in root.iter():\n",
    "    print(node.tag, node.text)"
   ]
  },
  {
   "cell_type": "code",
   "execution_count": 29,
   "metadata": {},
   "outputs": [
    {
     "name": "stdout",
     "output_type": "stream",
     "text": [
      "bookstore None\n",
      "book None\n",
      "title Everyday Italian\n",
      "author Giada De Laurentiis\n",
      "year 2005\n",
      "price 30.00\n",
      "book None\n",
      "title Harry Potter\n",
      "author Giada De Laurentiis\n",
      "year 2005\n",
      "price 30.00\n"
     ]
    }
   ],
   "source": [
    "tree = ElementTree(file = \"book_xml.xml\")\n",
    "root = tree.getroot()\n",
    "\n",
    "for node in root.iter():\n",
    "    print(node.tag, node.text)"
   ]
  },
  {
   "cell_type": "code",
   "execution_count": 30,
   "metadata": {},
   "outputs": [
    {
     "name": "stdout",
     "output_type": "stream",
     "text": [
      "<class 'xml.etree.ElementTree.Element'> Everyday Italian\n"
     ]
    }
   ],
   "source": [
    "title = root.find(\".//title\")\n",
    "print(type(title), title.text)"
   ]
  },
  {
   "cell_type": "code",
   "execution_count": 31,
   "metadata": {},
   "outputs": [
    {
     "name": "stdout",
     "output_type": "stream",
     "text": [
      "['Everyday Italian', 'Harry Potter']\n"
     ]
    }
   ],
   "source": [
    "titleList = root.findall(\".//title\")\n",
    "print([title.text for title in titleList])"
   ]
  },
  {
   "cell_type": "markdown",
   "metadata": {},
   "source": [
    "lxml은 c를 기반으로 만들어짐 속도 빠르다"
   ]
  },
  {
   "cell_type": "code",
   "execution_count": 32,
   "metadata": {},
   "outputs": [
    {
     "name": "stdout",
     "output_type": "stream",
     "text": [
      "4\n",
      "<class 'bytes'> <class 'str'>\n",
      "<bookstore>\n",
      "  <book category=\"cooking\">\n",
      "    <title lang=\"en\">Everyday Italian</title>\n",
      "    <author>Giada De Laurentiis</author>\n",
      "    <year>2005</year>\n",
      "    <price>30.00</price>\n",
      "  </book>\n",
      "  <book category=\"children\">\n",
      "    <title lang=\"en\">Harry Potter</title>\n",
      "    <author>Giada De Laurentiis</author>\n",
      "    <year>2005</year>\n",
      "    <price>30.00</price>\n",
      "  </book>\n",
      "</bookstore>\n"
     ]
    }
   ],
   "source": [
    "bookstore = etree.Element(\"bookstore\")\n",
    "\n",
    "book1 = etree.SubElement(bookstore, \"book\")\n",
    "book2 = etree.SubElement(bookstore, \"book\", attrib = {\"category\":\"children\"})\n",
    "\n",
    "book1.attrib[\"category\"] = \"cooking\"\n",
    "\n",
    "title1 = etree.Element(\"title\", lang=\"en\")\n",
    "title1.text = \"Everyday Italian\"\n",
    "book1.append(title1)\n",
    "\n",
    "etree.SubElement(book1, \"author\").text = \"Giada De Laurentiis\"\n",
    "etree.SubElement(book1, \"year\").text = \"2005\"\n",
    "etree.SubElement(book1, \"price\").text = \"30.00\"\n",
    "\n",
    "title2 = etree.Element(\"title\")\n",
    "title2.set(\"lang\", title1.get(\"lang\"))\n",
    "title2.text = \"Harry Potter\"\n",
    "book2.append(title2)\n",
    "\n",
    "etree.SubElement(book2, \"author\").text = \"Giada De Laurentiis\"\n",
    "etree.SubElement(book2, \"year\").text = \"2005\"\n",
    "book2.insert(3, etree.Element(\"price\"))\n",
    "\n",
    "print(len(book2))\n",
    "book2[-1].text = \"30.00\"\n",
    "\n",
    "# 어디 보내야 할 때\n",
    "xmlBytes = etree.tostring(bookstore, encoding=\"utf-8\", pretty_print=True, xml_declaration=True)\n",
    "xmlStr = etree.tounicode(bookstore, pretty_print=True)\n",
    "#pretty print : tap 들어가게 해서 \\n도 해서 출력해줌\n",
    "print(type(xmlBytes), type(xmlStr)) #<class 'bytes'> <class 'str'>\n",
    "etree.dump(bookstore)"
   ]
  },
  {
   "cell_type": "code",
   "execution_count": 33,
   "metadata": {},
   "outputs": [
    {
     "name": "stdout",
     "output_type": "stream",
     "text": [
      "1.0\n",
      "UTF-8\n",
      "\n",
      "bookstore\n",
      "2\n",
      "book {'category': 'cooking'}\n",
      "book {'category': 'children'}\n"
     ]
    }
   ],
   "source": [
    "# parsing\n",
    "\n",
    "xml = etree.XML(etree.tostring(bookstore))\n",
    "xmlTree = etree.ElementTree(xml)\n",
    "xmlRoot = xmlTree.getroot()\n",
    "\n",
    "print(xmlTree.docinfo.xml_version)\n",
    "print(xmlTree.docinfo.encoding)\n",
    "print(xmlTree.docinfo.doctype)\n",
    "print(xmlTree.docinfo.root_name)\n",
    "\n",
    "print(len(xmlRoot)) # book1, book2 -> 두개\n",
    "for childNode in xmlRoot:\n",
    "    print(childNode.tag, childNode.attrib)"
   ]
  },
  {
   "cell_type": "code",
   "execution_count": 34,
   "metadata": {},
   "outputs": [
    {
     "name": "stdout",
     "output_type": "stream",
     "text": [
      "2\n",
      "book [('category', 'cooking')]\n",
      "book [('category', 'children')]\n"
     ]
    }
   ],
   "source": [
    "xml = etree.fromstring(etree.tostring(bookstore))\n",
    "xmlTree = etree.ElementTree(xml)\n",
    "xmlRoot = xmlTree.getroot()\n",
    "\n",
    "childNodes = xmlRoot.getchildren()\n",
    "\n",
    "print(len(childNodes))\n",
    "for childNode in childNodes:\n",
    "    print(childNode.tag, childNode.items())\n",
    "    \n",
    "#for childNode in "
   ]
  },
  {
   "cell_type": "code",
   "execution_count": 35,
   "metadata": {},
   "outputs": [],
   "source": [
    "xmlTree.write(\"book_tree.xml\")\n",
    "etree.ElementTree(xmlRoot).write(\"book_root.xml\")"
   ]
  },
  {
   "cell_type": "code",
   "execution_count": 36,
   "metadata": {},
   "outputs": [
    {
     "name": "stdout",
     "output_type": "stream",
     "text": [
      "<bookstore>\n",
      "  <book category=\"cooking\">\n",
      "    <title lang=\"en\">Everyday Italian</title>\n",
      "    <author>Giada De Laurentiis</author>\n",
      "    <year>2005</year>\n",
      "    <price>30.00</price>\n",
      "  </book>\n",
      "  <book category=\"children\">\n",
      "    <title lang=\"en\">Harry Potter</title>\n",
      "    <author>Giada De Laurentiis</author>\n",
      "    <year>2005</year>\n",
      "    <price>30.00</price>\n",
      "  </book>\n",
      "</bookstore>\n",
      "<bookstore>\n",
      "  <book category=\"cooking\">\n",
      "    <title lang=\"en\">Everyday Italian</title>\n",
      "    <author>Giada De Laurentiis</author>\n",
      "    <year>2005</year>\n",
      "    <price>30.00</price>\n",
      "  </book>\n",
      "  <book category=\"children\">\n",
      "    <title lang=\"en\">Harry Potter</title>\n",
      "    <author>Giada De Laurentiis</author>\n",
      "    <year>2005</year>\n",
      "    <price>30.00</price>\n",
      "  </book>\n",
      "</bookstore>\n"
     ]
    }
   ],
   "source": [
    "xmlTree = etree.parse(\"book_tree.xml\")\n",
    "xmlRoot = xmlTree.getroot()\n",
    "\n",
    "etree.dump(xmlRoot)\n",
    "\n",
    "xmlTree = etree.parse(\"book_root.xml\")\n",
    "xmlRoot = xmlTree.getroot()\n",
    "\n",
    "etree.dump(xmlRoot)"
   ]
  },
  {
   "cell_type": "code",
   "execution_count": null,
   "metadata": {},
   "outputs": [],
   "source": [
    "xmlObj = etree.fromstring(resStr)"
   ]
  }
 ],
 "metadata": {
  "kernelspec": {
   "display_name": "Python 3",
   "language": "python",
   "name": "python3"
  },
  "language_info": {
   "codemirror_mode": {
    "name": "ipython",
    "version": 3
   },
   "file_extension": ".py",
   "mimetype": "text/x-python",
   "name": "python",
   "nbconvert_exporter": "python",
   "pygments_lexer": "ipython3",
   "version": "3.7.3"
  }
 },
 "nbformat": 4,
 "nbformat_minor": 2
}
