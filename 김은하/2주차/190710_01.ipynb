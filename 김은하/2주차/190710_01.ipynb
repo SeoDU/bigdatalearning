{
 "cells": [
  {
   "cell_type": "markdown",
   "metadata": {},
   "source": [
    "a[.]{3,}b\n",
    "-> a...b"
   ]
  },
  {
   "cell_type": "markdown",
   "metadata": {},
   "source": [
    "word = \"\"\"\n",
    "park 010-9999-9988\n",
    "kim 010-9909-7789\n",
    "lee 010-8789-7768\n",
    "\"\"\"\n",
    "\n",
    "a-z,A-Z보다 A-Z,a-z가 나음 (아스키코드)\n"
   ]
  },
  {
   "cell_type": "code",
   "execution_count": 1,
   "metadata": {},
   "outputs": [],
   "source": [
    "import json"
   ]
  },
  {
   "cell_type": "code",
   "execution_count": 2,
   "metadata": {},
   "outputs": [],
   "source": [
    "# encoding : dump, dumps 파이썬 오브젝트를 제이슨 오브젝트로\n",
    "# decoding : load, loads 제이슨 오브젝트를 파이썬 오브젝트로\n",
    "# s가 붙고 안 붙고 : 메모리에 있는 변수를 그대로 바꿀 건지 파일에 있는 애를 바꿀 건지?\n",
    "\n",
    "name = (\"Kim\", \"Lee\", \"Park\")\n",
    "age = [30,28,31]\n",
    "person = {\"name\":\"Kim\", \"age\":30, \"car\":False}"
   ]
  },
  {
   "cell_type": "code",
   "execution_count": 9,
   "metadata": {},
   "outputs": [
    {
     "data": {
      "text/plain": [
       "'[\"Kim\", \"Lee\", \"Park\"]'"
      ]
     },
     "execution_count": 9,
     "metadata": {},
     "output_type": "execute_result"
    }
   ],
   "source": [
    "nameStr = json.dumps(name)\n",
    "ageStr = json.dumps(age) # dumps는 메모리에 있는 애들 작업\n",
    "personStr = json.dumps(person, indent=\"    \")\n",
    "# indent 옵션은 안 쓰는 게 좋음 <- 데이터를 최대한 줄여야 되기 때문에\n",
    "nameStr"
   ]
  },
  {
   "cell_type": "code",
   "execution_count": 10,
   "metadata": {},
   "outputs": [
    {
     "data": {
      "text/plain": [
       "'[30, 28, 31]'"
      ]
     },
     "execution_count": 10,
     "metadata": {},
     "output_type": "execute_result"
    }
   ],
   "source": [
    "ageStr"
   ]
  },
  {
   "cell_type": "code",
   "execution_count": 11,
   "metadata": {},
   "outputs": [
    {
     "data": {
      "text/plain": [
       "'{\\n    \"name\": \"Kim\",\\n    \"age\": 30,\\n    \"car\": [\\n        \"\\\\ub808\\\\uc774\",\\n        \"\\\\ubaa8\\\\ub2dd\"\\n    ]\\n}'"
      ]
     },
     "execution_count": 11,
     "metadata": {},
     "output_type": "execute_result"
    }
   ],
   "source": [
    "personStr"
   ]
  },
  {
   "cell_type": "code",
   "execution_count": 4,
   "metadata": {},
   "outputs": [
    {
     "name": "stdout",
     "output_type": "stream",
     "text": [
      "[\"\\uae40\", \"\\uc774\", \"\\ubc15\"]\n",
      "[\"김\", \"이\", \"박\"]\n"
     ]
    }
   ],
   "source": [
    "kname = (\"김\", \"이\", \"박\")\n",
    "knameStr = json.dumps(kname)\n",
    "print(knameStr)\n",
    "\n",
    "knameStr = json.dumps(kname, ensure_ascii = False) # 한글은 유니코드체계니까\n",
    "print(knameStr)"
   ]
  },
  {
   "cell_type": "markdown",
   "metadata": {},
   "source": [
    "위의 것은 아스키로 들어가서 잘못 변환됨"
   ]
  },
  {
   "cell_type": "code",
   "execution_count": 5,
   "metadata": {},
   "outputs": [
    {
     "data": {
      "text/plain": [
       "True"
      ]
     },
     "execution_count": 5,
     "metadata": {},
     "output_type": "execute_result"
    }
   ],
   "source": [
    "personObj = json.loads(personStr)\n",
    "person == personObj"
   ]
  },
  {
   "cell_type": "code",
   "execution_count": 12,
   "metadata": {},
   "outputs": [
    {
     "data": {
      "text/plain": [
       "False"
      ]
     },
     "execution_count": 12,
     "metadata": {},
     "output_type": "execute_result"
    }
   ],
   "source": [
    "personObj == personStr"
   ]
  },
  {
   "cell_type": "code",
   "execution_count": 13,
   "metadata": {},
   "outputs": [
    {
     "data": {
      "text/plain": [
       "{'name': 'Kim', 'age': 30, 'car': ['레이', '모닝']}"
      ]
     },
     "execution_count": 13,
     "metadata": {},
     "output_type": "execute_result"
    }
   ],
   "source": [
    "personObj"
   ]
  },
  {
   "cell_type": "code",
   "execution_count": 14,
   "metadata": {},
   "outputs": [
    {
     "data": {
      "text/plain": [
       "{'name': 'Kim', 'age': 30, 'car': ['레이', '모닝']}"
      ]
     },
     "execution_count": 14,
     "metadata": {},
     "output_type": "execute_result"
    }
   ],
   "source": [
    "person"
   ]
  },
  {
   "cell_type": "code",
   "execution_count": null,
   "metadata": {},
   "outputs": [],
   "source": []
  },
  {
   "cell_type": "code",
   "execution_count": 7,
   "metadata": {},
   "outputs": [],
   "source": [
    "person[\"car\"] = [\"레이\", \"모닝\"]\n",
    "\n",
    "with open(\"person.json\", \"w\") as f:\n",
    "    json.dump(person, f)\n",
    "    # 파일에 쓰고 (dump not dumps)\n",
    "    # 사실 스트링이기 때문에 확장자를 txt라고 써도 상관없음"
   ]
  },
  {
   "cell_type": "code",
   "execution_count": 8,
   "metadata": {},
   "outputs": [
    {
     "data": {
      "text/plain": [
       "{'name': 'Kim', 'age': 30, 'car': ['레이', '모닝']}"
      ]
     },
     "execution_count": 8,
     "metadata": {},
     "output_type": "execute_result"
    }
   ],
   "source": [
    "with open(\"person.json\", \"r\") as f:\n",
    "    personObj = json.load(f)\n",
    "    # 가져와서 (load not loads) personObj에 저장\n",
    "personObj"
   ]
  },
  {
   "cell_type": "code",
   "execution_count": null,
   "metadata": {},
   "outputs": [],
   "source": []
  }
 ],
 "metadata": {
  "kernelspec": {
   "display_name": "Python 3",
   "language": "python",
   "name": "python3"
  },
  "language_info": {
   "codemirror_mode": {
    "name": "ipython",
    "version": 3
   },
   "file_extension": ".py",
   "mimetype": "text/x-python",
   "name": "python",
   "nbconvert_exporter": "python",
   "pygments_lexer": "ipython3",
   "version": "3.7.3"
  }
 },
 "nbformat": 4,
 "nbformat_minor": 2
}
