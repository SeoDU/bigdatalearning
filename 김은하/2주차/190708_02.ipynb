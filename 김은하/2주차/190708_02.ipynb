{
 "cells": [
  {
   "cell_type": "code",
   "execution_count": 1,
   "metadata": {},
   "outputs": [],
   "source": [
    "import sqlite3"
   ]
  },
  {
   "cell_type": "code",
   "execution_count": 2,
   "metadata": {},
   "outputs": [
    {
     "name": "stdout",
     "output_type": "stream",
     "text": [
      "Opened database seccessfully\n",
      "Table created successfully\n"
     ]
    }
   ],
   "source": [
    "conn = sqlite3.connect('create.db')\n",
    "print(\"Opened database seccessfully\")\n",
    "\n",
    "cur = conn.cursor()\n",
    "\n",
    "cur.execute('''\n",
    "    CREATE TABLE COMPANY(\n",
    "        ID INT PRIMARY KEY NOT NULL,\n",
    "        NAME TEXT NOT NULL,\n",
    "        AGE INT NOT NULL,\n",
    "        ADDRESS CHAR(50),\n",
    "        SALARY REAL);\n",
    "    ''')\n",
    "print(\"Table created successfully\")"
   ]
  },
  {
   "cell_type": "code",
   "execution_count": 3,
   "metadata": {},
   "outputs": [
    {
     "data": {
      "text/plain": [
       "(1, 1)"
      ]
     },
     "execution_count": 3,
     "metadata": {},
     "output_type": "execute_result"
    }
   ],
   "source": [
    "cur.execute(\"INSERT INTO COMPANY (ID,NAME,AGE,ADDRESS,SALARY) VALUES (1, 'Paul', 32, 'California', 20000.00)\");\n",
    "cur.lastrowid, conn.total_changes"
   ]
  },
  {
   "cell_type": "code",
   "execution_count": 5,
   "metadata": {},
   "outputs": [],
   "source": [
    "conn.commit()"
   ]
  },
  {
   "cell_type": "markdown",
   "metadata": {},
   "source": [
    "어느 정도 transaction으로 묶어 놓고 다 끝날 때까지 기다린 다음 commit 해야 일관성 문제 해결.  \n",
    "문제 생기면 롤백"
   ]
  },
  {
   "cell_type": "code",
   "execution_count": 6,
   "metadata": {},
   "outputs": [],
   "source": [
    "cur.execute(\"INSERT INTO COMPANY (ID,NAME,AGE,ADDRESS,SALARY) VALUES (:id, :name, :age, :address, :salary)\",\n",
    "            {'id':2, 'name':'Allen', 'age':25, 'address':'Texas', 'salary':15000.00});\n",
    "data = [(3,'Teddy',23,'Norway',20000.00),\n",
    "       (4, 'Mark',25,'Rich-Mond',65000.00)]\n",
    "cur.executemany(\"INSERT INTO COMPANY (ID, NAME, AGE, ADDRESS, SALARY) VALUES (?,?,?,?,?)\",data);"
   ]
  },
  {
   "cell_type": "code",
   "execution_count": 7,
   "metadata": {},
   "outputs": [
    {
     "data": {
      "text/plain": [
       "(2, 4)"
      ]
     },
     "execution_count": 7,
     "metadata": {},
     "output_type": "execute_result"
    }
   ],
   "source": [
    "cur.lastrowid, conn.total_changes"
   ]
  },
  {
   "cell_type": "code",
   "execution_count": 8,
   "metadata": {},
   "outputs": [],
   "source": [
    "conn.commit()"
   ]
  },
  {
   "cell_type": "code",
   "execution_count": 20,
   "metadata": {},
   "outputs": [
    {
     "ename": "IntegrityError",
     "evalue": "UNIQUE constraint failed: COMPANY.ID",
     "output_type": "error",
     "traceback": [
      "\u001b[0;31m---------------------------------------------------------------------------\u001b[0m",
      "\u001b[0;31mIntegrityError\u001b[0m                            Traceback (most recent call last)",
      "\u001b[0;32m<ipython-input-20-70673f199f4d>\u001b[0m in \u001b[0;36m<module>\u001b[0;34m\u001b[0m\n\u001b[1;32m      5\u001b[0m     \u001b[0mINSERT\u001b[0m \u001b[0mINTO\u001b[0m \u001b[0mCOMPANY\u001b[0m \u001b[0;34m(\u001b[0m\u001b[0mID\u001b[0m\u001b[0;34m,\u001b[0m \u001b[0mNAME\u001b[0m\u001b[0;34m,\u001b[0m \u001b[0mAGE\u001b[0m\u001b[0;34m,\u001b[0m \u001b[0mADDRESS\u001b[0m\u001b[0;34m,\u001b[0m \u001b[0mSALARY\u001b[0m\u001b[0;34m)\u001b[0m\u001b[0;34m\u001b[0m\u001b[0;34m\u001b[0m\u001b[0m\n\u001b[1;32m      6\u001b[0m     \u001b[0mVALUES\u001b[0m \u001b[0;34m(\u001b[0m\u001b[0;36m6\u001b[0m\u001b[0;34m,\u001b[0m \u001b[0;34m'Mark2'\u001b[0m\u001b[0;34m,\u001b[0m \u001b[0;36m25\u001b[0m\u001b[0;34m,\u001b[0m \u001b[0;34m'Rich-Mond'\u001b[0m\u001b[0;34m,\u001b[0m \u001b[0;36m65000.00\u001b[0m\u001b[0;34m)\u001b[0m\u001b[0;34m;\u001b[0m\u001b[0;34m\u001b[0m\u001b[0;34m\u001b[0m\u001b[0m\n\u001b[0;32m----> 7\u001b[0;31m     \"\"\");\n\u001b[0m",
      "\u001b[0;31mIntegrityError\u001b[0m: UNIQUE constraint failed: COMPANY.ID"
     ]
    }
   ],
   "source": [
    "cur.executescript(\"\"\"\n",
    "    INSERT INTO COMPANY (ID, NAME, AGE, ADDRESS, SALARY)\n",
    "    VALUES (5, 'Mark1', 25, 'Rich-Mond', 65000.00);\n",
    "    \n",
    "    INSERT INTO COMPANY (ID, NAME, AGE, ADDRESS, SALARY)\n",
    "    VALUES (6, 'Mark2', 25, 'Rich-Mond', 65000.00);\n",
    "    \"\"\");"
   ]
  },
  {
   "cell_type": "markdown",
   "metadata": {},
   "source": [
    "알아서 커밋"
   ]
  },
  {
   "cell_type": "code",
   "execution_count": 11,
   "metadata": {},
   "outputs": [
    {
     "data": {
      "text/plain": [
       "(2, 6)"
      ]
     },
     "execution_count": 11,
     "metadata": {},
     "output_type": "execute_result"
    }
   ],
   "source": [
    "cur.lastrowid, conn.total_changes"
   ]
  },
  {
   "cell_type": "code",
   "execution_count": 16,
   "metadata": {},
   "outputs": [
    {
     "data": {
      "text/plain": [
       "[(1, 'Paul', 32, 'California', 20000.0),\n",
       " (2, 'Allen', 25, 'Texas', 15000.0),\n",
       " (3, 'Teddy', 23, 'Norway', 20000.0),\n",
       " (4, 'Mark', 25, 'Rich-Mond', 65000.0),\n",
       " (5, 'Mark1', 25, 'Rich-Mond', 65000.0),\n",
       " (6, 'Mark2', 25, 'Rich-Mond', 65000.0)]"
      ]
     },
     "execution_count": 16,
     "metadata": {},
     "output_type": "execute_result"
    }
   ],
   "source": [
    "cur.execute('select * from company')\n",
    "cur.fetchall()"
   ]
  },
  {
   "cell_type": "code",
   "execution_count": 17,
   "metadata": {},
   "outputs": [
    {
     "name": "stdout",
     "output_type": "stream",
     "text": [
      "(1, 'Paul', 32, 'California', 20000.0)\n",
      "(2, 'Allen', 25, 'Texas', 15000.0)\n",
      "(3, 'Teddy', 23, 'Norway', 20000.0)\n",
      "(4, 'Mark', 25, 'Rich-Mond', 65000.0)\n",
      "(5, 'Mark1', 25, 'Rich-Mond', 65000.0)\n",
      "(6, 'Mark2', 25, 'Rich-Mond', 65000.0)\n"
     ]
    }
   ],
   "source": [
    "cur.execute('select * from company')\n",
    "for row in cur:\n",
    "    print(row)"
   ]
  },
  {
   "cell_type": "code",
   "execution_count": 18,
   "metadata": {},
   "outputs": [
    {
     "data": {
      "text/plain": [
       "tuple"
      ]
     },
     "execution_count": 18,
     "metadata": {},
     "output_type": "execute_result"
    }
   ],
   "source": [
    "type(row)"
   ]
  },
  {
   "cell_type": "code",
   "execution_count": 19,
   "metadata": {},
   "outputs": [
    {
     "data": {
      "text/plain": [
       "<sqlite3.Cursor at 0x112df6c70>"
      ]
     },
     "execution_count": 19,
     "metadata": {},
     "output_type": "execute_result"
    }
   ],
   "source": [
    "cid = 1\n",
    "\n",
    "cur.execute(\"UPDATE COMPANY set SALARY = 25000.00 where ID = :id\", {'id':cid})"
   ]
  },
  {
   "cell_type": "code",
   "execution_count": 21,
   "metadata": {},
   "outputs": [],
   "source": [
    "conn.commit()"
   ]
  },
  {
   "cell_type": "code",
   "execution_count": 22,
   "metadata": {},
   "outputs": [
    {
     "name": "stdout",
     "output_type": "stream",
     "text": [
      "Total number of rows updated :  7\n"
     ]
    }
   ],
   "source": [
    "print(\"Total number of rows updated : \", conn.total_changes)"
   ]
  },
  {
   "cell_type": "code",
   "execution_count": 24,
   "metadata": {},
   "outputs": [
    {
     "name": "stdout",
     "output_type": "stream",
     "text": [
      "(1, 'Paul', 'California', 25000.0)\n",
      "(2, 'Allen', 'Texas', 15000.0)\n",
      "(3, 'Teddy', 'Norway', 20000.0)\n",
      "(4, 'Mark', 'Rich-Mond', 65000.0)\n",
      "(5, 'Mark1', 'Rich-Mond', 65000.0)\n",
      "(6, 'Mark2', 'Rich-Mond', 65000.0)\n"
     ]
    }
   ],
   "source": [
    "cur.execute(\"SELECT id, name, address, salary from COMPANY\")\n",
    "for row in cur:\n",
    "    print(row)"
   ]
  },
  {
   "cell_type": "code",
   "execution_count": 25,
   "metadata": {},
   "outputs": [
    {
     "name": "stdout",
     "output_type": "stream",
     "text": [
      "Total number of rows deleted :  8\n"
     ]
    }
   ],
   "source": [
    "cur.execute(\"DELETE from COMPANY where ID = 2;\")\n",
    "\n",
    "print(\"Total number of rows deleted : \", conn.total_changes)"
   ]
  },
  {
   "cell_type": "markdown",
   "metadata": {},
   "source": [
    "ORM으로 넘어가면 자동으로 커밋시켜줌"
   ]
  },
  {
   "cell_type": "code",
   "execution_count": 26,
   "metadata": {},
   "outputs": [
    {
     "name": "stdout",
     "output_type": "stream",
     "text": [
      "(1, 'Paul', 'California', 25000.0)\n",
      "(3, 'Teddy', 'Norway', 20000.0)\n",
      "(4, 'Mark', 'Rich-Mond', 65000.0)\n",
      "(5, 'Mark1', 'Rich-Mond', 65000.0)\n",
      "(6, 'Mark2', 'Rich-Mond', 65000.0)\n"
     ]
    }
   ],
   "source": [
    "cur.execute(\"SELECT id, name, address, salary from COMPANY\")\n",
    "for row in cur:\n",
    "    print(row)"
   ]
  },
  {
   "cell_type": "code",
   "execution_count": 27,
   "metadata": {},
   "outputs": [],
   "source": [
    "conn.commit()"
   ]
  },
  {
   "cell_type": "markdown",
   "metadata": {},
   "source": [
    "하나의 db에 connection을 여러개 열면 lock걸림 -> try except finally 구문으로 error handling"
   ]
  },
  {
   "cell_type": "markdown",
   "metadata": {},
   "source": [
    "with conn: 으로 하면 자동적으로 conn.close() 된다"
   ]
  },
  {
   "cell_type": "markdown",
   "metadata": {},
   "source": [
    "dump되면 textfile이 하나 생기는데 그 텍스트파일 안에는 sql 문"
   ]
  },
  {
   "cell_type": "code",
   "execution_count": 28,
   "metadata": {},
   "outputs": [
    {
     "data": {
      "text/plain": [
       "<sqlite3.Cursor at 0x112df6c70>"
      ]
     },
     "execution_count": 28,
     "metadata": {},
     "output_type": "execute_result"
    }
   ],
   "source": [
    "cur.executescript('''\n",
    "    CREATE TABLE ARTIST(\n",
    "        id INTEGER NOT NULL PRIMARY kEY AUTOINCREMENT UNIQUE,\n",
    "        name TEXT NOT NULL);\n",
    "    create table GENRE(\n",
    "        id INTEGER NOT NULL PRIMARY kEY AUTOINCREMENT UNIQUE,\n",
    "        name TEXT NOT NULL);\n",
    "    create table ALBUM(\n",
    "        id INTEGER NOT NULL PRIMARY kEY AUTOINCREMENT UNIQUE,\n",
    "        title TEXT NOT NULL,\n",
    "        artist_id INTEGER NOT NULL);\n",
    "    ''')"
   ]
  },
  {
   "cell_type": "code",
   "execution_count": 30,
   "metadata": {},
   "outputs": [
    {
     "data": {
      "text/plain": [
       "<sqlite3.Cursor at 0x112df6c70>"
      ]
     },
     "execution_count": 30,
     "metadata": {},
     "output_type": "execute_result"
    }
   ],
   "source": [
    "cur.executescript('''\n",
    "    CREATE TABLE Track(\n",
    "        id INTEGER NOT NULL PRIMARY KEY AUTOINCREMENT UNIQUE,\n",
    "        title TEXT,\n",
    "        length INTEGER,\n",
    "        rating INTEGER,\n",
    "        count INTEGER,\n",
    "        album_id INTEGER,\n",
    "        genre_id INTEGER);\n",
    "    insert into ARTIST (name) values ('Led Zepplin');\n",
    "    insert into ARTIST (name) values ('AC/DC');\n",
    "    insert into GENRE (name) values ('Rock');\n",
    "    insert into GENRE (name) values ('Metal');\n",
    "    ''')"
   ]
  },
  {
   "cell_type": "code",
   "execution_count": 34,
   "metadata": {},
   "outputs": [
    {
     "data": {
      "text/plain": [
       "<sqlite3.Cursor at 0x112df6c70>"
      ]
     },
     "execution_count": 34,
     "metadata": {},
     "output_type": "execute_result"
    }
   ],
   "source": [
    "cur.execute(\"\"\"\n",
    "    INSERT into album (title, artist_id)\n",
    "    VALUES(:album,\n",
    "    (SELECT id\n",
    "    FROM artist \n",
    "    WHERE name=:artist))\n",
    "    \"\"\", {\"album\": \"thisalbum\", \"artist\":'Led Zepplin'})"
   ]
  },
  {
   "cell_type": "code",
   "execution_count": 35,
   "metadata": {},
   "outputs": [],
   "source": [
    "conn.commit()"
   ]
  },
  {
   "cell_type": "code",
   "execution_count": 36,
   "metadata": {},
   "outputs": [
    {
     "data": {
      "text/plain": [
       "<sqlite3.Cursor at 0x112df6c70>"
      ]
     },
     "execution_count": 36,
     "metadata": {},
     "output_type": "execute_result"
    }
   ],
   "source": [
    "cur.executescript(\n",
    "\"\"\"\n",
    "insert into ALBUM (title, artist_id) values ('Who Made Who', 2);\n",
    "insert into ALBUM (title, artist_id) values ('IV', 1);\n",
    "insert into track (title, rating, length, count, album_id, genre_id) values ('Black Dog', 5, 297, 0, 2, 1);\n",
    "insert into track (title, rating, length, count, album_id, genre_id) values ('Stairway', 5, 482, 0, 2, 1);\n",
    "insert into track (title, rating, length, count, album_id, genre_id) values ('About to Rock', 5, 313, 0, 1, 2);\n",
    "insert into track (title, rating, length, count, album_id, genre_id) values ('Who Made Who', 5, 207, 0, 1, 2);\n",
    "\"\"\")"
   ]
  },
  {
   "cell_type": "code",
   "execution_count": 38,
   "metadata": {},
   "outputs": [
    {
     "name": "stdout",
     "output_type": "stream",
     "text": [
      "(1, 'thisalbum', 1)\n",
      "(2, 'Who Made Who', 2)\n",
      "(3, 'IV', 1)\n"
     ]
    }
   ],
   "source": [
    "cur.execute(\"SELECT * from album\")\n",
    "for row in cur:\n",
    "    print(row)"
   ]
  },
  {
   "cell_type": "code",
   "execution_count": 39,
   "metadata": {},
   "outputs": [],
   "source": [
    "cur = conn.cursor()"
   ]
  },
  {
   "cell_type": "code",
   "execution_count": 40,
   "metadata": {},
   "outputs": [
    {
     "name": "stdout",
     "output_type": "stream",
     "text": [
      "(1, 'thisalbum', 1)\n",
      "(2, 'Who Made Who', 2)\n",
      "(3, 'IV', 1)\n"
     ]
    }
   ],
   "source": [
    "cur.execute(\"SELECT * from album\")\n",
    "for row in cur:\n",
    "    print(row)"
   ]
  },
  {
   "cell_type": "code",
   "execution_count": 41,
   "metadata": {},
   "outputs": [
    {
     "data": {
      "text/plain": [
       "<sqlite3.Cursor at 0x1131b6c00>"
      ]
     },
     "execution_count": 41,
     "metadata": {},
     "output_type": "execute_result"
    }
   ],
   "source": [
    "cur.execute('drop table album')"
   ]
  },
  {
   "cell_type": "code",
   "execution_count": 42,
   "metadata": {},
   "outputs": [
    {
     "data": {
      "text/plain": [
       "<sqlite3.Cursor at 0x1131b6c00>"
      ]
     },
     "execution_count": 42,
     "metadata": {},
     "output_type": "execute_result"
    }
   ],
   "source": [
    "cur.execute(\"\"\"\n",
    "        create table ALBUM(\n",
    "        id INTEGER NOT NULL PRIMARY kEY AUTOINCREMENT UNIQUE,\n",
    "        title TEXT NOT NULL,\n",
    "        artist_id INTEGER NOT NULL);\n",
    "        \"\"\")"
   ]
  },
  {
   "cell_type": "code",
   "execution_count": 44,
   "metadata": {},
   "outputs": [
    {
     "data": {
      "text/plain": [
       "<sqlite3.Cursor at 0x1131b6c00>"
      ]
     },
     "execution_count": 44,
     "metadata": {},
     "output_type": "execute_result"
    }
   ],
   "source": [
    "cur.executescript(\"\"\"\n",
    "insert into ALBUM (title, artist_id) values ('Who Made Who', 2);\n",
    "insert into ALBUM (title, artist_id) values ('IV', 1);\"\"\")"
   ]
  },
  {
   "cell_type": "code",
   "execution_count": 45,
   "metadata": {},
   "outputs": [
    {
     "name": "stdout",
     "output_type": "stream",
     "text": [
      "(1, 'Who Made Who', 2)\n",
      "(2, 'IV', 1)\n"
     ]
    }
   ],
   "source": [
    "cur.execute(\"SELECT * from album\")\n",
    "for row in cur:\n",
    "    print(row)"
   ]
  },
  {
   "cell_type": "code",
   "execution_count": 46,
   "metadata": {},
   "outputs": [
    {
     "name": "stdout",
     "output_type": "stream",
     "text": [
      "('Who Made Who', 'AC/DC')\n",
      "('IV', 'Led Zepplin')\n"
     ]
    }
   ],
   "source": [
    "cur.execute(\n",
    "\"\"\"\n",
    "select album.title, artist.name\n",
    "from album\n",
    "join artist on album.artist_id = artist.id;\n",
    "\"\"\")\n",
    "for row in cur:\n",
    "    print(row)"
   ]
  },
  {
   "cell_type": "code",
   "execution_count": 49,
   "metadata": {},
   "outputs": [
    {
     "name": "stdout",
     "output_type": "stream",
     "text": [
      "('Black Dog', 'Rock')\n",
      "('Stairway', 'Rock')\n",
      "('About to Rock', 'Metal')\n",
      "('Who Made Who', 'Metal')\n"
     ]
    }
   ],
   "source": [
    "cur.execute(\n",
    "\"\"\"\n",
    "select track.title, genre.name\n",
    "from track\n",
    "join genre on track.genre_id = genre.id;\n",
    "\"\"\")\n",
    "for row in cur:\n",
    "    print(row)"
   ]
  },
  {
   "cell_type": "code",
   "execution_count": 50,
   "metadata": {},
   "outputs": [
    {
     "name": "stdout",
     "output_type": "stream",
     "text": [
      "('IV', 'Black Dog')\n",
      "('IV', 'Stairway')\n",
      "('Who Made Who', 'About to Rock')\n",
      "('Who Made Who', 'Who Made Who')\n"
     ]
    }
   ],
   "source": [
    "cur.execute(\n",
    "\"\"\"\n",
    "select album.title, track.title\n",
    "from track\n",
    "join album\n",
    "on track.album_id = album.id;\n",
    "\"\"\")\n",
    "for row in cur:\n",
    "    print(row)"
   ]
  },
  {
   "cell_type": "code",
   "execution_count": 51,
   "metadata": {},
   "outputs": [
    {
     "name": "stdout",
     "output_type": "stream",
     "text": [
      "(1, 'Black Dog', 297, 5, 0, 2, 1, 2, 'IV', 1)\n",
      "(2, 'Stairway', 482, 5, 0, 2, 1, 2, 'IV', 1)\n",
      "(3, 'About to Rock', 313, 5, 0, 1, 2, 1, 'Who Made Who', 2)\n",
      "(4, 'Who Made Who', 207, 5, 0, 1, 2, 1, 'Who Made Who', 2)\n"
     ]
    }
   ],
   "source": [
    "cur.execute(\n",
    "\"\"\"\n",
    "select *\n",
    "from track\n",
    "join album\n",
    "on track.album_id = album.id;\n",
    "\"\"\")\n",
    "for row in cur:\n",
    "    print(row)"
   ]
  },
  {
   "cell_type": "code",
   "execution_count": 53,
   "metadata": {},
   "outputs": [
    {
     "name": "stdout",
     "output_type": "stream",
     "text": [
      "('Black Dog', 'Led Zepplin', 'IV', 'Rock')\n",
      "('Stairway', 'Led Zepplin', 'IV', 'Rock')\n",
      "('About to Rock', 'AC/DC', 'Who Made Who', 'Metal')\n",
      "('Who Made Who', 'AC/DC', 'Who Made Who', 'Metal')\n"
     ]
    }
   ],
   "source": [
    "cur.execute(\n",
    "\"\"\"\n",
    "select track.title, artist.name, album.title, genre.name\n",
    "from track\n",
    "join artist join album join genre\n",
    "on track.album_id = album.id\n",
    "    and track.genre_id = genre.id\n",
    "    and album.artist_id = artist.id;\n",
    "\"\"\")\n",
    "for row in cur:\n",
    "    print(row)"
   ]
  },
  {
   "cell_type": "code",
   "execution_count": null,
   "metadata": {},
   "outputs": [],
   "source": []
  }
 ],
 "metadata": {
  "kernelspec": {
   "display_name": "Python 3",
   "language": "python",
   "name": "python3"
  },
  "language_info": {
   "codemirror_mode": {
    "name": "ipython",
    "version": 3
   },
   "file_extension": ".py",
   "mimetype": "text/x-python",
   "name": "python",
   "nbconvert_exporter": "python",
   "pygments_lexer": "ipython3",
   "version": "3.7.3"
  }
 },
 "nbformat": 4,
 "nbformat_minor": 2
}
