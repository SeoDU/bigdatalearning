{
 "cells": [
  {
   "cell_type": "code",
   "execution_count": 1,
   "metadata": {},
   "outputs": [
    {
     "name": "stdout",
     "output_type": "stream",
     "text": [
      "3\n"
     ]
    }
   ],
   "source": [
    "a = input()"
   ]
  },
  {
   "cell_type": "code",
   "execution_count": 2,
   "metadata": {},
   "outputs": [],
   "source": [
    "a = int(a)"
   ]
  },
  {
   "cell_type": "markdown",
   "metadata": {},
   "source": [
    "절차적 프로그래밍"
   ]
  },
  {
   "cell_type": "code",
   "execution_count": 3,
   "metadata": {},
   "outputs": [
    {
     "name": "stdout",
     "output_type": "stream",
     "text": [
      "3\n"
     ]
    }
   ],
   "source": [
    "a = int(input()) #input의 결과값이 또다른 함수에 들어감!"
   ]
  },
  {
   "cell_type": "markdown",
   "metadata": {},
   "source": [
    "합성함수. \n",
    "f(x) -> g(x) ...g(f(x))"
   ]
  },
  {
   "cell_type": "markdown",
   "metadata": {},
   "source": [
    "함수형 프로그래밍에서는 값을 정확하게 알 수 있어야 한다! (기준)  \n",
    "= 같은 input에 대해 항상 똑같은 output이 산출되어야 한다.  \n",
    "수학적 증명 가능성; 정의역에서 어떤 값을 넣으면 치역에 대응되어야 한다.  \n",
    "input과 output이 일대일로 매칭되어야!  \n",
    "\n",
    "a = int(input()) 은 정확하게 말하면 함수형 패러다임이라고 할 수 없음 <- input()에 인자가 없기 때문에  \n",
    "정의역이 여러개...한꺼번에 처리해주는 데에 효율적  \n",
    "최초의 인공지능언어 : 1950년도 LISP...list프로그래밍.  \n",
    "함수는 각각 모듈화할 수 있기 때문에 멀티프로세싱이 가능"
   ]
  },
  {
   "cell_type": "markdown",
   "metadata": {},
   "source": [
    "함수형 프로그래밍은 함수들의 세트로 문제를 분해합니다.  \n",
    "함수들은 입력을 받아서 출력을 만들어내기만 하며, 주어진 입력에 대해 생성된 출력에 영향을 끼칠만한 어떠한 내부적인 상태도 가지지 않습니다."
   ]
  },
  {
   "cell_type": "code",
   "execution_count": 5,
   "metadata": {},
   "outputs": [],
   "source": [
    "import time\n",
    "def x(a = time.time()):\n",
    "    return a"
   ]
  },
  {
   "cell_type": "code",
   "execution_count": 6,
   "metadata": {},
   "outputs": [
    {
     "data": {
      "text/plain": [
       "1562116755.342011"
      ]
     },
     "execution_count": 6,
     "metadata": {},
     "output_type": "execute_result"
    }
   ],
   "source": [
    "time.time()"
   ]
  },
  {
   "cell_type": "markdown",
   "metadata": {},
   "source": [
    "나노시간 측정...칠 때마다 변화!   \n",
    "내부상태가 변하는 것을 쓰면 함수의 상태를 예측할 수 없다.  \n",
    "이 경우 함수형 프로그래밍 방식이 아니다."
   ]
  },
  {
   "cell_type": "markdown",
   "metadata": {},
   "source": [
    "잘 알려진 함수형 언어로는 ML 계열(Standard ML, OCaml 및 다른 변형)과 하스켈이 있습니다.  \n",
    "파이썬 역시 하스켈의 영향을 많이 받음.  \n",
    "객체 말고 다 함수로 만드는데, 함수가 수학적으로 흔히 말하는 함수인 함수로 프로그래밍하는 방식  \n",
    "즉 수학적으로 맞아야 한다...어려움  \n",
    "\n",
    "왜 파이썬인가?\n",
    "첫 번째 이유 : 멀티 패러다임  \n",
    "    파이썬은 다양한 방법을 가지고 있다.  \n",
    "    일부 컴퓨터 언어의 설계자들은 프로그래밍에 대한 한 가지의 특별한 접근 방식을 강조. \n",
    "    파이썬은 문제 해결 방식은 다양할 수 있다는 신념  \n",
    "    -> 객체지향을 기본으로 했지만 함수형 패러다임 역시 지원. \n",
    "    \n",
    "입력은 함수의 세트를 통해 흘러 다닌다.\n",
    "\n",
    "부작용 (side effect); 원하는 결과값이 나오지 않음\n",
    "부작용이 전혀 없는 함수를 순수 함수 라고 합니다.  \n",
    "print()나 time.time()은 함수형 패러다임에서 쓰면 안 되는 것.  \n",
    "순수성에 대해 엄격?  \n",
    "함수형 패러다임의 순수성은 가장 엄격하다.  \n",
    "수학적으로 증명이 안 되면 못 쓴다.  \n",
    "but *__파이썬은 순수한 함수형 패러다임 언어가 아님!__*  \n",
    "        기본 객체지향에 함수형 패러다임을 지원해주는 언어 -> 순수하게 만들 수 없다  \n",
    "        -> 일부러 함수형 패러다임에 집착할 이유가 없다.  \n",
    "        \n",
    "파이썬은 기본적으로 객체지향!  \n",
    "그런데 객체지향으로 문제를 해결하기 어려울 때 함수형 패러다임을 추가지원!  \n",
    "그 추가지원을 파이썬 입장에서 유용한 부분만 도입한 것  \n",
    "이런 방식으로 하면 효율성이 떨어진다 할 때 함수형 패러다임을 가지고 와서 쓰면 됨.  \n",
    "\n",
    "### 형식적 증명 가능성\n",
    "### 모듈성(encapsulation, modularity) \n",
    "    -> 그 함수만 잘 만들면 다른 함수와 합성시킬 수 있다!\n",
    "    -> 만들기가 어렵지 디버깅과 테스팅은 편하다!\n",
    "### 결합성\n",
    "    합성함수"
   ]
  },
  {
   "cell_type": "markdown",
   "metadata": {},
   "source": [
    "## 이터레이터"
   ]
  },
  {
   "cell_type": "code",
   "execution_count": 7,
   "metadata": {},
   "outputs": [
    {
     "name": "stdout",
     "output_type": "stream",
     "text": [
      "1\n",
      "2\n",
      "3\n"
     ]
    }
   ],
   "source": [
    "#iterable : 순회 가능한 애\n",
    "#               iterator가 될 수 있는 애 (for에 하나하나씩 돌아갈 수 있음)\n",
    "for i in [1,2,3]:\n",
    "    print(i)\n",
    "#내부적으로...iterator : 전체 중에서 하나씩 뽑아낸다!\n",
    "#iterable이 for 안에 들어가면 iterator로 바뀐다!\n",
    "#이터레이터가 한 개씩 뽑아가서 i로 대체됨"
   ]
  },
  {
   "cell_type": "code",
   "execution_count": 8,
   "metadata": {},
   "outputs": [],
   "source": [
    "a = [1,2,3]"
   ]
  },
  {
   "cell_type": "code",
   "execution_count": 9,
   "metadata": {},
   "outputs": [],
   "source": [
    "b = iter(a)"
   ]
  },
  {
   "cell_type": "code",
   "execution_count": 10,
   "metadata": {},
   "outputs": [
    {
     "data": {
      "text/plain": [
       "list_iterator"
      ]
     },
     "execution_count": 10,
     "metadata": {},
     "output_type": "execute_result"
    }
   ],
   "source": [
    "type(b)"
   ]
  },
  {
   "cell_type": "markdown",
   "metadata": {},
   "source": [
    "list_iterator!\n",
    "iter()함수에 넣어서 iterator로 변신시키면 그 다음부터 next()함수를 실행가능"
   ]
  },
  {
   "cell_type": "code",
   "execution_count": 14,
   "metadata": {},
   "outputs": [
    {
     "ename": "StopIteration",
     "evalue": "",
     "output_type": "error",
     "traceback": [
      "\u001b[0;31m---------------------------------------------------------------------------\u001b[0m",
      "\u001b[0;31mStopIteration\u001b[0m                             Traceback (most recent call last)",
      "\u001b[0;32m<ipython-input-14-adb3e17b0219>\u001b[0m in \u001b[0;36m<module>\u001b[0;34m\u001b[0m\n\u001b[0;32m----> 1\u001b[0;31m \u001b[0mnext\u001b[0m\u001b[0;34m(\u001b[0m\u001b[0mb\u001b[0m\u001b[0;34m)\u001b[0m\u001b[0;34m\u001b[0m\u001b[0;34m\u001b[0m\u001b[0m\n\u001b[0m",
      "\u001b[0;31mStopIteration\u001b[0m: "
     ]
    }
   ],
   "source": [
    "next(b)"
   ]
  },
  {
   "cell_type": "markdown",
   "metadata": {},
   "source": [
    "원소값보다 많이 next()를 호출하면 StopIteration error!"
   ]
  },
  {
   "cell_type": "markdown",
   "metadata": {},
   "source": [
    "장점?  \n",
    "하나씩 뽑는 건 장점이 아니고 기능일 뿐  \n",
    "Lazy한 장점!  \n",
    "Lazy : 실행될 때 (즉 실행되기 전까진 메모리상에 올리지 않음) 메모리에 하나씩 뽑아서 올려준다!  \n",
    "    데이터가 엄청나게 큰 애를 메모리를 한꺼번에 올리면 overflow!  \n",
    "    -> 메모리 효율성이 올라감! next()할 때 메모리에 올라간다  \n",
    "        그 대신 속도는 약간 느리다  \n",
    "        파이썬에서는 속도를 향상시키기 위해서 내부적으로 최적화되어 있음  \n",
    "    -> Lazy기법을 쓰지만 속도까지 좋다!  "
   ]
  },
  {
   "cell_type": "code",
   "execution_count": 15,
   "metadata": {},
   "outputs": [
    {
     "data": {
      "text/plain": [
       "<list_iterator at 0x104ca2d30>"
      ]
     },
     "execution_count": 15,
     "metadata": {},
     "output_type": "execute_result"
    }
   ],
   "source": [
    "b"
   ]
  },
  {
   "cell_type": "markdown",
   "metadata": {},
   "source": [
    "<>로 되어 있으면 중간객체이기 때문에 확인을 못해줌!"
   ]
  },
  {
   "cell_type": "code",
   "execution_count": 16,
   "metadata": {},
   "outputs": [
    {
     "data": {
      "text/plain": [
       "[]"
      ]
     },
     "execution_count": 16,
     "metadata": {},
     "output_type": "execute_result"
    }
   ],
   "source": [
    "list(b)"
   ]
  },
  {
   "cell_type": "markdown",
   "metadata": {},
   "source": [
    "실행하면 뽑아내고 본 구조 자체도 변한다!  \n",
    "메모리를 효율적으로 관리  \n",
    "pop과 비슷?  \n",
    "pop은 뒤에서부터 뽑아내고  \n",
    "next()는 앞에서부터 뽑아낸다  \n",
    "pop은 내부적으로 최적화가 되어 있지 않고 next()는 내부적으로 최적화되어 있음  \n",
    "file은 generator -> 한줄한줄 부를 때마다 메모리에 올라가고 남아 있는 게 또 다르다!  \n",
    "함수형패러다임은 기본적으로 하나 이상을 동시에 처리해야 하는데 가끔 한개씩 뽑아내서 처리해야 하는 필요성.  \n",
    "한꺼번에 처리해야 하는데 하나씩 뽑아내는 것도 중요.  \n",
    "내부구조를 알 수 있음!  "
   ]
  },
  {
   "cell_type": "code",
   "execution_count": 17,
   "metadata": {},
   "outputs": [],
   "source": [
    "import dis #기계어 코드로 분해"
   ]
  },
  {
   "cell_type": "code",
   "execution_count": 18,
   "metadata": {},
   "outputs": [],
   "source": [
    "def iterator_exam():\n",
    "    for i in [1,2,3]:\n",
    "        print(i)"
   ]
  },
  {
   "cell_type": "code",
   "execution_count": 19,
   "metadata": {},
   "outputs": [
    {
     "name": "stdout",
     "output_type": "stream",
     "text": [
      "  2           0 SETUP_LOOP              20 (to 22)\n",
      "              2 LOAD_CONST               1 ((1, 2, 3))\n",
      "              4 GET_ITER\n",
      "        >>    6 FOR_ITER                12 (to 20)\n",
      "              8 STORE_FAST               0 (i)\n",
      "\n",
      "  3          10 LOAD_GLOBAL              0 (print)\n",
      "             12 LOAD_FAST                0 (i)\n",
      "             14 CALL_FUNCTION            1\n",
      "             16 POP_TOP\n",
      "             18 JUMP_ABSOLUTE            6\n",
      "        >>   20 POP_BLOCK\n",
      "        >>   22 LOAD_CONST               0 (None)\n",
      "             24 RETURN_VALUE\n"
     ]
    }
   ],
   "source": [
    "dis.dis(iterator_exam)"
   ]
  },
  {
   "cell_type": "markdown",
   "metadata": {},
   "source": [
    "이걸 알려면 어셈블리를 알아야 한다!  \n",
    "더 파이썬 고급적인 것을 알고 싶으면 C와 어셈블리를 알아야 한다.  \n",
    "__*iter*__ iter 실행시킬 때마다 next 실행되고 마지막으로 next가 실행된 이유에는 에러!  \n",
    "파이썬은 에러를 더 좋아한다 (용서 구하기)  \n",
    "-> 에러 발생시키는 기법 많음.  \n",
    "None 대신 error가 나온다!"
   ]
  },
  {
   "cell_type": "code",
   "execution_count": 20,
   "metadata": {},
   "outputs": [],
   "source": [
    "a = {1,2,3}"
   ]
  },
  {
   "cell_type": "code",
   "execution_count": 24,
   "metadata": {},
   "outputs": [],
   "source": [
    "b = iter(a)"
   ]
  },
  {
   "cell_type": "code",
   "execution_count": 25,
   "metadata": {},
   "outputs": [
    {
     "data": {
      "text/plain": [
       "set_iterator"
      ]
     },
     "execution_count": 25,
     "metadata": {},
     "output_type": "execute_result"
    }
   ],
   "source": [
    "type(b)"
   ]
  },
  {
   "cell_type": "markdown",
   "metadata": {},
   "source": [
    "set도 iterator로 변경할 수 있다  \n",
    "즉 iterable인 애는 댜 가능.  \n",
    "단 앞에 타입이 있고...  \n",
    "type마다 용도가 있음.  \n",
    "원래 바꾸면 안 된다!"
   ]
  },
  {
   "cell_type": "code",
   "execution_count": 26,
   "metadata": {},
   "outputs": [
    {
     "data": {
      "text/plain": [
       "<function iter>"
      ]
     },
     "execution_count": 26,
     "metadata": {},
     "output_type": "execute_result"
    }
   ],
   "source": [
    "iter"
   ]
  },
  {
   "cell_type": "code",
   "execution_count": 27,
   "metadata": {},
   "outputs": [],
   "source": [
    "#iter는 function"
   ]
  },
  {
   "cell_type": "code",
   "execution_count": 28,
   "metadata": {},
   "outputs": [
    {
     "data": {
      "text/plain": [
       "int"
      ]
     },
     "execution_count": 28,
     "metadata": {},
     "output_type": "execute_result"
    }
   ],
   "source": [
    "int"
   ]
  },
  {
   "cell_type": "code",
   "execution_count": 29,
   "metadata": {},
   "outputs": [],
   "source": [
    "#int는 class"
   ]
  },
  {
   "cell_type": "markdown",
   "metadata": {},
   "source": [
    "기본적으로 값을 만드는 방식은 두 가지  \n"
   ]
  },
  {
   "cell_type": "markdown",
   "metadata": {},
   "source": [
    "int 빼고는 기호가 하나씩 붙어 있음!  \n",
    "기호에 따라서 보통 타입이 내부적으로 체크됨!  \n",
    "이 기호를 literal이라고 한다.  \n",
    "파이썬에서는 아주 많은 literal이 존재.  "
   ]
  },
  {
   "cell_type": "markdown",
   "metadata": {},
   "source": [
    "a = 0b1 #2진수\n",
    "a = . 또는 e\n",
    "2e1 = 2 곱하기 10의 1승"
   ]
  },
  {
   "cell_type": "code",
   "execution_count": 31,
   "metadata": {},
   "outputs": [],
   "source": [
    "a = 2e1"
   ]
  },
  {
   "cell_type": "code",
   "execution_count": 32,
   "metadata": {},
   "outputs": [
    {
     "data": {
      "text/plain": [
       "20.0"
      ]
     },
     "execution_count": 32,
     "metadata": {},
     "output_type": "execute_result"
    }
   ],
   "source": [
    "a"
   ]
  },
  {
   "cell_type": "markdown",
   "metadata": {},
   "source": [
    "e가 붙으면 float type"
   ]
  },
  {
   "cell_type": "code",
   "execution_count": 38,
   "metadata": {},
   "outputs": [],
   "source": [
    "a = r'ab\\n' #raw형태의 유니코드가 생긴다 -> 있는 그대로 써라"
   ]
  },
  {
   "cell_type": "code",
   "execution_count": 39,
   "metadata": {},
   "outputs": [
    {
     "name": "stdout",
     "output_type": "stream",
     "text": [
      "ab\\n\n"
     ]
    }
   ],
   "source": [
    "print(a)"
   ]
  },
  {
   "cell_type": "code",
   "execution_count": 40,
   "metadata": {},
   "outputs": [],
   "source": [
    "a = b'ab\\n'"
   ]
  },
  {
   "cell_type": "code",
   "execution_count": 41,
   "metadata": {},
   "outputs": [
    {
     "data": {
      "text/plain": [
       "b'ab\\n'"
      ]
     },
     "execution_count": 41,
     "metadata": {},
     "output_type": "execute_result"
    }
   ],
   "source": [
    "a"
   ]
  },
  {
   "cell_type": "code",
   "execution_count": 42,
   "metadata": {},
   "outputs": [],
   "source": [
    "a =  f'ab\\n'"
   ]
  },
  {
   "cell_type": "markdown",
   "metadata": {},
   "source": [
    "위의 것이 두번째 방식인데 이해가 쉬워서 보통 이 방식으로 많이 배움  \n",
    "첫 번째 방식?  \n",
    "파이썬은 객체지향 언어 -> 객체지향 방식  \n",
    "사용하려면 class를 선언하고 instance화를 해야 한다.  \n",
    "인스턴스화를 하려고 하면 클래스 이름을 알아야 함!  \n",
    "파이썬의 클래스?  \n",
    "PEP8같은 경우 첫 글자가 대문자로 나와야 한다  \n",
    "- 파스칼  \n",
    "- 카멜  \n",
    "근데 위에 두개 통틀어서 보통 카멜방식이라고 함  \n",
    "파이썬은 내장객체의 경우 앞에 소문자  \n",
    "외부에서 만든 클래스의 경우 앞에 대문자  \n",
    "type()쳤을 때 나오는 애가 class 이름"
   ]
  },
  {
   "cell_type": "code",
   "execution_count": 43,
   "metadata": {},
   "outputs": [],
   "source": [
    "a = int()"
   ]
  },
  {
   "cell_type": "code",
   "execution_count": 44,
   "metadata": {},
   "outputs": [
    {
     "data": {
      "text/plain": [
       "0"
      ]
     },
     "execution_count": 44,
     "metadata": {},
     "output_type": "execute_result"
    }
   ],
   "source": [
    "a"
   ]
  },
  {
   "cell_type": "markdown",
   "metadata": {},
   "source": [
    "int()에서 값을 안 넣으면 false되는 인스턴스가 나온다"
   ]
  },
  {
   "cell_type": "code",
   "execution_count": 45,
   "metadata": {},
   "outputs": [],
   "source": [
    "b = float()"
   ]
  },
  {
   "cell_type": "code",
   "execution_count": 46,
   "metadata": {},
   "outputs": [
    {
     "data": {
      "text/plain": [
       "0.0"
      ]
     },
     "execution_count": 46,
     "metadata": {},
     "output_type": "execute_result"
    }
   ],
   "source": [
    "b"
   ]
  },
  {
   "cell_type": "code",
   "execution_count": 47,
   "metadata": {},
   "outputs": [],
   "source": [
    "c = list()"
   ]
  },
  {
   "cell_type": "code",
   "execution_count": 48,
   "metadata": {},
   "outputs": [
    {
     "data": {
      "text/plain": [
       "[]"
      ]
     },
     "execution_count": 48,
     "metadata": {},
     "output_type": "execute_result"
    }
   ],
   "source": [
    "c"
   ]
  },
  {
   "cell_type": "code",
   "execution_count": 49,
   "metadata": {},
   "outputs": [],
   "source": [
    "d = set()"
   ]
  },
  {
   "cell_type": "code",
   "execution_count": 50,
   "metadata": {},
   "outputs": [
    {
     "data": {
      "text/plain": [
       "set()"
      ]
     },
     "execution_count": 50,
     "metadata": {},
     "output_type": "execute_result"
    }
   ],
   "source": [
    "d"
   ]
  },
  {
   "cell_type": "markdown",
   "metadata": {},
   "source": [
    "파이썬을 처음 만들 때 set이 없었음 -> 기호 자체가 할당되어 있었기 때문에 어쩔 수 없이"
   ]
  },
  {
   "cell_type": "markdown",
   "metadata": {},
   "source": [
    "이런 방식을 인스턴스 방식이라고 한다.  \n",
    "객체지향은 기본적으로 인스턴스 방식으로 값을 만드는데  \n",
    "편하게 리터럴 방식도 지원해준다.   "
   ]
  },
  {
   "cell_type": "markdown",
   "metadata": {},
   "source": [
    "set() <-괄호 안에 literable 집어넣을 수 있다! dictionary 넣으면 key 나옴"
   ]
  },
  {
   "cell_type": "markdown",
   "metadata": {},
   "source": [
    "파이썬에서는 기본적으로 타입을 변경시켜주는 문법이 없음.  \n",
    "iter()는 객체가 아니고 function  \n",
    "기본적으로 float에서 int로 바꿔주는 function은 없음  \n",
    "타입 간 바꿔주는 펑션은 거의 없음  \n",
    "iter가 예외임  \n",
    "-> instance 방식으로 사용해서 새로 생성해야 함  \n",
    "a = int('3)  \n",
    "하면 변화시켜주는 게 아니고  \n",
    "인스턴스 방식으로 *__새로__* 만들어주는 것!  \n",
    "*__예외적인 애가 iter()__*  \n",
    "iterator가 행동은 똑같이 하지만 (next하나밖에 없음)  \n",
    "또 next하나밖에 없는 게 generator가 있음.  \n",
    "이름이 다른 이유가 만드는 방식이 다르다.  \n",
    "generator는 기본적으로 함수를 이용해서 만든다.  "
   ]
  },
  {
   "cell_type": "code",
   "execution_count": 51,
   "metadata": {},
   "outputs": [],
   "source": [
    "def generator_exam():\n",
    "    yield 1\n",
    "    yield 2\n",
    "    yield 3"
   ]
  },
  {
   "cell_type": "markdown",
   "metadata": {},
   "source": [
    "모양은 함수인데 안에 return 대신 yield가 들어감"
   ]
  },
  {
   "cell_type": "code",
   "execution_count": 52,
   "metadata": {},
   "outputs": [],
   "source": [
    "x = generator_exam()"
   ]
  },
  {
   "cell_type": "code",
   "execution_count": 53,
   "metadata": {},
   "outputs": [
    {
     "data": {
      "text/plain": [
       "generator"
      ]
     },
     "execution_count": 53,
     "metadata": {},
     "output_type": "execute_result"
    }
   ],
   "source": [
    "type(x)"
   ]
  },
  {
   "cell_type": "code",
   "execution_count": 57,
   "metadata": {},
   "outputs": [
    {
     "ename": "StopIteration",
     "evalue": "",
     "output_type": "error",
     "traceback": [
      "\u001b[0;31m---------------------------------------------------------------------------\u001b[0m",
      "\u001b[0;31mStopIteration\u001b[0m                             Traceback (most recent call last)",
      "\u001b[0;32m<ipython-input-57-92de4e9f6b1e>\u001b[0m in \u001b[0;36m<module>\u001b[0;34m\u001b[0m\n\u001b[0;32m----> 1\u001b[0;31m \u001b[0mnext\u001b[0m\u001b[0;34m(\u001b[0m\u001b[0mx\u001b[0m\u001b[0;34m)\u001b[0m\u001b[0;34m\u001b[0m\u001b[0;34m\u001b[0m\u001b[0m\n\u001b[0m",
      "\u001b[0;31mStopIteration\u001b[0m: "
     ]
    }
   ],
   "source": [
    "next(x)"
   ]
  },
  {
   "cell_type": "markdown",
   "metadata": {},
   "source": [
    "## from의 두 가지 용법  \n",
    "1) import\n",
    "2) yield from [1,2,3,4]"
   ]
  },
  {
   "cell_type": "code",
   "execution_count": 58,
   "metadata": {},
   "outputs": [],
   "source": [
    "def generator__exam():\n",
    "    yield from [1,2,3,4]"
   ]
  },
  {
   "cell_type": "markdown",
   "metadata": {},
   "source": [
    "함수 안에 yield를 쓰면 제너레이터가 된다.  \n",
    "제너레이터는 내 마음대로 넥스트 같은 걸 쓸 수 있게 만들어줌.  \n",
    "Lazy한 장점.  "
   ]
  },
  {
   "cell_type": "code",
   "execution_count": 59,
   "metadata": {},
   "outputs": [],
   "source": [
    "def sample():\n",
    "    return [1,2,3,4]\n",
    "#이 경우 한꺼번에 메모리에 올라감.\n",
    "#제너레이터의 경우 Lazy하기 때문에 하나씩 메모리에 올라가고 보통 이런 경우 속도가 느린데 파이썬은 속도까지 최적화함"
   ]
  },
  {
   "cell_type": "code",
   "execution_count": 60,
   "metadata": {},
   "outputs": [
    {
     "data": {
      "text/plain": [
       "[0, 1, 2, 3, 4, 5, 6, 7, 8, 9]"
      ]
     },
     "execution_count": 60,
     "metadata": {},
     "output_type": "execute_result"
    }
   ],
   "source": [
    "#그런데 generator는 함수로 만드는 방식이 있고 또 다른 방식 존재\n",
    "#generator 식...식끼리 결합할 수도 있고 식은 오른쪽에 올 수도 있고...복잡\n",
    "#지금부터 할 것 : 반복식 (generator 식 하기 전에) _ comprehension\n",
    "[x for x in range(10)]"
   ]
  },
  {
   "cell_type": "markdown",
   "metadata": {},
   "source": [
    "comprehension은 하스칼에서 보고 베낌  \n",
    "함수형 패러다임 언어로 값이 필요  \n",
    "값을 만들기 위한 기법!  \n",
    "반복을 이용한다고 해서 반복식이라고 함!  "
   ]
  },
  {
   "cell_type": "code",
   "execution_count": 61,
   "metadata": {},
   "outputs": [
    {
     "name": "stdout",
     "output_type": "stream",
     "text": [
      "CPU times: user 4 µs, sys: 0 ns, total: 4 µs\n",
      "Wall time: 7.87 µs\n"
     ]
    },
    {
     "data": {
      "text/plain": [
       "[0, 1, 2, 3, 4, 5, 6, 7, 8, 9]"
      ]
     },
     "execution_count": 61,
     "metadata": {},
     "output_type": "execute_result"
    }
   ],
   "source": [
    "%time [x for x in range(10)]"
   ]
  },
  {
   "cell_type": "code",
   "execution_count": 62,
   "metadata": {},
   "outputs": [
    {
     "name": "stdout",
     "output_type": "stream",
     "text": [
      "512 ns ± 5.48 ns per loop (mean ± std. dev. of 7 runs, 1000000 loops each)\n"
     ]
    }
   ],
   "source": [
    "%timeit [x for x in range(10)]"
   ]
  },
  {
   "cell_type": "code",
   "execution_count": 63,
   "metadata": {},
   "outputs": [
    {
     "name": "stdout",
     "output_type": "stream",
     "text": [
      "742 ns ± 2.64 ns per loop (mean ± std. dev. of 7 runs, 1000000 loops each)\n"
     ]
    }
   ],
   "source": [
    "%%timeit #셀 전체의 시간측적\n",
    "temp = []\n",
    "for i in range(10):\n",
    "    temp.append(i)"
   ]
  },
  {
   "cell_type": "markdown",
   "metadata": {},
   "source": [
    "comprehension 방식이 더 빠름! 내부적으로 최적화되어 있기 때문에  \n",
    "맨 앞에 있는 x를 응용시킬 수 있음!"
   ]
  },
  {
   "cell_type": "code",
   "execution_count": 64,
   "metadata": {},
   "outputs": [
    {
     "data": {
      "text/plain": [
       "[1, 2, 3, 4, 5, 6, 7, 8, 9, 10]"
      ]
     },
     "execution_count": 64,
     "metadata": {},
     "output_type": "execute_result"
    }
   ],
   "source": [
    "[x+1 for x in range(10)]"
   ]
  },
  {
   "cell_type": "code",
   "execution_count": 65,
   "metadata": {},
   "outputs": [
    {
     "data": {
      "text/plain": [
       "['0', '1', '2', '3', '4', '5', '6', '7', '8', '9']"
      ]
     },
     "execution_count": 65,
     "metadata": {},
     "output_type": "execute_result"
    }
   ],
   "source": [
    "[str(x) for x in range(10)]"
   ]
  },
  {
   "cell_type": "markdown",
   "metadata": {},
   "source": [
    "돌아가는 x가 인자로 들어가서 어떤 값도 만들 수 있음!  \n",
    "-> 초기화된 값을 만들 때 아주 유용하게 사용  \n",
    "if 붙일 수 있을까?\n",
    "    방식 두 가지"
   ]
  },
  {
   "cell_type": "code",
   "execution_count": 66,
   "metadata": {},
   "outputs": [
    {
     "data": {
      "text/plain": [
       "[0, 2, 4, 6, 8]"
      ]
     },
     "execution_count": 66,
     "metadata": {},
     "output_type": "execute_result"
    }
   ],
   "source": [
    "[x for x in range(10) if x%2 == 0] \n",
    "#왼쪽부터 가서 x가 들어가기 전에 if문부터 체크한 뒤 참이면 x가 실행된다\n",
    "#파이썬은 계산을 왼쪽에서 오른쪽으로"
   ]
  },
  {
   "cell_type": "markdown",
   "metadata": {},
   "source": [
    "1 + 2 + 3 + 4 == 12+3+4+"
   ]
  },
  {
   "cell_type": "code",
   "execution_count": 68,
   "metadata": {},
   "outputs": [
    {
     "data": {
      "text/plain": [
       "[0, 3, 2, 3, 4, 3, 6, 3, 8, 3]"
      ]
     },
     "execution_count": 68,
     "metadata": {},
     "output_type": "execute_result"
    }
   ],
   "source": [
    "[x if x%2 == 0 else 3 for x in range(10)]\n",
    "#x가 앞으로 넘어가면 if문을 체크!\n",
    "#뒤에 붙이면 만들 때 체크하기 때문에 없앨 수 있는데\n",
    "#앞에 붙이면 없앨 수 없음\n",
    "#뒤에 붙일 때와 앞에 붙일 때가 다름!\n",
    "#식은 식끼리 붙일 수 있다..."
   ]
  },
  {
   "cell_type": "code",
   "execution_count": 71,
   "metadata": {},
   "outputs": [
    {
     "data": {
      "text/plain": [
       "<generator object <genexpr> at 0x1050b98b8>"
      ]
     },
     "execution_count": 71,
     "metadata": {},
     "output_type": "execute_result"
    }
   ],
   "source": [
    "((x,y) for x in range(1,11) for y in range(10))\n",
    "#comprehension은 값을 초기화할 때 쓴다!"
   ]
  },
  {
   "cell_type": "code",
   "execution_count": 72,
   "metadata": {},
   "outputs": [
    {
     "data": {
      "text/plain": [
       "{0, 1, 2, 3, 4, 5, 6, 7, 8, 9}"
      ]
     },
     "execution_count": 72,
     "metadata": {},
     "output_type": "execute_result"
    }
   ],
   "source": [
    "{x for x in range(10)}"
   ]
  },
  {
   "cell_type": "code",
   "execution_count": 73,
   "metadata": {},
   "outputs": [
    {
     "data": {
      "text/plain": [
       "{0: 1, 1: 1, 2: 1, 3: 1, 4: 1, 5: 1, 6: 1, 7: 1, 8: 1, 9: 1}"
      ]
     },
     "execution_count": 73,
     "metadata": {},
     "output_type": "execute_result"
    }
   ],
   "source": [
    "{x:1 for x in range(10)}"
   ]
  },
  {
   "cell_type": "markdown",
   "metadata": {},
   "source": [
    "--> comprehension은 종류가 세가지! set, list, dictionary  \n",
    "그런데 tuple은 generator라서 안 된다!  \n",
    "generator면 next 쓸 수 있다.  \n",
    "list, tuple, set, dictionary 중에서 유독 tuple만 immutable 성격.  \n",
    "함수형 패러다임 언어에서는 mutable이 없다.\n",
    "mutable은 스스로 바뀌기 때문에...  \n",
    "보통의 함수형 패러다임 언어는 mutable형이 없이 immutable형만 가지고 있음.  \n",
    "대신 mutable 형식은 사용하기 편한데 중간에 값이 바뀌어버림.  \n",
    "유독 immutabl인 tuple만 다른 성격.  "
   ]
  },
  {
   "cell_type": "code",
   "execution_count": 74,
   "metadata": {},
   "outputs": [],
   "source": [
    "a = (x for x in range(10))"
   ]
  },
  {
   "cell_type": "code",
   "execution_count": 75,
   "metadata": {},
   "outputs": [
    {
     "data": {
      "text/plain": [
       "0"
      ]
     },
     "execution_count": 75,
     "metadata": {},
     "output_type": "execute_result"
    }
   ],
   "source": [
    "next(a)"
   ]
  },
  {
   "cell_type": "markdown",
   "metadata": {},
   "source": [
    "iterator는 iter를 이용해서 만든다.  \n",
    "iter 다음에 iterable이 올 수 있다.  \n",
    "generator는 yield와 generator comprehension을 이용해서 만들 수 있다.  \n",
    "파이썬에서 최적화시킬 때 함수형 패러다임에 있던 기법들을 가지고 오는 경우가 아주 많다.  \n",
    "next를 쓰면 for를 안 써도 됨...\n",
    "### for를 쓰지 않는 기법\n",
    "1. iterator, generator\n",
    "2. 실제 for가 있지만 for문(:로 끝남)을 쓰지 않는 기법 -> 인데 동시에 여러개를 처리"
   ]
  },
  {
   "cell_type": "markdown",
   "metadata": {},
   "source": [
    "__ : special method, magic method. 파이썬의 고유한 방식.   \n",
    "파이썬에서는 함수와 메서드를 대응시킴."
   ]
  },
  {
   "cell_type": "code",
   "execution_count": 76,
   "metadata": {},
   "outputs": [
    {
     "name": "stdout",
     "output_type": "stream",
     "text": [
      "747 ns ± 8.54 ns per loop (mean ± std. dev. of 7 runs, 1000000 loops each)\n"
     ]
    }
   ],
   "source": [
    "%%timeit\n",
    "#내부적으로 iterable이 들어가면 iterator로 바꿔준다.\n",
    "temp = []\n",
    "for i in range(10):\n",
    "    temp.append(i)"
   ]
  },
  {
   "cell_type": "code",
   "execution_count": 77,
   "metadata": {},
   "outputs": [
    {
     "name": "stdout",
     "output_type": "stream",
     "text": [
      "791 ns ± 3.67 ns per loop (mean ± std. dev. of 7 runs, 1000000 loops each)\n"
     ]
    }
   ],
   "source": [
    "%%timeit\n",
    "#내부적으로 iterable이 들어가면 iterator로 바꿔준다.\n",
    "temp = []\n",
    "for i in iter(range(10)):\n",
    "    temp.append(i)"
   ]
  },
  {
   "cell_type": "markdown",
   "metadata": {},
   "source": [
    "iter로 바꾸는 데에 코스트가 작음.  \n",
    "뭘 써도 상관은 없지만...iter안 쓰고 쓰는 게 더 좋은 방법으로 여겨짐."
   ]
  },
  {
   "cell_type": "code",
   "execution_count": 78,
   "metadata": {},
   "outputs": [],
   "source": [
    "from collections.abc import Iterable"
   ]
  },
  {
   "cell_type": "code",
   "execution_count": 79,
   "metadata": {},
   "outputs": [],
   "source": [
    "from collections.abc import Iterator"
   ]
  },
  {
   "cell_type": "code",
   "execution_count": 82,
   "metadata": {},
   "outputs": [
    {
     "data": {
      "text/plain": [
       "{'__next__'}"
      ]
     },
     "execution_count": 82,
     "metadata": {},
     "output_type": "execute_result"
    }
   ],
   "source": [
    "set(dir(Iterator)) - set(dir(Iterable))"
   ]
  },
  {
   "cell_type": "markdown",
   "metadata": {},
   "source": [
    "Iterable 써야 하는 곳에 Iterator 쓸 수 있다  \n",
    "\n",
    "무조건 이걸 쓸 필요 없다.  \n",
    "내가 데이터를 많이 만들어야 하는데 복잡하고 시간 많이 걸리는 경우 comprehension 쓰면 된다!"
   ]
  },
  {
   "cell_type": "code",
   "execution_count": 83,
   "metadata": {},
   "outputs": [
    {
     "name": "stdout",
     "output_type": "stream",
     "text": [
      "157 ns ± 3.05 ns per loop (mean ± std. dev. of 7 runs, 10000000 loops each)\n"
     ]
    }
   ],
   "source": [
    "%timeit sum([1,2,3,4,5,6,7,8,9,10])\n",
    "#만들 필요 없음"
   ]
  },
  {
   "cell_type": "code",
   "execution_count": 84,
   "metadata": {},
   "outputs": [
    {
     "name": "stdout",
     "output_type": "stream",
     "text": [
      "606 ns ± 5.23 ns per loop (mean ± std. dev. of 7 runs, 1000000 loops each)\n"
     ]
    }
   ],
   "source": [
    "%timeit sum([x for x in range(1,11)])\n",
    "#만들어서 계산 -> 더 느리다"
   ]
  },
  {
   "cell_type": "code",
   "execution_count": 86,
   "metadata": {},
   "outputs": [
    {
     "name": "stdout",
     "output_type": "stream",
     "text": [
      "750 ns ± 5.51 ns per loop (mean ± std. dev. of 7 runs, 1000000 loops each)\n"
     ]
    }
   ],
   "source": [
    "%timeit sum(x for x in range(1,11))\n",
    "#generator할 때 함수에 집어넣을 때는 괄호 생략할 수 있다 (예외적)\n",
    "#tuple도 괄호 생략할 수 있다!"
   ]
  },
  {
   "cell_type": "code",
   "execution_count": 87,
   "metadata": {},
   "outputs": [
    {
     "name": "stdout",
     "output_type": "stream",
     "text": [
      "722 ns ± 6.81 ns per loop (mean ± std. dev. of 7 runs, 1000000 loops each)\n"
     ]
    }
   ],
   "source": [
    "%timeit sum((x for x in range(1,11)))\n",
    "#사실상 괄호 여부가 무의미\n",
    "#iterator 넣는 곳에 generator, comprehension 넣을 수 있다!"
   ]
  },
  {
   "cell_type": "markdown",
   "metadata": {},
   "source": [
    "제너레이터 표현식은 항상 괄호 안에 작성해야 하지만 함수 호출을 알리는 괄호도 포함됩니다.  \n",
    "-> 함수 안에 쓸 때는 괄호를 생략해도 된다"
   ]
  },
  {
   "cell_type": "markdown",
   "metadata": {},
   "source": [
    "*__식은 식끼리 중첩시킬 수 있다!__*  \n",
    "식 : 결과값을 하나로 축약 가능한 애, 연산 가능한 애, 오른쪽에 올 수 있다, 함수 argument로 식이 들어갈 수 있다!  \n",
    "제너레이터 1) 함수 정의할 때 yield 사용 2) comprehension인데 tuple로 감쌈  \n",
    "제너레이터 : 반복을 필요로 하는 곳에 효과적으로 사용할 수 있음.  \n",
    "차이점 : 유일하게 __next__"
   ]
  },
  {
   "cell_type": "markdown",
   "metadata": {},
   "source": [
    "## 재귀  \n",
    "함수형 패러다임에서 엄청 좋아함  \n",
    "왜? 재귀는 일반적으로..  \n",
    "fibonachi  \n",
    "점화식 a(n), a(n+1) 간의 관계  \n",
    "수학적으로 점화식으로 표현할 수 있으면 모두 재귀함수로 구현 가능하다고 증명되어 있음  \n",
    "수학적 증명 가능성은 함수형 패러다임에서 많이 요구 -> 함수형 패러다임이 재귀를 많이 사용  \n",
    "f(n+2) = f(n) + f(n+1) <-fibonachi의 함수형"
   ]
  },
  {
   "cell_type": "code",
   "execution_count": 2,
   "metadata": {},
   "outputs": [],
   "source": [
    "def fibo(n):\n",
    "    if(n<3):\n",
    "        return 1\n",
    "    return fibo(n-1) + fibo(n-2) + x #<-이게 가능해짐"
   ]
  },
  {
   "cell_type": "code",
   "execution_count": 3,
   "metadata": {},
   "outputs": [
    {
     "data": {
      "text/plain": [
       "3"
      ]
     },
     "execution_count": 3,
     "metadata": {},
     "output_type": "execute_result"
    }
   ],
   "source": [
    "fibo(4)"
   ]
  },
  {
   "cell_type": "code",
   "execution_count": 4,
   "metadata": {},
   "outputs": [],
   "source": [
    "fibo.x = 3 #함수에 인스턴스를 추가 <-????????????"
   ]
  },
  {
   "cell_type": "markdown",
   "metadata": {},
   "source": [
    "재귀함수는 for를 사용하지 않고 반복적인 일을 하는데 쓰는 기법 (3번째)\n",
    "\n",
    "등차수열? 만들 수 있음!  \n",
    "문제는 파이썬에....  \n",
    "재귀함수하면 C로 만약 재귀함수를 배우면 stack overflow가 생김. + 속도도 느림.  \n",
    "함수형 패러다임에서는 왜 재귀함수를 쓸까?  \n",
    "tail recursion elimination! (꼬리 재귀)  \n",
    ": stack을 일렬로 만들어 중복되지 않고 한번만 계산할 수 있도록 해줌.  \n",
    "파이썬은 꼬리 재귀를 언어 자체에서 제공하지 않음 -> 내가 만들어야 한다.  "
   ]
  },
  {
   "cell_type": "markdown",
   "metadata": {},
   "source": [
    "재귀함수 : 구현하기 쉽다! for를 쓰지 않는다! 한눈에 알고리즘을 알 수 있다!  \n",
    "때문에 함수형 패러다임에서 아주 많이 쓰지만 파이썬은 꼬리 재귀를 지원하지 않기 때문에 쓰지 않지만  \n",
    "수준이 높아지면 쓴다."
   ]
  },
  {
   "cell_type": "markdown",
   "metadata": {},
   "source": [
    "### 내장 함수  \n",
    "굉장히 중요!!"
   ]
  },
  {
   "cell_type": "markdown",
   "metadata": {},
   "source": [
    "#map, filter, reduce\n",
    "함수형 패러다임은 comprehension은 데이터 생성할 때 한다  \n",
    "지금 쓰는 map, filter, reduce는 활용할 데가 엄청 많다.  "
   ]
  },
  {
   "cell_type": "markdown",
   "metadata": {},
   "source": [
    "## map"
   ]
  },
  {
   "cell_type": "code",
   "execution_count": 7,
   "metadata": {},
   "outputs": [],
   "source": [
    "def add_one(x):\n",
    "    return x+1"
   ]
  },
  {
   "cell_type": "code",
   "execution_count": 18,
   "metadata": {},
   "outputs": [
    {
     "name": "stdout",
     "output_type": "stream",
     "text": [
      "599 ns ± 11.4 ns per loop (mean ± std. dev. of 7 runs, 1000000 loops each)\n"
     ]
    }
   ],
   "source": [
    "%timeit list(map(add_one, [1,2,3,4,5]))"
   ]
  },
  {
   "cell_type": "markdown",
   "metadata": {},
   "source": [
    "한줄로 기존 데이터를 한번에 다 바꿀 수 있다!  \n",
    "lambda는 함수식! 식은 함수 인자로 집어넣을 수 있다!"
   ]
  },
  {
   "cell_type": "code",
   "execution_count": 22,
   "metadata": {},
   "outputs": [
    {
     "name": "stdout",
     "output_type": "stream",
     "text": [
      "194 ns ± 0.899 ns per loop (mean ± std. dev. of 7 runs, 1000000 loops each)\n"
     ]
    }
   ],
   "source": [
    "%timeit map(lambda x:x+1, [1,2,3,4,5]) #시간이 거의 2~3배 빠르다! 빅데이터 처리할 때 훨씬 좋다"
   ]
  },
  {
   "cell_type": "code",
   "execution_count": 23,
   "metadata": {},
   "outputs": [
    {
     "name": "stdout",
     "output_type": "stream",
     "text": [
      "2\n",
      "3\n",
      "4\n",
      "5\n",
      "6\n"
     ]
    }
   ],
   "source": [
    "for i in map(lambda x:x+1, [1,2,3,4,5]):\n",
    "    print(i)"
   ]
  },
  {
   "cell_type": "code",
   "execution_count": 15,
   "metadata": {},
   "outputs": [
    {
     "name": "stdout",
     "output_type": "stream",
     "text": [
      "313 ns ± 5.6 ns per loop (mean ± std. dev. of 7 runs, 1000000 loops each)\n"
     ]
    }
   ],
   "source": [
    "%%timeit\n",
    "temp = []\n",
    "for i in [1,2,3,4,5]:\n",
    "    temp.append(i)"
   ]
  },
  {
   "cell_type": "code",
   "execution_count": 16,
   "metadata": {},
   "outputs": [
    {
     "name": "stdout",
     "output_type": "stream",
     "text": [
      "304 ns ± 7.23 ns per loop (mean ± std. dev. of 7 runs, 1000000 loops each)\n"
     ]
    }
   ],
   "source": [
    "%timeit [x+1 for x in [1,2,3,4,5]]"
   ]
  },
  {
   "cell_type": "markdown",
   "metadata": {},
   "source": [
    "함수형 패러다임은 속도가 빠르고 한꺼번에 데이터를 처리할 때 효율적이다.  "
   ]
  },
  {
   "cell_type": "markdown",
   "metadata": {},
   "source": [
    "## filter"
   ]
  },
  {
   "cell_type": "markdown",
   "metadata": {},
   "source": [
    "filter를 하려고 하면 조건이 있어야 걸러낼 수 있음.  \n",
    "그런데 그 조건이 true 또는 false를 반환해야 한다.  \n",
    "### predicate -> true 또는 false를 반환하는 함수\n",
    "callable"
   ]
  },
  {
   "cell_type": "code",
   "execution_count": 24,
   "metadata": {},
   "outputs": [
    {
     "data": {
      "text/plain": [
       "(4, 5, 6)"
      ]
     },
     "execution_count": 24,
     "metadata": {},
     "output_type": "execute_result"
    }
   ],
   "source": [
    "tuple(filter(lambda x: x>3, [1,2,3,4,5,6]))"
   ]
  },
  {
   "cell_type": "markdown",
   "metadata": {},
   "source": [
    "원하는 데이터를 뽑아낼 때 사용할 수 있다.  \n",
    "물론 if 써서도 할 수 있지만 if 쓰는 것보다 코드의 양도 줄어들고 속도도 빨라진다.  \n",
    "그럼 filter쓴다.  \n",
    "map은 데이터를 한꺼번에 바꿀 때 사용!  "
   ]
  },
  {
   "cell_type": "markdown",
   "metadata": {},
   "source": [
    "## reduce"
   ]
  },
  {
   "cell_type": "code",
   "execution_count": 25,
   "metadata": {},
   "outputs": [],
   "source": [
    "#reduce는 파이썬2에서는 빌트인 안에 있었음.  \n",
    "from functools import reduce"
   ]
  },
  {
   "cell_type": "code",
   "execution_count": 26,
   "metadata": {},
   "outputs": [
    {
     "data": {
      "text/plain": [
       "15"
      ]
     },
     "execution_count": 26,
     "metadata": {},
     "output_type": "execute_result"
    }
   ],
   "source": [
    "reduce(lambda x,y:x+y, [1,2,3,4,5]) #1+2+3+4+5\n",
    "#reduction : 여러 개의 값을 하나로 축소시키는 것"
   ]
  },
  {
   "cell_type": "markdown",
   "metadata": {},
   "source": [
    "내적구할 때 사용할 수 있음.  \n",
    "얘도 for 사용 x  \n",
    "그런데 for로 대신하여 사용 가능.  \n",
    "\n",
    "모두 특징 : 함수를 인자로 받음!"
   ]
  },
  {
   "cell_type": "markdown",
   "metadata": {},
   "source": [
    "## for 안 쓰는 기법  \n",
    "1) iterator, generator  \n",
    "2) comprehension  \n",
    "3) 재귀  \n",
    "4) map, filter, reduce  \n",
    "즉 함수형 패러다임에서 많이 쓰는 기법들"
   ]
  },
  {
   "cell_type": "markdown",
   "metadata": {},
   "source": [
    "## enumerate  \n",
    "파이썬에서 가장 많이 쓰는 애 중 하나.  \n",
    "for는 몇 번째 애인지 체크하기가 힘들다.  \n"
   ]
  },
  {
   "cell_type": "code",
   "execution_count": 28,
   "metadata": {},
   "outputs": [
    {
     "name": "stdout",
     "output_type": "stream",
     "text": [
      "1 문\n",
      "2 근\n",
      "3 영\n",
      "4  \n",
      "5 예\n",
      "6 뻐\n",
      "7 요\n"
     ]
    }
   ],
   "source": [
    "a = '문근영 예뻐요'\n",
    "for i,j in enumerate(a, 1):\n",
    "    print(i,j)\n",
    "#앞에 인덱스를 추가시켜준다! 6개짜리 tuple! unpacking 가능하다"
   ]
  },
  {
   "cell_type": "markdown",
   "metadata": {},
   "source": [
    "내가 index를 알고 싶을 때 좋음"
   ]
  },
  {
   "cell_type": "markdown",
   "metadata": {},
   "source": [
    "## 함수형 패러다임을 고급적으로 쓰는 기법들"
   ]
  },
  {
   "cell_type": "markdown",
   "metadata": {},
   "source": [
    "새 파일"
   ]
  },
  {
   "cell_type": "markdown",
   "metadata": {},
   "source": [
    "# 오늘 과제\n",
    "1. 전체 연습했던 파이썬 자습서를 한 번 다 실행해보고 모르는 것 체크해오기  \n",
    "2. 다이나믹 프로그래밍에 대해 알아오기; 간단히 말하면 중간 과정을 계속 보관하고 있다가 계속 계산한 결과값을 이용하여 다시 계산하고 다시 계산 -> 속도가 아주 빠른 편. 알고리즘 이해하기 쉽고 속도도 빠르기 때문에 첫번째 옵션! (조 과제)"
   ]
  }
 ],
 "metadata": {
  "kernelspec": {
   "display_name": "Python 3",
   "language": "python",
   "name": "python3"
  },
  "language_info": {
   "codemirror_mode": {
    "name": "ipython",
    "version": 3
   },
   "file_extension": ".py",
   "mimetype": "text/x-python",
   "name": "python",
   "nbconvert_exporter": "python",
   "pygments_lexer": "ipython3",
   "version": "3.7.3"
  }
 },
 "nbformat": 4,
 "nbformat_minor": 2
}
