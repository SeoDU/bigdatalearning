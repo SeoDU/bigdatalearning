{
 "cells": [
  {
   "cell_type": "code",
   "execution_count": 1,
   "metadata": {},
   "outputs": [],
   "source": [
    "import sqlalchemy"
   ]
  },
  {
   "cell_type": "code",
   "execution_count": 2,
   "metadata": {},
   "outputs": [
    {
     "data": {
      "text/plain": [
       "'1.3.5'"
      ]
     },
     "execution_count": 2,
     "metadata": {},
     "output_type": "execute_result"
    }
   ],
   "source": [
    "sqlalchemy.__version__"
   ]
  },
  {
   "cell_type": "code",
   "execution_count": 3,
   "metadata": {},
   "outputs": [
    {
     "name": "stdout",
     "output_type": "stream",
     "text": [
      "Engine(sqlite:///:memory:)\n"
     ]
    }
   ],
   "source": [
    "from sqlalchemy import create_engine\n",
    "\n",
    "#engine = create_engine(\"sqlite://\", echo=True) #echo : 내 행동에 대해 항상 loggin하라는 의미\n",
    "engine = create_engine(\"sqlite:///:memory:\", echo=True)\n",
    "#engine = create_engine(\"sqlite:///test.db\", echo=True)\n",
    "\n",
    "print(engine)"
   ]
  },
  {
   "cell_type": "code",
   "execution_count": 4,
   "metadata": {},
   "outputs": [
    {
     "data": {
      "text/plain": [
       "sqlalchemy.engine.base.Engine"
      ]
     },
     "execution_count": 4,
     "metadata": {},
     "output_type": "execute_result"
    }
   ],
   "source": [
    "type(engine)"
   ]
  },
  {
   "cell_type": "code",
   "execution_count": 6,
   "metadata": {},
   "outputs": [
    {
     "name": "stdout",
     "output_type": "stream",
     "text": [
      "2019-07-09 11:12:28,412 INFO sqlalchemy.engine.base.Engine PRAGMA table_info(\"users\")\n",
      "2019-07-09 11:12:28,413 INFO sqlalchemy.engine.base.Engine ()\n",
      "2019-07-09 11:12:28,414 INFO sqlalchemy.engine.base.Engine PRAGMA table_info(\"addresses\")\n",
      "2019-07-09 11:12:28,414 INFO sqlalchemy.engine.base.Engine ()\n",
      "2019-07-09 11:12:28,416 INFO sqlalchemy.engine.base.Engine \n",
      "CREATE TABLE users (\n",
      "\tid INTEGER NOT NULL, \n",
      "\tname VARCHAR, \n",
      "\tfullname VARCHAR, \n",
      "\tPRIMARY KEY (id)\n",
      ")\n",
      "\n",
      "\n",
      "2019-07-09 11:12:28,416 INFO sqlalchemy.engine.base.Engine ()\n",
      "2019-07-09 11:12:28,417 INFO sqlalchemy.engine.base.Engine COMMIT\n",
      "2019-07-09 11:12:28,418 INFO sqlalchemy.engine.base.Engine \n",
      "CREATE TABLE addresses (\n",
      "\tid INTEGER NOT NULL, \n",
      "\tuser_id INTEGER, \n",
      "\temail_address VARCHAR NOT NULL, \n",
      "\tPRIMARY KEY (id), \n",
      "\tFOREIGN KEY(user_id) REFERENCES users (id)\n",
      ")\n",
      "\n",
      "\n",
      "2019-07-09 11:12:28,419 INFO sqlalchemy.engine.base.Engine ()\n",
      "2019-07-09 11:12:28,420 INFO sqlalchemy.engine.base.Engine COMMIT\n"
     ]
    }
   ],
   "source": [
    "#metadata에서 상속받아서 생성\n",
    "#MetaData.tables <- 테이블에 뭐가 들어있는지 보려면\n",
    "\n",
    "from sqlalchemy import Table, Column, Integer, String, MetaData, ForeignKey\n",
    "\n",
    "metadata = MetaData()\n",
    "users = Table('users', metadata,\n",
    "             Column('id', Integer, primary_key = True),\n",
    "              Column('name', String), #string은 VARCHAR로 바꿔서 넘김 (sql에는 string type 없음)\n",
    "              Column('fullname', String),\n",
    "             )\n",
    "\n",
    "addresses = Table('addresses', metadata,\n",
    "                 Column('id', Integer, primary_key = True),\n",
    "                 Column('user_id', None, ForeignKey('users.id')),\n",
    "                 Column('email_address', String, nullable = False),\n",
    "                 )\n",
    "\n",
    "metadata.create_all(engine)"
   ]
  },
  {
   "cell_type": "code",
   "execution_count": 7,
   "metadata": {},
   "outputs": [
    {
     "data": {
      "text/plain": [
       "immutabledict({'users': Table('users', MetaData(bind=None), Column('id', Integer(), table=<users>, primary_key=True, nullable=False), Column('name', String(), table=<users>), Column('fullname', String(), table=<users>), schema=None), 'addresses': Table('addresses', MetaData(bind=None), Column('id', Integer(), table=<addresses>, primary_key=True, nullable=False), Column('user_id', Integer(), ForeignKey('users.id'), table=<addresses>), Column('email_address', String(), table=<addresses>, nullable=False), schema=None)})"
      ]
     },
     "execution_count": 7,
     "metadata": {},
     "output_type": "execute_result"
    }
   ],
   "source": [
    "metadata.tables"
   ]
  },
  {
   "cell_type": "code",
   "execution_count": 9,
   "metadata": {},
   "outputs": [
    {
     "name": "stdout",
     "output_type": "stream",
     "text": [
      "INSERT INTO users (id, name, fullname) VALUES (:id, :name, :fullname)\n"
     ]
    }
   ],
   "source": [
    "insert = users.insert()\n",
    "print(insert) #named 형태로 쿼리가 날아가는 형태로 파라미터가 만들어진다"
   ]
  },
  {
   "cell_type": "code",
   "execution_count": 10,
   "metadata": {},
   "outputs": [
    {
     "name": "stdout",
     "output_type": "stream",
     "text": [
      "INSERT INTO users (name, fullname) VALUES (:name, :fullname)\n"
     ]
    }
   ],
   "source": [
    "insert = users.insert().values(name='kim', fullname = 'Anonymous, Kim')\n",
    "print(insert)"
   ]
  },
  {
   "cell_type": "code",
   "execution_count": 12,
   "metadata": {},
   "outputs": [
    {
     "data": {
      "text/plain": [
       "{'name': 'kim', 'fullname': 'Anonymous, Kim'}"
      ]
     },
     "execution_count": 12,
     "metadata": {},
     "output_type": "execute_result"
    }
   ],
   "source": [
    "insert.compile().params"
   ]
  },
  {
   "cell_type": "code",
   "execution_count": 13,
   "metadata": {},
   "outputs": [
    {
     "data": {
      "text/plain": [
       "<sqlalchemy.engine.base.Connection at 0x112f28e10>"
      ]
     },
     "execution_count": 13,
     "metadata": {},
     "output_type": "execute_result"
    }
   ],
   "source": [
    "conn = engine.connect()\n",
    "conn"
   ]
  },
  {
   "cell_type": "code",
   "execution_count": 14,
   "metadata": {},
   "outputs": [
    {
     "name": "stdout",
     "output_type": "stream",
     "text": [
      "2019-07-09 11:32:15,909 INFO sqlalchemy.engine.base.Engine INSERT INTO users (name, fullname) VALUES (?, ?)\n",
      "2019-07-09 11:32:15,910 INFO sqlalchemy.engine.base.Engine ('kim', 'Anonymous, Kim')\n",
      "2019-07-09 11:32:15,911 INFO sqlalchemy.engine.base.Engine COMMIT\n"
     ]
    },
    {
     "data": {
      "text/plain": [
       "[1]"
      ]
     },
     "execution_count": 14,
     "metadata": {},
     "output_type": "execute_result"
    }
   ],
   "source": [
    "insert.bind = engine\n",
    "str(insert)\n",
    "\n",
    "result = conn.execute(insert)\n",
    "\n",
    "result.inserted_primary_key"
   ]
  },
  {
   "cell_type": "code",
   "execution_count": 15,
   "metadata": {},
   "outputs": [
    {
     "name": "stdout",
     "output_type": "stream",
     "text": [
      "2019-07-09 11:32:53,253 INFO sqlalchemy.engine.base.Engine INSERT INTO users (name, fullname) VALUES (?, ?)\n",
      "2019-07-09 11:32:53,254 INFO sqlalchemy.engine.base.Engine ('lee', 'Unknown, Lee')\n",
      "2019-07-09 11:32:53,254 INFO sqlalchemy.engine.base.Engine COMMIT\n"
     ]
    },
    {
     "data": {
      "text/plain": [
       "[2]"
      ]
     },
     "execution_count": 15,
     "metadata": {},
     "output_type": "execute_result"
    }
   ],
   "source": [
    "insert = users.insert()\n",
    "result = conn.execute(insert, name = \"lee\", fullname = \"Unknown, Lee\")\n",
    "result.inserted_primary_key"
   ]
  },
  {
   "cell_type": "code",
   "execution_count": 16,
   "metadata": {},
   "outputs": [
    {
     "name": "stdout",
     "output_type": "stream",
     "text": [
      "2019-07-09 11:35:18,634 INFO sqlalchemy.engine.base.Engine INSERT INTO addresses (user_id, email_address) VALUES (?, ?)\n",
      "2019-07-09 11:35:18,635 INFO sqlalchemy.engine.base.Engine ((1, 'anonymous.kim@gmail.com'), (2, 'unknown,lee@gmail.com'))\n",
      "2019-07-09 11:35:18,635 INFO sqlalchemy.engine.base.Engine COMMIT\n"
     ]
    },
    {
     "data": {
      "text/plain": [
       "<sqlalchemy.engine.result.ResultProxy at 0x112dd6940>"
      ]
     },
     "execution_count": 16,
     "metadata": {},
     "output_type": "execute_result"
    }
   ],
   "source": [
    "conn.execute(addresses.insert(), [\n",
    "    {\"user_id\":1, \"email_address\":\"anonymous.kim@gmail.com\"},\n",
    "    {\"user_id\":2, \"email_address\":\"unknown,lee@gmail.com\"}\n",
    "]) # 여러 개의 데이터를 한 번에 넣을 수 있음"
   ]
  },
  {
   "cell_type": "code",
   "execution_count": 17,
   "metadata": {},
   "outputs": [
    {
     "name": "stdout",
     "output_type": "stream",
     "text": [
      "2019-07-09 11:42:14,810 INFO sqlalchemy.engine.base.Engine SELECT users.id, users.name, users.fullname \n",
      "FROM users\n",
      "2019-07-09 11:42:14,811 INFO sqlalchemy.engine.base.Engine ()\n",
      "(1, 'kim', 'Anonymous, Kim')\n",
      "(2, 'lee', 'Unknown, Lee')\n"
     ]
    }
   ],
   "source": [
    "from sqlalchemy.sql import select\n",
    "\n",
    "query = select([users])\n",
    "result = conn.execute(query) #result가 임시 커서를 생성\n",
    "\n",
    "#result에서 패치시키면 스칼라값으로 나오는 문제\n",
    "\n",
    "for row in result:\n",
    "    print(row)"
   ]
  },
  {
   "cell_type": "code",
   "execution_count": 18,
   "metadata": {},
   "outputs": [
    {
     "name": "stdout",
     "output_type": "stream",
     "text": [
      "2019-07-09 11:42:38,782 INFO sqlalchemy.engine.base.Engine SELECT users.name, users.fullname \n",
      "FROM users\n",
      "2019-07-09 11:42:38,783 INFO sqlalchemy.engine.base.Engine ()\n",
      "('kim', 'Anonymous, Kim')\n",
      "('lee', 'Unknown, Lee')\n"
     ]
    }
   ],
   "source": [
    "result = conn.execute(select([users.c.name, users.c.fullname])) #users의 특정 culumn들\n",
    "\n",
    "for row in result:\n",
    "    print(row)"
   ]
  },
  {
   "cell_type": "code",
   "execution_count": 19,
   "metadata": {},
   "outputs": [
    {
     "data": {
      "text/plain": [
       "Table('users', MetaData(bind=None), Column('id', Integer(), table=<users>, primary_key=True, nullable=False), Column('name', String(), table=<users>), Column('fullname', String(), table=<users>), schema=None)"
      ]
     },
     "execution_count": 19,
     "metadata": {},
     "output_type": "execute_result"
    }
   ],
   "source": [
    "users"
   ]
  },
  {
   "cell_type": "code",
   "execution_count": 20,
   "metadata": {},
   "outputs": [
    {
     "name": "stdout",
     "output_type": "stream",
     "text": [
      "2019-07-09 11:45:36,046 INFO sqlalchemy.engine.base.Engine SELECT users.id, users.name, users.fullname \n",
      "FROM users\n",
      "2019-07-09 11:45:36,047 INFO sqlalchemy.engine.base.Engine ()\n"
     ]
    },
    {
     "data": {
      "text/plain": [
       "[(1, 'kim', 'Anonymous, Kim'), (2, 'lee', 'Unknown, Lee')]"
      ]
     },
     "execution_count": 20,
     "metadata": {},
     "output_type": "execute_result"
    }
   ],
   "source": [
    "cur = conn.execute(select([users]))\n",
    "cur.fetchall() #list로 받아온다"
   ]
  },
  {
   "cell_type": "code",
   "execution_count": 21,
   "metadata": {},
   "outputs": [
    {
     "name": "stdout",
     "output_type": "stream",
     "text": [
      "users.id = addresses.user_id\n",
      "users.id = :id_1\n",
      "{'id_1': 1}\n",
      "users.id = addresses.user_id OR users.id = :id_1\n",
      "users.id = addresses.user_id AND users.id = :id_1\n",
      "(users.id = addresses.user_id OR users.id = :id_1) AND addresses.email_address LIKE :email_address_1\n"
     ]
    }
   ],
   "source": [
    "#where절 어떻게?\n",
    "#join 어떻게?\n",
    "from sqlalchemy import and_, or_, not_\n",
    "\n",
    "print(users.c.id == addresses.c.user_id)\n",
    "print(users.c.id == 1)\n",
    "print((users.c.id == 1).compile().params)\n",
    "print(or_(users.c.id == addresses.c.user_id, users.c.id == 1))\n",
    "print(and_(users.c.id == addresses.c.user_id, users.c.id == 1))\n",
    "print(and_(or_(users.c.id == addresses.c.user_id, users.c.id == 1),\n",
    "          addresses.c.email_address.like(\"a%\")))"
   ]
  },
  {
   "cell_type": "code",
   "execution_count": 22,
   "metadata": {},
   "outputs": [
    {
     "name": "stdout",
     "output_type": "stream",
     "text": [
      "2019-07-09 13:16:30,648 INFO sqlalchemy.engine.base.Engine SELECT users.id, users.name, users.fullname \n",
      "FROM users \n",
      "WHERE users.id = ?\n",
      "2019-07-09 13:16:30,649 INFO sqlalchemy.engine.base.Engine (1,)\n",
      "(1, 'kim', 'Anonymous, Kim')\n"
     ]
    }
   ],
   "source": [
    "result = conn.execute(select([users]).where(users.c.id==1))\n",
    "for row in result:\n",
    "    print(row)"
   ]
  },
  {
   "cell_type": "code",
   "execution_count": 23,
   "metadata": {},
   "outputs": [
    {
     "name": "stdout",
     "output_type": "stream",
     "text": [
      "2019-07-09 13:17:06,847 INFO sqlalchemy.engine.base.Engine SELECT users.id, users.name, users.fullname, addresses.id, addresses.user_id, addresses.email_address \n",
      "FROM users, addresses \n",
      "WHERE users.id = addresses.user_id\n",
      "2019-07-09 13:17:06,848 INFO sqlalchemy.engine.base.Engine ()\n",
      "(1, 'kim', 'Anonymous, Kim', 1, 1, 'anonymous.kim@gmail.com')\n",
      "(2, 'lee', 'Unknown, Lee', 2, 2, 'unknown,lee@gmail.com')\n"
     ]
    }
   ],
   "source": [
    "result = conn.execute(select([users, addresses]).where(users.c.id==addresses.c.user_id)) #crossjoin\n",
    "for row in result:\n",
    "    print(row)"
   ]
  },
  {
   "cell_type": "code",
   "execution_count": 26,
   "metadata": {},
   "outputs": [
    {
     "name": "stdout",
     "output_type": "stream",
     "text": [
      "2019-07-09 13:21:29,482 INFO sqlalchemy.engine.base.Engine SELECT users.id, users.fullname, addresses.email_address \n",
      "FROM users, addresses \n",
      "WHERE users.id = addresses.user_id\n",
      "2019-07-09 13:21:29,483 INFO sqlalchemy.engine.base.Engine ()\n",
      "(1, 'Anonymous, Kim', 'anonymous.kim@gmail.com')\n",
      "(2, 'Unknown, Lee', 'unknown,lee@gmail.com')\n"
     ]
    }
   ],
   "source": [
    "result = conn.execute(select([users.c.id, users.c.fullname, addresses.c.email_address]).where(users.c.id==addresses.c.user_id))\n",
    "for row in result:\n",
    "    print(row)"
   ]
  },
  {
   "cell_type": "code",
   "execution_count": 29,
   "metadata": {},
   "outputs": [
    {
     "name": "stdout",
     "output_type": "stream",
     "text": [
      "users JOIN addresses ON users.id = addresses.user_id\n",
      "users JOIN addresses ON users.id = addresses.user_id\n"
     ]
    }
   ],
   "source": [
    "from sqlalchemy import join\n",
    "\n",
    "print(users.join(addresses)) d#밑의 구문과 같은 의미\n",
    "print(users.join(addresses, users.c.id == addresses.c.user_id)) #이미 pk랑 fk를 설정했기 때문에 on절이 필요없음"
   ]
  },
  {
   "cell_type": "code",
   "execution_count": 31,
   "metadata": {},
   "outputs": [
    {
     "name": "stdout",
     "output_type": "stream",
     "text": [
      "2019-07-09 13:25:26,723 INFO sqlalchemy.engine.base.Engine SELECT users.id, users.fullname, addresses.email_address \n",
      "FROM users JOIN addresses ON users.id = addresses.user_id\n",
      "2019-07-09 13:25:26,724 INFO sqlalchemy.engine.base.Engine ()\n",
      "(1, 'Anonymous, Kim', 'anonymous.kim@gmail.com')\n",
      "(2, 'Unknown, Lee', 'unknown,lee@gmail.com')\n"
     ]
    }
   ],
   "source": [
    "query = select([users.c.id, users.c.fullname, addresses.c.email_address]).select_from(users.join(addresses))\n",
    "result = conn.execute(query).fetchall()\n",
    "for row in result:\n",
    "    print(row)"
   ]
  },
  {
   "cell_type": "code",
   "execution_count": null,
   "metadata": {},
   "outputs": [],
   "source": [
    "#테이블변경은 처음 metadata만들 때만"
   ]
  },
  {
   "cell_type": "code",
   "execution_count": 33,
   "metadata": {},
   "outputs": [],
   "source": [
    "metadata.clear()"
   ]
  },
  {
   "cell_type": "code",
   "execution_count": 34,
   "metadata": {},
   "outputs": [
    {
     "data": {
      "text/plain": [
       "immutabledict({})"
      ]
     },
     "execution_count": 34,
     "metadata": {},
     "output_type": "execute_result"
    }
   ],
   "source": [
    "metadata.tables"
   ]
  },
  {
   "cell_type": "code",
   "execution_count": 35,
   "metadata": {},
   "outputs": [],
   "source": [
    "newengine = create_engine(\"sqlite:///createdb.db\", echo=True)"
   ]
  },
  {
   "cell_type": "code",
   "execution_count": 41,
   "metadata": {},
   "outputs": [],
   "source": [
    "artist = Table(\"Artist\", metadata,\n",
    "              Column(\"id\", Integer, primary_key = True),\n",
    "              Column(\"name\", String, nullable = False),\n",
    "              extend_existing=True)\n",
    "\n",
    "album = Table(\"Album\", metadata,\n",
    "             Column(\"id\", Integer, primary_key = True),\n",
    "             Column(\"title\", String, nullable = False),\n",
    "             Column(\"artist_id\", Integer, ForeignKey(\"Artist.id\")),\n",
    "             extend_existing = True)\n",
    "\n",
    "genre = Table(\"Genre\", metadata,\n",
    "             Column(\"id\", Integer, primary_key = True),\n",
    "             Column(\"name\", String, nullable = False),\n",
    "             extend_existing=True)\n",
    "\n",
    "track = Table(\"Track\", metadata,\n",
    "             Column(\"id\", Integer, primary_key = True),\n",
    "             Column(\"title\", String, nullable = False),\n",
    "             Column(\"length\", Integer, nullable = False),\n",
    "             Column(\"rating\", Integer, nullable = False),\n",
    "             Column(\"count\", Integer, nullable = False),\n",
    "             Column(\"album_id\", Integer, ForeignKey(\"Album.id\")),\n",
    "             Column(\"genre_id\", Integer, ForeignKey(\"Genre.id\")),\n",
    "             extend_existing=True)"
   ]
  },
  {
   "cell_type": "code",
   "execution_count": 42,
   "metadata": {},
   "outputs": [
    {
     "name": "stdout",
     "output_type": "stream",
     "text": [
      "2019-07-09 13:39:20,480 INFO sqlalchemy.engine.base.Engine PRAGMA table_info(\"Artist\")\n",
      "2019-07-09 13:39:20,480 INFO sqlalchemy.engine.base.Engine ()\n",
      "2019-07-09 13:39:20,482 INFO sqlalchemy.engine.base.Engine PRAGMA table_info(\"Album\")\n",
      "2019-07-09 13:39:20,482 INFO sqlalchemy.engine.base.Engine ()\n",
      "2019-07-09 13:39:20,483 INFO sqlalchemy.engine.base.Engine PRAGMA table_info(\"Track\")\n",
      "2019-07-09 13:39:20,484 INFO sqlalchemy.engine.base.Engine ()\n",
      "2019-07-09 13:39:20,484 INFO sqlalchemy.engine.base.Engine PRAGMA table_info(\"Genre\")\n",
      "2019-07-09 13:39:20,485 INFO sqlalchemy.engine.base.Engine ()\n",
      "2019-07-09 13:39:20,486 INFO sqlalchemy.engine.base.Engine \n",
      "CREATE TABLE \"Artist\" (\n",
      "\tid INTEGER NOT NULL, \n",
      "\tname VARCHAR NOT NULL, \n",
      "\tPRIMARY KEY (id)\n",
      ")\n",
      "\n",
      "\n",
      "2019-07-09 13:39:20,487 INFO sqlalchemy.engine.base.Engine ()\n",
      "2019-07-09 13:39:20,488 INFO sqlalchemy.engine.base.Engine COMMIT\n",
      "2019-07-09 13:39:20,489 INFO sqlalchemy.engine.base.Engine \n",
      "CREATE TABLE \"Genre\" (\n",
      "\tid INTEGER NOT NULL, \n",
      "\tname VARCHAR NOT NULL, \n",
      "\tPRIMARY KEY (id)\n",
      ")\n",
      "\n",
      "\n",
      "2019-07-09 13:39:20,490 INFO sqlalchemy.engine.base.Engine ()\n",
      "2019-07-09 13:39:20,491 INFO sqlalchemy.engine.base.Engine COMMIT\n",
      "2019-07-09 13:39:20,492 INFO sqlalchemy.engine.base.Engine \n",
      "CREATE TABLE \"Album\" (\n",
      "\tid INTEGER NOT NULL, \n",
      "\ttitle VARCHAR NOT NULL, \n",
      "\tartist_id INTEGER, \n",
      "\tPRIMARY KEY (id), \n",
      "\tFOREIGN KEY(artist_id) REFERENCES \"Artist\" (id)\n",
      ")\n",
      "\n",
      "\n",
      "2019-07-09 13:39:20,493 INFO sqlalchemy.engine.base.Engine ()\n",
      "2019-07-09 13:39:20,494 INFO sqlalchemy.engine.base.Engine COMMIT\n",
      "2019-07-09 13:39:20,495 INFO sqlalchemy.engine.base.Engine \n",
      "CREATE TABLE \"Track\" (\n",
      "\tid INTEGER NOT NULL, \n",
      "\ttitle VARCHAR NOT NULL, \n",
      "\tlength INTEGER NOT NULL, \n",
      "\trating INTEGER NOT NULL, \n",
      "\tcount INTEGER NOT NULL, \n",
      "\talbum_id INTEGER, \n",
      "\tgenre_id INTEGER, \n",
      "\tPRIMARY KEY (id), \n",
      "\tFOREIGN KEY(album_id) REFERENCES \"Album\" (id), \n",
      "\tFOREIGN KEY(genre_id) REFERENCES \"Genre\" (id)\n",
      ")\n",
      "\n",
      "\n",
      "2019-07-09 13:39:20,496 INFO sqlalchemy.engine.base.Engine ()\n",
      "2019-07-09 13:39:20,498 INFO sqlalchemy.engine.base.Engine COMMIT\n"
     ]
    }
   ],
   "source": [
    "metadata.create_all(newengine)"
   ]
  },
  {
   "cell_type": "code",
   "execution_count": 44,
   "metadata": {},
   "outputs": [
    {
     "name": "stdout",
     "output_type": "stream",
     "text": [
      "Artist\n",
      "Album\n",
      "Track\n",
      "Genre\n",
      "2019-07-09 13:44:59,302 INFO sqlalchemy.engine.base.Engine SELECT name FROM sqlite_master WHERE type='table' ORDER BY name\n",
      "2019-07-09 13:44:59,303 INFO sqlalchemy.engine.base.Engine ()\n",
      "Album\n",
      "Artist\n",
      "Genre\n",
      "Track\n"
     ]
    }
   ],
   "source": [
    "tables = metadata.tables\n",
    "for table in tables:\n",
    "    print(table)\n",
    "    \n",
    "for table in newengine.table_names():\n",
    "    print(table)"
   ]
  },
  {
   "cell_type": "code",
   "execution_count": 45,
   "metadata": {},
   "outputs": [],
   "source": [
    "conn = newengine.connect()"
   ]
  },
  {
   "cell_type": "code",
   "execution_count": 46,
   "metadata": {},
   "outputs": [
    {
     "name": "stdout",
     "output_type": "stream",
     "text": [
      "2019-07-09 14:05:38,443 INFO sqlalchemy.engine.base.Engine INSERT INTO \"Artist\" (name) VALUES (?)\n",
      "2019-07-09 14:05:38,444 INFO sqlalchemy.engine.base.Engine (('Led Zepplin',), ('AC/DC',))\n",
      "2019-07-09 14:05:38,445 INFO sqlalchemy.engine.base.Engine COMMIT\n",
      "2019-07-09 14:05:38,447 INFO sqlalchemy.engine.base.Engine INSERT INTO \"Album\" (title, artist_id) VALUES (?, ?)\n",
      "2019-07-09 14:05:38,447 INFO sqlalchemy.engine.base.Engine (('IV', 1), ('Who Made Who', 2))\n",
      "2019-07-09 14:05:38,448 INFO sqlalchemy.engine.base.Engine COMMIT\n",
      "2019-07-09 14:05:38,450 INFO sqlalchemy.engine.base.Engine INSERT INTO \"Genre\" (name) VALUES (?)\n",
      "2019-07-09 14:05:38,451 INFO sqlalchemy.engine.base.Engine (('Rock',), ('Metal',))\n",
      "2019-07-09 14:05:38,452 INFO sqlalchemy.engine.base.Engine COMMIT\n"
     ]
    },
    {
     "ename": "TypeError",
     "evalue": "'Insert' object is not subscriptable",
     "output_type": "error",
     "traceback": [
      "\u001b[0;31m---------------------------------------------------------------------------\u001b[0m",
      "\u001b[0;31mTypeError\u001b[0m                                 Traceback (most recent call last)",
      "\u001b[0;32m<ipython-input-46-46ee8a5c1725>\u001b[0m in \u001b[0;36m<module>\u001b[0;34m\u001b[0m\n\u001b[1;32m     15\u001b[0m     \u001b[0;34m{\u001b[0m\u001b[0;34m\"title\"\u001b[0m\u001b[0;34m:\u001b[0m\u001b[0;34m\"Stairway\"\u001b[0m\u001b[0;34m,\u001b[0m \u001b[0;34m\"rating\"\u001b[0m\u001b[0;34m:\u001b[0m\u001b[0;36m5\u001b[0m\u001b[0;34m,\u001b[0m \u001b[0;34m\"length\"\u001b[0m\u001b[0;34m:\u001b[0m\u001b[0;36m482\u001b[0m\u001b[0;34m,\u001b[0m \u001b[0;34m\"count\"\u001b[0m\u001b[0;34m:\u001b[0m\u001b[0;36m0\u001b[0m\u001b[0;34m,\u001b[0m \u001b[0;34m\"album_id\"\u001b[0m\u001b[0;34m:\u001b[0m\u001b[0;36m1\u001b[0m\u001b[0;34m,\u001b[0m \u001b[0;34m\"genre_id\"\u001b[0m\u001b[0;34m:\u001b[0m\u001b[0;36m1\u001b[0m\u001b[0;34m}\u001b[0m\u001b[0;34m,\u001b[0m\u001b[0;34m\u001b[0m\u001b[0;34m\u001b[0m\u001b[0m\n\u001b[1;32m     16\u001b[0m     \u001b[0;34m{\u001b[0m\u001b[0;34m\"title\"\u001b[0m\u001b[0;34m:\u001b[0m\u001b[0;34m\"About to rock\"\u001b[0m\u001b[0;34m,\u001b[0m \u001b[0;34m\"rating\"\u001b[0m\u001b[0;34m:\u001b[0m\u001b[0;36m5\u001b[0m\u001b[0;34m,\u001b[0m \u001b[0;34m\"length\"\u001b[0m\u001b[0;34m:\u001b[0m\u001b[0;36m313\u001b[0m\u001b[0;34m,\u001b[0m \u001b[0;34m\"count\"\u001b[0m\u001b[0;34m:\u001b[0m\u001b[0;36m0\u001b[0m\u001b[0;34m,\u001b[0m \u001b[0;34m\"album_id\"\u001b[0m\u001b[0;34m:\u001b[0m\u001b[0;36m2\u001b[0m\u001b[0;34m,\u001b[0m \u001b[0;34m\"genre_id\"\u001b[0m\u001b[0;34m:\u001b[0m\u001b[0;36m2\u001b[0m\u001b[0;34m}\u001b[0m\u001b[0;34m,\u001b[0m\u001b[0;34m\u001b[0m\u001b[0;34m\u001b[0m\u001b[0m\n\u001b[0;32m---> 17\u001b[0;31m     \u001b[0;34m{\u001b[0m\u001b[0;34m\"title\"\u001b[0m\u001b[0;34m:\u001b[0m\u001b[0;34m\"Who Made Who\"\u001b[0m\u001b[0;34m,\u001b[0m \u001b[0;34m\"rating\"\u001b[0m\u001b[0;34m:\u001b[0m\u001b[0;36m5\u001b[0m\u001b[0;34m,\u001b[0m \u001b[0;34m\"length\"\u001b[0m\u001b[0;34m:\u001b[0m\u001b[0;36m297\u001b[0m\u001b[0;34m,\u001b[0m \u001b[0;34m\"count\"\u001b[0m\u001b[0;34m:\u001b[0m\u001b[0;36m0\u001b[0m\u001b[0;34m,\u001b[0m \u001b[0;34m\"album_id\"\u001b[0m\u001b[0;34m:\u001b[0m\u001b[0;36m2\u001b[0m\u001b[0;34m,\u001b[0m \u001b[0;34m\"genre_id\"\u001b[0m\u001b[0;34m:\u001b[0m\u001b[0;36m2\u001b[0m\u001b[0;34m}\u001b[0m\u001b[0;34m\u001b[0m\u001b[0;34m\u001b[0m\u001b[0m\n\u001b[0m\u001b[1;32m     18\u001b[0m ])\n",
      "\u001b[0;31mTypeError\u001b[0m: 'Insert' object is not subscriptable"
     ]
    }
   ],
   "source": [
    "conn.execute(artist.insert(), [\n",
    "    {\"name\":\"Led Zepplin\"},\n",
    "    {\"name\":\"AC/DC\"}\n",
    "])\n",
    "conn.execute(album.insert(), [\n",
    "    {\"title\":\"IV\", \"artist_id\":1},\n",
    "    {\"title\":\"Who Made Who\", \"artist_id\":2}\n",
    "])\n",
    "conn.execute(genre.insert(), [\n",
    "    {\"name\":\"Rock\"},\n",
    "    {\"name\":\"Metal\"}\n",
    "])"
   ]
  },
  {
   "cell_type": "code",
   "execution_count": 49,
   "metadata": {},
   "outputs": [
    {
     "name": "stdout",
     "output_type": "stream",
     "text": [
      "2019-07-09 14:12:18,613 INFO sqlalchemy.engine.base.Engine INSERT INTO \"Track\" (title, length, rating, count, album_id, genre_id) VALUES (?, ?, ?, ?, ?, ?)\n",
      "2019-07-09 14:12:18,613 INFO sqlalchemy.engine.base.Engine (('Black Dog', 297, 5, 0, 1, 1), ('Stairway', 482, 5, 0, 1, 1), ('About to rock', 313, 5, 0, 2, 2), ('Who Made Who', 297, 5, 0, 2, 2))\n",
      "2019-07-09 14:12:18,615 INFO sqlalchemy.engine.base.Engine COMMIT\n"
     ]
    },
    {
     "data": {
      "text/plain": [
       "<sqlalchemy.engine.result.ResultProxy at 0x1133ce6a0>"
      ]
     },
     "execution_count": 49,
     "metadata": {},
     "output_type": "execute_result"
    }
   ],
   "source": [
    "conn.execute(track.insert(), [\n",
    "    {\"title\":\"Black Dog\", \"rating\":5, \"length\":297, \"count\":0, \"album_id\":1, \"genre_id\":1},\n",
    "    {\"title\":\"Stairway\", \"rating\":5, \"length\":482, \"count\":0, \"album_id\":1, \"genre_id\":1},\n",
    "    {\"title\":\"About to rock\", \"rating\":5, \"length\":313, \"count\":0, \"album_id\":2, \"genre_id\":2},\n",
    "    {\"title\":\"Who Made Who\", \"rating\":5, \"length\":297, \"count\":0, \"album_id\":2, \"genre_id\":2}\n",
    "])"
   ]
  },
  {
   "cell_type": "code",
   "execution_count": 50,
   "metadata": {},
   "outputs": [
    {
     "name": "stdout",
     "output_type": "stream",
     "text": [
      "\"Track\" JOIN \"Album\" ON \"Album\".id = \"Track\".album_id\n"
     ]
    }
   ],
   "source": [
    "print(track.join(album))"
   ]
  },
  {
   "cell_type": "code",
   "execution_count": 51,
   "metadata": {},
   "outputs": [
    {
     "name": "stdout",
     "output_type": "stream",
     "text": [
      "2019-07-09 14:12:40,894 INFO sqlalchemy.engine.base.Engine SELECT \"Track\".id, \"Track\".title, \"Track\".length, \"Track\".rating, \"Track\".count, \"Track\".album_id, \"Track\".genre_id \n",
      "FROM \"Track\" JOIN \"Album\" ON \"Album\".id = \"Track\".album_id\n",
      "2019-07-09 14:12:40,895 INFO sqlalchemy.engine.base.Engine ()\n"
     ]
    }
   ],
   "source": [
    "result = conn.execute(track.select().select_from(track.join(album)))"
   ]
  },
  {
   "cell_type": "code",
   "execution_count": 52,
   "metadata": {},
   "outputs": [
    {
     "name": "stdout",
     "output_type": "stream",
     "text": [
      "(1, 'Black Dog', 297, 5, 0, 1, 1)\n",
      "(2, 'Stairway', 482, 5, 0, 1, 1)\n",
      "(3, 'About to rock', 313, 5, 0, 2, 2)\n",
      "(4, 'Who Made Who', 297, 5, 0, 2, 2)\n"
     ]
    }
   ],
   "source": [
    "for row in result.fetchall():\n",
    "    print(row)"
   ]
  },
  {
   "cell_type": "code",
   "execution_count": 53,
   "metadata": {},
   "outputs": [
    {
     "name": "stdout",
     "output_type": "stream",
     "text": [
      "2019-07-09 14:13:50,422 INFO sqlalchemy.engine.base.Engine SELECT \"Track\".id, \"Track\".title, \"Track\".length, \"Track\".rating, \"Track\".count, \"Track\".album_id, \"Track\".genre_id \n",
      "FROM \"Track\" JOIN \"Album\" ON \"Album\".id = \"Track\".album_id \n",
      "WHERE \"Album\".id = ?\n",
      "2019-07-09 14:13:50,423 INFO sqlalchemy.engine.base.Engine (1,)\n"
     ]
    }
   ],
   "source": [
    "sesult = conn.execute(track.select().select_from(track.join(album)).where(album.c.id==1))\n",
    "for row in result.fetchall():\n",
    "    print(row)"
   ]
  },
  {
   "cell_type": "code",
   "execution_count": 57,
   "metadata": {},
   "outputs": [
    {
     "name": "stdout",
     "output_type": "stream",
     "text": [
      "\"Track\" JOIN \"Album\" ON \"Album\".id = \"Track\".album_id\n",
      "\"Track\" JOIN \"Album\" ON \"Album\".id = \"Track\".album_id JOIN \"Artist\" ON \"Artist\".id = \"Album\".artist_id\n",
      "\"Track\" JOIN \"Album\" ON \"Album\".id = \"Track\".album_id JOIN \"Artist\" ON \"Artist\".id = \"Album\".artist_id\n",
      "\"Track\" JOIN \"Album\" ON \"Album\".id = \"Track\".album_id JOIN \"Genre\" ON \"Genre\".id = \"Track\".genre_id JOIN \"Artist\" ON \"Artist\".id = \"Album\".artist_id\n",
      "2019-07-09 14:16:53,815 INFO sqlalchemy.engine.base.Engine SELECT \"Track\".title, \"Album\".title, \"Genre\".name, \"Artist\".name \n",
      "FROM \"Track\" JOIN \"Album\" ON \"Album\".id = \"Track\".album_id JOIN \"Genre\" ON \"Genre\".id = \"Track\".genre_id JOIN \"Artist\" ON \"Artist\".id = \"Album\".artist_id\n",
      "2019-07-09 14:16:53,815 INFO sqlalchemy.engine.base.Engine ()\n",
      "('Black Dog', 'IV', 'Rock', 'Led Zepplin')\n",
      "('Stairway', 'IV', 'Rock', 'Led Zepplin')\n",
      "('About to rock', 'Who Made Who', 'Metal', 'AC/DC')\n",
      "('Who Made Who', 'Who Made Who', 'Metal', 'AC/DC')\n",
      "2019-07-09 14:16:53,818 INFO sqlalchemy.engine.base.Engine SELECT \"Track\".id, \"Track\".title, \"Track\".length, \"Track\".rating, \"Track\".count, \"Track\".album_id, \"Track\".genre_id \n",
      "FROM \"Track\" JOIN \"Album\" ON \"Album\".id = \"Track\".album_id JOIN \"Genre\" ON \"Genre\".id = \"Track\".genre_id JOIN \"Artist\" ON \"Artist\".id = \"Album\".artist_id \n",
      "WHERE \"Genre\".id = ? AND \"Artist\".id = ?\n",
      "2019-07-09 14:16:53,818 INFO sqlalchemy.engine.base.Engine (1, 1)\n",
      "(1, 'Black Dog', 297, 5, 0, 1, 1)\n",
      "(2, 'Stairway', 482, 5, 0, 1, 1)\n"
     ]
    }
   ],
   "source": [
    "print(track.join(album))\n",
    "print(track.join(album).join(artist))\n",
    "print(track.join(album).join(artist))\n",
    "print(track.join(album).join(genre).join(artist))\n",
    "\n",
    "result = conn.execute(select([track.c.title, album.c.title, genre.c.name, artist.c.name]).select_from(track.join(album).join(genre).join(artist)))\n",
    "\n",
    "for row in result.fetchall():\n",
    "    print(row)\n",
    "    \n",
    "result = conn.execute(track\n",
    "                    .select()\n",
    "                    .select_from(track.join(album).join(genre).join(artist))\n",
    "                    .where(and_(genre.c.id==1, artist.c.id==1,)))\n",
    "for row in result.fetchall():\n",
    "    print(row)"
   ]
  },
  {
   "cell_type": "code",
   "execution_count": 58,
   "metadata": {},
   "outputs": [],
   "source": [
    "conn.close()\n",
    "metadata.clear()"
   ]
  },
  {
   "cell_type": "code",
   "execution_count": 59,
   "metadata": {},
   "outputs": [],
   "source": [
    "tables  = metadata.tables\n",
    "for table in tables:\n",
    "    print(table)"
   ]
  },
  {
   "cell_type": "code",
   "execution_count": 60,
   "metadata": {},
   "outputs": [
    {
     "data": {
      "text/plain": [
       "immutabledict({})"
      ]
     },
     "execution_count": 60,
     "metadata": {},
     "output_type": "execute_result"
    }
   ],
   "source": [
    "metadata.tables"
   ]
  },
  {
   "cell_type": "code",
   "execution_count": 61,
   "metadata": {},
   "outputs": [
    {
     "name": "stdout",
     "output_type": "stream",
     "text": [
      "2019-07-09 14:20:49,065 INFO sqlalchemy.engine.base.Engine SELECT name FROM sqlite_master WHERE type='table' ORDER BY name\n",
      "2019-07-09 14:20:49,066 INFO sqlalchemy.engine.base.Engine ()\n",
      "Album\n",
      "Artist\n",
      "Genre\n",
      "Track\n"
     ]
    }
   ],
   "source": [
    "for table in newengine.table_names():\n",
    "    print(table)"
   ]
  },
  {
   "cell_type": "markdown",
   "metadata": {},
   "source": [
    "위 두 개의 실행 결과가 다르다.  \n",
    "metadata의 tables는 없음.  \n",
    "엔진에는 우리가 생성했던 네 개의 테이블 존재.  \n",
    "--> 지금은 메모리 상에 올라온 인스턴트 등은 없고 dbms에서 관리하는 db에서만 데이터가 있는 상황"
   ]
  },
  {
   "cell_type": "code",
   "execution_count": 63,
   "metadata": {},
   "outputs": [
    {
     "ename": "NameError",
     "evalue": "name 'Metadata' is not defined",
     "output_type": "error",
     "traceback": [
      "\u001b[0;31m---------------------------------------------------------------------------\u001b[0m",
      "\u001b[0;31mNameError\u001b[0m                                 Traceback (most recent call last)",
      "\u001b[0;32m<ipython-input-63-78aa5ad4fcf5>\u001b[0m in \u001b[0;36m<module>\u001b[0;34m\u001b[0m\n\u001b[1;32m      1\u001b[0m \u001b[0mconn\u001b[0m \u001b[0;34m=\u001b[0m \u001b[0mnewengine\u001b[0m\u001b[0;34m.\u001b[0m\u001b[0mconnect\u001b[0m\u001b[0;34m(\u001b[0m\u001b[0;34m)\u001b[0m\u001b[0;34m\u001b[0m\u001b[0;34m\u001b[0m\u001b[0m\n\u001b[0;32m----> 2\u001b[0;31m \u001b[0mmetadata\u001b[0m \u001b[0;34m=\u001b[0m \u001b[0mMetadata\u001b[0m\u001b[0;34m(\u001b[0m\u001b[0mbind\u001b[0m \u001b[0;34m=\u001b[0m \u001b[0mnewengine\u001b[0m\u001b[0;34m,\u001b[0m \u001b[0mreflect\u001b[0m \u001b[0;34m=\u001b[0m \u001b[0;32mTrue\u001b[0m\u001b[0;34m)\u001b[0m\u001b[0;34m\u001b[0m\u001b[0;34m\u001b[0m\u001b[0m\n\u001b[0m\u001b[1;32m      3\u001b[0m \u001b[0mmetadata\u001b[0m\u001b[0;34m.\u001b[0m\u001b[0mreflect\u001b[0m\u001b[0;34m(\u001b[0m\u001b[0mbind\u001b[0m \u001b[0;34m=\u001b[0m \u001b[0mengine\u001b[0m\u001b[0;34m)\u001b[0m\u001b[0;34m\u001b[0m\u001b[0;34m\u001b[0m\u001b[0m\n\u001b[1;32m      4\u001b[0m \u001b[0;34m\u001b[0m\u001b[0m\n\u001b[1;32m      5\u001b[0m \u001b[0;32mfor\u001b[0m \u001b[0mrow\u001b[0m \u001b[0;32min\u001b[0m \u001b[0mmetadata\u001b[0m\u001b[0;34m.\u001b[0m\u001b[0mtables\u001b[0m\u001b[0;34m:\u001b[0m\u001b[0;34m\u001b[0m\u001b[0;34m\u001b[0m\u001b[0m\n",
      "\u001b[0;31mNameError\u001b[0m: name 'Metadata' is not defined"
     ]
    }
   ],
   "source": [
    "conn = newengine.connect()\n",
    "\n",
    "metadata = Metadata(bind = newengine, reflect = True)\n",
    "metadata.reflect(bind = newengine)\n",
    "\n",
    "for row in metadata.tables:\n",
    "    print(row)"
   ]
  },
  {
   "cell_type": "code",
   "execution_count": 64,
   "metadata": {},
   "outputs": [],
   "source": [
    "from sqlalchemy.ext.declarative import declarative_base\n",
    "base = declarative_base()"
   ]
  },
  {
   "cell_type": "code",
   "execution_count": 68,
   "metadata": {},
   "outputs": [],
   "source": [
    "class User(base):\n",
    "    __tablename__ = \"users\"\n",
    "    \n",
    "    id = Column(Integer, primary_key=True)\n",
    "    name = Column(String)\n",
    "    fullname = Column(String)\n",
    "    password = Column(\"passwd\", String)\n",
    "    \n",
    "    def __repr__(self):\n",
    "        return \"<T'User(name = ''%s', fullname = '%s', password = %s)>\" % (self.name, self.fullname, self.password)"
   ]
  },
  {
   "cell_type": "code",
   "execution_count": 69,
   "metadata": {},
   "outputs": [
    {
     "data": {
      "text/plain": [
       "Table('users', MetaData(bind=None), Column('id', Integer(), table=<users>, primary_key=True, nullable=False), Column('name', String(), table=<users>), Column('fullname', String(), table=<users>), Column('passwd', String(), table=<users>), schema=None)"
      ]
     },
     "execution_count": 69,
     "metadata": {},
     "output_type": "execute_result"
    }
   ],
   "source": [
    "User.__table__"
   ]
  },
  {
   "cell_type": "code",
   "execution_count": 70,
   "metadata": {},
   "outputs": [
    {
     "name": "stdout",
     "output_type": "stream",
     "text": [
      "2019-07-09 14:34:11,497 INFO sqlalchemy.engine.base.Engine PRAGMA table_info(\"users\")\n",
      "2019-07-09 14:34:11,498 INFO sqlalchemy.engine.base.Engine ()\n",
      "2019-07-09 14:34:11,499 INFO sqlalchemy.engine.base.Engine \n",
      "CREATE TABLE users (\n",
      "\tid INTEGER NOT NULL, \n",
      "\tname VARCHAR, \n",
      "\tfullname VARCHAR, \n",
      "\tpasswd VARCHAR, \n",
      "\tPRIMARY KEY (id)\n",
      ")\n",
      "\n",
      "\n",
      "2019-07-09 14:34:11,500 INFO sqlalchemy.engine.base.Engine ()\n",
      "2019-07-09 14:34:11,502 INFO sqlalchemy.engine.base.Engine COMMIT\n"
     ]
    }
   ],
   "source": [
    "base.metadata.create_all(newengine) #base에 정의되어있는 상속받았던 class들을 새롭게 create"
   ]
  },
  {
   "cell_type": "code",
   "execution_count": 71,
   "metadata": {},
   "outputs": [
    {
     "name": "stdout",
     "output_type": "stream",
     "text": [
      "<T'User(name = ''kim', fullname = 'anonymous, Kim', password = kimbap heaven)>\n",
      "None\n"
     ]
    }
   ],
   "source": [
    "kim = User(name = \"kim\", fullname = \"anonymous, Kim\", password = \"kimbap heaven\")\n",
    "#User에 대한 instance\n",
    "#users에 대한 하나의 record\n",
    "print(kim)\n",
    "print(kim.id)"
   ]
  },
  {
   "cell_type": "code",
   "execution_count": 72,
   "metadata": {},
   "outputs": [
    {
     "data": {
      "text/plain": [
       "<Mapper at 0x111540128; User>"
      ]
     },
     "execution_count": 72,
     "metadata": {},
     "output_type": "execute_result"
    }
   ],
   "source": [
    "User.__mapper__"
   ]
  },
  {
   "cell_type": "code",
   "execution_count": 75,
   "metadata": {},
   "outputs": [],
   "source": [
    "from sqlalchemy.orm import sessionmaker\n",
    "\n",
    "Session = sessionmaker(bind = newengine) \n",
    "#데이터베이스 그리고 베이스를 상속받아 만든 오프젝트들 간에 왔다갔다해주는 역할\n",
    "session = Session()"
   ]
  },
  {
   "cell_type": "code",
   "execution_count": 77,
   "metadata": {},
   "outputs": [],
   "source": [
    "session.add(kim)\n",
    "\n",
    "session.add_all([\n",
    "    User(name = 'lee', fullname = \"unknown, Lee\", password = \"123456789a\"),\n",
    "    User(name = \"park\", fullname = \"nobody, Park\", password = \"Parking in Park\")\n",
    "])\n",
    "#pending\n",
    "#mapper를 통해서 연관된 클래스에 있는 애들의 instance들을 table에 넣을 준비 함"
   ]
  },
  {
   "cell_type": "code",
   "execution_count": 78,
   "metadata": {},
   "outputs": [
    {
     "name": "stdout",
     "output_type": "stream",
     "text": [
      "2019-07-09 14:47:17,190 INFO sqlalchemy.engine.base.Engine BEGIN (implicit)\n",
      "2019-07-09 14:47:17,192 INFO sqlalchemy.engine.base.Engine INSERT INTO users (name, fullname, passwd) VALUES (?, ?, ?)\n",
      "2019-07-09 14:47:17,193 INFO sqlalchemy.engine.base.Engine ('kim', 'anonymous, Kim', 'kimbap heaven')\n",
      "2019-07-09 14:47:17,194 INFO sqlalchemy.engine.base.Engine INSERT INTO users (name, fullname, passwd) VALUES (?, ?, ?)\n",
      "2019-07-09 14:47:17,194 INFO sqlalchemy.engine.base.Engine ('lee', 'unknown, Lee', '123456789a')\n",
      "2019-07-09 14:47:17,195 INFO sqlalchemy.engine.base.Engine INSERT INTO users (name, fullname, passwd) VALUES (?, ?, ?)\n",
      "2019-07-09 14:47:17,195 INFO sqlalchemy.engine.base.Engine ('park', 'nobody, Park', 'Parking in Park')\n",
      "2019-07-09 14:47:17,197 INFO sqlalchemy.engine.base.Engine INSERT INTO users (name, fullname, passwd) VALUES (?, ?, ?)\n",
      "2019-07-09 14:47:17,197 INFO sqlalchemy.engine.base.Engine ('lee', 'unknown, Lee', '123456789a')\n",
      "2019-07-09 14:47:17,198 INFO sqlalchemy.engine.base.Engine INSERT INTO users (name, fullname, passwd) VALUES (?, ?, ?)\n",
      "2019-07-09 14:47:17,198 INFO sqlalchemy.engine.base.Engine ('park', 'nobody, Park', 'Parking in Park')\n",
      "2019-07-09 14:47:17,199 INFO sqlalchemy.engine.base.Engine COMMIT\n"
     ]
    }
   ],
   "source": [
    "session.commit()"
   ]
  },
  {
   "cell_type": "code",
   "execution_count": 79,
   "metadata": {},
   "outputs": [],
   "source": [
    "choi = User(name = \"choi\", fullname = \"anonymous, Kim\", password = \"kimbap heaven\")\n",
    "session.add(choi)"
   ]
  },
  {
   "cell_type": "code",
   "execution_count": 80,
   "metadata": {},
   "outputs": [
    {
     "data": {
      "text/plain": [
       "IdentitySet([])"
      ]
     },
     "execution_count": 80,
     "metadata": {},
     "output_type": "execute_result"
    }
   ],
   "source": [
    "session.dirty #모든 session에 대해 변경 여부 체크"
   ]
  },
  {
   "cell_type": "code",
   "execution_count": 81,
   "metadata": {},
   "outputs": [
    {
     "data": {
      "text/plain": [
       "True"
      ]
     },
     "execution_count": 81,
     "metadata": {},
     "output_type": "execute_result"
    }
   ],
   "source": [
    "session.is_modified(choi) # 단일 instance에 대해서 변경 여부 체크\n",
    "#원래는 is_modified == True 이면 .dirty 에 뭐가 있어야 하는데 지금 오류나고 있는듯???"
   ]
  },
  {
   "cell_type": "code",
   "execution_count": 82,
   "metadata": {},
   "outputs": [
    {
     "name": "stdout",
     "output_type": "stream",
     "text": [
      "2019-07-09 14:49:04,047 INFO sqlalchemy.engine.base.Engine BEGIN (implicit)\n",
      "2019-07-09 14:49:04,048 INFO sqlalchemy.engine.base.Engine INSERT INTO users (name, fullname, passwd) VALUES (?, ?, ?)\n",
      "2019-07-09 14:49:04,049 INFO sqlalchemy.engine.base.Engine ('choi', 'anonymous, Kim', 'kimbap heaven')\n",
      "2019-07-09 14:49:04,050 INFO sqlalchemy.engine.base.Engine COMMIT\n"
     ]
    }
   ],
   "source": [
    "session.commit()"
   ]
  },
  {
   "cell_type": "code",
   "execution_count": 83,
   "metadata": {},
   "outputs": [
    {
     "data": {
      "text/plain": [
       "IdentitySet([])"
      ]
     },
     "execution_count": 83,
     "metadata": {},
     "output_type": "execute_result"
    }
   ],
   "source": [
    "session.dirty"
   ]
  },
  {
   "cell_type": "code",
   "execution_count": 84,
   "metadata": {},
   "outputs": [
    {
     "data": {
      "text/plain": [
       "False"
      ]
     },
     "execution_count": 84,
     "metadata": {},
     "output_type": "execute_result"
    }
   ],
   "source": [
    "session.is_modified(choi)"
   ]
  },
  {
   "cell_type": "code",
   "execution_count": 85,
   "metadata": {},
   "outputs": [
    {
     "name": "stdout",
     "output_type": "stream",
     "text": [
      "2019-07-09 14:49:35,350 INFO sqlalchemy.engine.base.Engine BEGIN (implicit)\n",
      "2019-07-09 14:49:35,351 INFO sqlalchemy.engine.base.Engine SELECT users.id AS users_id, users.name AS users_name, users.fullname AS users_fullname \n",
      "FROM users \n",
      "WHERE users.id = ?\n",
      "2019-07-09 14:49:35,352 INFO sqlalchemy.engine.base.Engine (1,)\n"
     ]
    },
    {
     "data": {
      "text/plain": [
       "IdentitySet([<T'User(name = ''kim', fullname = 'anonymous, Kim', password = password)>])"
      ]
     },
     "execution_count": 85,
     "metadata": {},
     "output_type": "execute_result"
    }
   ],
   "source": [
    "kim.password = \"password\"\n",
    "session.dirty #뭔가 뜨면 sink가 안 맞은 것 --> 뭐라도 있으면 반영하기 위해 commit해야함"
   ]
  },
  {
   "cell_type": "code",
   "execution_count": 86,
   "metadata": {},
   "outputs": [
    {
     "data": {
      "text/plain": [
       "True"
      ]
     },
     "execution_count": 86,
     "metadata": {},
     "output_type": "execute_result"
    }
   ],
   "source": [
    "session.is_modified(kim)"
   ]
  },
  {
   "cell_type": "code",
   "execution_count": 87,
   "metadata": {},
   "outputs": [
    {
     "data": {
      "text/plain": [
       "1"
      ]
     },
     "execution_count": 87,
     "metadata": {},
     "output_type": "execute_result"
    }
   ],
   "source": [
    "kim.id"
   ]
  },
  {
   "cell_type": "code",
   "execution_count": 91,
   "metadata": {},
   "outputs": [
    {
     "name": "stdout",
     "output_type": "stream",
     "text": [
      "2019-07-09 15:10:41,516 INFO sqlalchemy.engine.base.Engine SELECT users.passwd AS users_passwd, users.id AS users_id, users.name AS users_name, users.fullname AS users_fullname \n",
      "FROM users\n",
      "2019-07-09 15:10:41,517 INFO sqlalchemy.engine.base.Engine ()\n",
      "<class '__main__.User'>\n",
      "1 kim anonymous, Kim password\n",
      "<class '__main__.User'>\n",
      "2 lee unknown, Lee 123456789a\n",
      "<class '__main__.User'>\n",
      "3 park nobody, Park Parking in Park\n",
      "<class '__main__.User'>\n",
      "4 lee unknown, Lee 123456789a\n",
      "<class '__main__.User'>\n",
      "5 park nobody, Park Parking in Park\n",
      "<class '__main__.User'>\n",
      "6 choi anonymous, Kim kimbap heaven\n"
     ]
    }
   ],
   "source": [
    "for row in session.query(User):\n",
    "    print(type(row)) #<class '__main__.User'> ... class이기 때문에 .id, .name 등으로 접근 가능\n",
    "    print(row.id, row.name, row.fullname, row.password)"
   ]
  },
  {
   "cell_type": "code",
   "execution_count": 92,
   "metadata": {},
   "outputs": [
    {
     "name": "stdout",
     "output_type": "stream",
     "text": [
      "2019-07-09 15:12:36,280 INFO sqlalchemy.engine.base.Engine SELECT users.id AS users_id, users.fullname AS users_fullname \n",
      "FROM users \n",
      "WHERE users.name = ?\n",
      "2019-07-09 15:12:36,281 INFO sqlalchemy.engine.base.Engine ('lee',)\n",
      "<class 'sqlalchemy.util._collections.result'>\n",
      "2 unknown, Lee\n",
      "<class 'sqlalchemy.util._collections.result'>\n",
      "4 unknown, Lee\n",
      "2019-07-09 15:12:36,283 INFO sqlalchemy.engine.base.Engine SELECT users.id AS users_id, users.fullname AS users_fullname \n",
      "FROM users \n",
      "WHERE users.name = ?\n",
      "2019-07-09 15:12:36,284 INFO sqlalchemy.engine.base.Engine ('lee',)\n",
      "<class 'sqlalchemy.util._collections.result'>\n",
      "2 unknown, Lee\n",
      "<class 'sqlalchemy.util._collections.result'>\n",
      "4 unknown, Lee\n"
     ]
    }
   ],
   "source": [
    "# python operator\n",
    "for row in session.query(User.id, User.fullname).filter(User.name == \"lee\"):\n",
    "    print(type(row))\n",
    "    print(row.id, row.fullname)\n",
    "    \n",
    "# sql expression\n",
    "for row in session.query(User.id, User.fullname).filter_by(name = \"lee\"):\n",
    "    print(type(row))\n",
    "    print(row.id, row.fullname)"
   ]
  },
  {
   "cell_type": "code",
   "execution_count": 94,
   "metadata": {},
   "outputs": [],
   "source": [
    "class Artist(base):\n",
    "    __tablename__ = \"Artist\"\n",
    "    \n",
    "    id = Column(Integer, primary_key = True)\n",
    "    name = Column(String)\n",
    "    \n",
    "class Album(base):\n",
    "    __tablename__ = \"Album\"\n",
    "    \n",
    "    id = Column(Integer, primary_key = True)\n",
    "    title = Column(String)\n",
    "    artist_id = Column(Integer, ForeignKey(\"Artist.id\"))\n",
    "    \n",
    "class Genre(base):\n",
    "    __tablename__ = \"Genre\"\n",
    "    \n",
    "    id = Column(Integer, primary_key = True)\n",
    "    name = Column(String)\n",
    "    \n",
    "class Track(base):\n",
    "    __tablename__ = \"Track\"\n",
    "    \n",
    "    id = Column(Integer, primary_key = True)\n",
    "    title = Column(String)\n",
    "    length = Column(Integer)\n",
    "    rating = Column(Integer)\n",
    "    count = Column(Integer)\n",
    "    album_id = Column(Integer, ForeignKey(\"Album.id\"))\n",
    "    genre_id = Column(Integer, ForeignKey(\"Genre.id\"))"
   ]
  },
  {
   "cell_type": "code",
   "execution_count": 96,
   "metadata": {},
   "outputs": [
    {
     "name": "stdout",
     "output_type": "stream",
     "text": [
      "2019-07-09 15:21:45,431 INFO sqlalchemy.engine.base.Engine SELECT \"Track\".title AS \"Track_title\", \"Album\".title AS \"Album_title\", \"Genre\".name AS \"Genre_name\", \"Artist\".name AS \"Artist_name\" \n",
      "FROM \"Track\" JOIN \"Album\" ON \"Album\".id = \"Track\".album_id JOIN \"Genre\" ON \"Genre\".id = \"Track\".genre_id JOIN \"Artist\" ON \"Artist\".id = \"Album\".artist_id\n",
      "2019-07-09 15:21:45,431 INFO sqlalchemy.engine.base.Engine ()\n",
      "('Black Dog', 'IV', 'Rock', 'Led Zepplin')\n",
      "('Stairway', 'IV', 'Rock', 'Led Zepplin')\n",
      "('About to rock', 'Who Made Who', 'Metal', 'AC/DC')\n",
      "('Who Made Who', 'Who Made Who', 'Metal', 'AC/DC')\n"
     ]
    },
    {
     "data": {
      "text/plain": [
       "[{'Track': 'Black Dog',\n",
       "  'Album': 'IV',\n",
       "  'Genre': 'Rock',\n",
       "  'Artist': 'Led Zepplin'},\n",
       " {'Track': 'Stairway',\n",
       "  'Album': 'IV',\n",
       "  'Genre': 'Rock',\n",
       "  'Artist': 'Led Zepplin'},\n",
       " {'Track': 'About to rock',\n",
       "  'Album': 'Who Made Who',\n",
       "  'Genre': 'Metal',\n",
       "  'Artist': 'AC/DC'},\n",
       " {'Track': 'Who Made Who',\n",
       "  'Album': 'Who Made Who',\n",
       "  'Genre': 'Metal',\n",
       "  'Artist': 'AC/DC'}]"
      ]
     },
     "execution_count": 96,
     "metadata": {},
     "output_type": "execute_result"
    }
   ],
   "source": [
    "result = session.query(Track.title, Album.title, Genre.name, Artist.name).select_from(Track).join(Album).join(Genre).join(Artist).all()\n",
    "\n",
    "for row in result:\n",
    "    print(row)\n",
    "    \n",
    "songList = [dict(Track = row[0], Album = row[1], Genre = row[2], Artist = row[3]) for row in result]\n",
    "\n",
    "songList"
   ]
  },
  {
   "cell_type": "markdown",
   "metadata": {},
   "source": [
    "기본적으로 쿼리를 날리면 스칼라로 받아옴. 튜플의 형태로 하나만 받아온다. (.one()) 만약 쿼리 날려서 selectall해서 다 얻고 싶다면 마지막에 .all()하면 리스트로 받아온다."
   ]
  },
  {
   "cell_type": "code",
   "execution_count": 5,
   "metadata": {},
   "outputs": [],
   "source": [
    "from sqlalchemy import Table, Column, Integer, String, MetaData, ForeignKey\n",
    "from sqlalchemy.ext.declarative import declarative_base\n",
    "base = declarative_base()\n",
    "from sqlalchemy.orm import sessionmaker, relationship\n",
    "\n",
    "class Artist(base):\n",
    "    __tablename__ = \"Artist\"\n",
    "    \n",
    "    id = Column(Integer, primary_key = True)\n",
    "    name = Column(String)\n",
    "    \n",
    "    albumList = relationship(\"Album\", back_populates = \"artist\")\n",
    "    \n",
    "class Album(base):\n",
    "    __tablename__ = \"Album\"\n",
    "    \n",
    "    id = Column(Integer, primary_key = True)\n",
    "    title = Column(String)\n",
    "    artist_id = Column(Integer, ForeignKey(\"Artist.id\"))\n",
    "    \n",
    "    artist = relationship(\"Artist\", back_populates = \"albumList\", uselist = False) #일대다관계\n",
    "    trackList = relationship(\"Track\", back_populates = \"album\")\n",
    "    \n",
    "class Genre(base):\n",
    "    __tablename__ = \"Genre\"\n",
    "    \n",
    "    id = Column(Integer, primary_key = True)\n",
    "    name = Column(String)\n",
    "    \n",
    "    trackList = relationship(\"Track\", back_populates = \"genre\")\n",
    "    \n",
    "class Track(base):\n",
    "    __tablename__ = \"Track\"\n",
    "    \n",
    "    id = Column(Integer, primary_key = True)\n",
    "    title = Column(String)\n",
    "    length = Column(Integer)\n",
    "    rating = Column(Integer)\n",
    "    count = Column(Integer)\n",
    "    album_id = Column(Integer, ForeignKey(\"Album.id\"))\n",
    "    genre_id = Column(Integer, ForeignKey(\"Genre.id\"))\n",
    "    \n",
    "    album = relationship(\"Album\", back_populates = \"trackList\", uselist = False)\n",
    "    genre = relationship(\"Genre\", back_populates = \"trackList\", uselist = False)"
   ]
  },
  {
   "cell_type": "markdown",
   "metadata": {},
   "source": [
    "regular expression : 속도가 가장 빠름  \n",
    "쉘 스크립트를 짤 때도 강력하게 동작.  \n",
    "자연어(인공어와 다르게)의 패턴을 찾기가 힘든데 그 패턴을 어떻게든 만들어보려고 하는 노력 중 일환.  \n",
    "search pattern!  \n",
    "줄여서 RE  \n",
    "주어진 텍스트로부터 (unstructured data) 원하는 패턴이 튀어나오도록.  \n",
    "structured data로 전처리.  \n",
    "searching, relpacing, parsing!\n",
    "input에 의해 스트링이 들어오면 특정한 패턴을 찾거나 특정한 패턴에 맞는 애들을 replace시키거나  \n",
    "엄청나게 많은 텍스트 데이터를 처리하는 데에 속도가 빠름!  \n",
    "정확하게 말하면 유닉스 리눅스를 사용하여 이걸 할 때 속도가 제일 빠르다.  \n",
    "한글 같은 경우 특히 이걸 써야 함.  \n",
    "한글은 표면적인 형태가 다가 아니다.  \n",
    "얘를 줘 봤자 학습 제대로 안됨.  \n",
    "예제 대부분 영어. 그러나 한국말 처리 또한 관건.  \n",
    "영어 - 하나의 어절 자체가 그 자체로 한 단어. -> sequence to sequence model에 잘 맞음.  \n",
    "조사 처리를 제대로 안 해주면 어근(말의 중심, 시작점)을 못 찾기 때문에  \n",
    "음가, 음절, 음소, 단어, 형태소 모두 다름.  \n",
    "이걸 알아야 NLP 또는 NLP를 이용한 음성인식 가능  \n",
    "주로 search하는 데에 사용.  \n",
    "특히 웹에서도 많이 사용 - validation을 위한 용도.  \n",
    "프론트를 하든 백을 하든 정규식은 항상 들어감.  \n",
    "이메일 체크, 도메인 체크, 전화번호 체크.  \n",
    "유일한 단점 : learning curve 존재...처음 진입하기가 힘들다.  \n",
    "quantification을 이용해서 수량에 대해 할 수 있음. 예) 최소 몇 번 반복, a가 몇 번 반복.  \n",
    "원하는 패턴을 찾았으면 grouping해줄 수 있음. (html parsing할 때 많이 사용.).  \n",
    ". : any character. 키보드를 사용해서, 또는 문자표에서 사용할 수 있는 문자 하나.  \n",
    "a.b : a + 아무 글자 + b  \n",
    "* : 반복  \n",
    "ab*c : b가 0번 이상 반복  \n",
    "?(question) : boolean  \n"
   ]
  },
  {
   "cell_type": "markdown",
   "metadata": {},
   "source": [
    "문장이나 문단에 적용하긴 좀 힘들고 단어레벨에서 유용"
   ]
  },
  {
   "cell_type": "code",
   "execution_count": null,
   "metadata": {},
   "outputs": [],
   "source": []
  }
 ],
 "metadata": {
  "kernelspec": {
   "display_name": "Python 3",
   "language": "python",
   "name": "python3"
  },
  "language_info": {
   "codemirror_mode": {
    "name": "ipython",
    "version": 3
   },
   "file_extension": ".py",
   "mimetype": "text/x-python",
   "name": "python",
   "nbconvert_exporter": "python",
   "pygments_lexer": "ipython3",
   "version": "3.7.3"
  }
 },
 "nbformat": 4,
 "nbformat_minor": 2
}
