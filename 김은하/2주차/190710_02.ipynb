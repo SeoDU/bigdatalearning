{
 "cells": [
  {
   "cell_type": "code",
   "execution_count": null,
   "metadata": {},
   "outputs": [],
   "source": [
    "import json\n",
    "import urllib.requet\n",
    "\n",
    "url = \"http://ip.jsontest.com\" # json test용\n",
    "# 처음에 아무것도 안한 상태로 내 ip 전달\n",
    "# client와 server가 json을 주고받는 예제\n",
    "\n",
    "obj = {\"name\" : \"김이박\", \"age\" : 30}\n",
    "objStr = json.dumps(obj)\n",
    "objByte = objStr.encode(\"utf-8\")\n",
    "\n",
    "# 실제 c-s 통신하는 방법\n",
    "req = urllib.request.Request(url, data = objByte, headers = {'content-type' : 'application/json'})\n",
    "res = urllib.request.urlopen(req)\n",
    "\n",
    "resByte = res.read()\n",
    "resStr = resByte.decode(\"utf-8\")\n",
    "resObj = json.loads(resStr)\n",
    "\n",
    "print(resByte, type(resByte))\n",
    "print(resStr, type(resStr))\n",
    "print(resObj, type(resObj))"
   ]
  }
 ],
 "metadata": {
  "kernelspec": {
   "display_name": "Python 3",
   "language": "python",
   "name": "python3"
  },
  "language_info": {
   "codemirror_mode": {
    "name": "ipython",
    "version": 3
   },
   "file_extension": ".py",
   "mimetype": "text/x-python",
   "name": "python",
   "nbconvert_exporter": "python",
   "pygments_lexer": "ipython3",
   "version": "3.7.3"
  }
 },
 "nbformat": 4,
 "nbformat_minor": 2
}
