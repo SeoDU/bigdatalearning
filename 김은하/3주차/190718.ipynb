{
 "cells": [
  {
   "cell_type": "code",
   "execution_count": null,
   "metadata": {},
   "outputs": [],
   "source": [
    "import requests\n",
    "import time\n",
    "\n",
    "headers = {\"user-agent\" : \"Mozilla/5.0 (Macintosh; Intel Mac OS X 10_14_5) AppleWebKit/537.36 (KHTML, like Gecko) Chrome/75.0.3770.100 Safari/537.36\"}\n",
    "\n",
    "# request package를 사용하여 error handling\n",
    "def download(method, url, param=None, data=None, timeout=1, maxretries=3):\n",
    "    try:\n",
    "        resp = requests.request(method, url, params=param, data=data, headers=headers)\n",
    "        # 한글처럼 아스키가 아닌 문자들을 변환시킬 때 서비스키도 같이 바꿔버림\n",
    "        resp.raise_for_status()\n",
    "        #if(resp.headers['Content-Type'].split(\"/\")[0] == \"image\"):\n",
    "            #resp.headers['Content-Type'].split(\"/\")[1] #확장자\n",
    "    except requests.exceptions.HTTPError as e:\n",
    "        if 500 <= e.response.status_code < 600 and maxretries > 0:\n",
    "            print(e.response.status_code)\n",
    "            print(e.response.reason)\n",
    "            time.sleep(timeout) # 1초 정도 기다림\n",
    "            print(maxretries)\n",
    "            print(\"재시도\") #maxretries\n",
    "            download(method, url, param, data, timeout, maxretries-1)\n",
    "        else:\n",
    "            print(e.response.status_code)\n",
    "            print(e.response.reason)\n",
    "    return resp"
   ]
  },
  {
   "cell_type": "code",
   "execution_count": null,
   "metadata": {},
   "outputs": [],
   "source": [
    "from selenium import webdriver\n",
    "\n",
    "driver = webdriver.Chrome('/Users/eunha/Desktop/2019 빅데이터 청년인재/chromedriver')"
   ]
  },
  {
   "cell_type": "code",
   "execution_count": null,
   "metadata": {},
   "outputs": [],
   "source": [
    "driver.get(\"https://ticket.interpark.com\")"
   ]
  },
  {
   "cell_type": "code",
   "execution_count": null,
   "metadata": {
    "scrolled": true
   },
   "outputs": [],
   "source": [
    "driver.get_cookies()"
   ]
  },
  {
   "cell_type": "code",
   "execution_count": null,
   "metadata": {},
   "outputs": [],
   "source": [
    "[_[\"name\"] for _ in driver.get_cookies()]"
   ]
  },
  {
   "cell_type": "code",
   "execution_count": null,
   "metadata": {
    "scrolled": true
   },
   "outputs": [],
   "source": [
    "[_[\"name\"] for _ in driver.get_cookies()]"
   ]
  },
  {
   "cell_type": "code",
   "execution_count": null,
   "metadata": {},
   "outputs": [],
   "source": [
    "import json\n",
    "account = {\"id\":\"1002galaxy\", \"pw\":\"dmskzla12.\"}"
   ]
  },
  {
   "cell_type": "code",
   "execution_count": null,
   "metadata": {},
   "outputs": [],
   "source": [
    "driver.window_handles"
   ]
  },
  {
   "cell_type": "code",
   "execution_count": null,
   "metadata": {},
   "outputs": [],
   "source": [
    "# 로그인 버튼 찾기\n",
    "def login(account, method=\"login\"):\n",
    "    try:\n",
    "        login = driver.find_element_by_css_selector(\"#logstatus > a\")\n",
    "        if method == \"login\":\n",
    "            # 로그인 버튼을 찾고 로그인되었는지 확인\n",
    "            if login.get_attribute(\"id\") and login.get_attribute(\"id\") == \"aLogin\":\n",
    "                #로그인 안 되어 있다면 로그인!\n",
    "                print(\"로그인 진행\")\n",
    "                driver.get(login.get_attribute(\"href\"))\n",
    "                driver.find_element_by_css_selector(\"#UID\").send_keys(account[\"id\"])\n",
    "                driver.find_element_by_css_selector(\"#PWD\").send_keys(account[\"pw\"])\n",
    "                driver.find_element_by_css_selector(\"div.loginBtn > button\").click()\n",
    "            else:\n",
    "                print(\"이미 로그인 되어 있음\")\n",
    "        else:\n",
    "            # 로그아웃\n",
    "            print(\"로그아웃 진행\")\n",
    "            login.click()\n",
    "    except:\n",
    "        # 실행 중 에러 뜨면 False return\n",
    "        return False\n",
    "    return True"
   ]
  },
  {
   "cell_type": "code",
   "execution_count": null,
   "metadata": {},
   "outputs": [],
   "source": [
    "login(account, \"login\")\n",
    "# login(Account, \"logout\") <- 로그아웃"
   ]
  },
  {
   "cell_type": "code",
   "execution_count": null,
   "metadata": {},
   "outputs": [],
   "source": [
    "_login = [_[\"name\"] for _ in driver.get_cookies()]"
   ]
  },
  {
   "cell_type": "code",
   "execution_count": null,
   "metadata": {},
   "outputs": [],
   "source": [
    "_logout = [_[\"name\"] for _ in driver.get_cookies()]"
   ]
  },
  {
   "cell_type": "code",
   "execution_count": null,
   "metadata": {},
   "outputs": [],
   "source": [
    "set(_login) - set(_logout)"
   ]
  },
  {
   "cell_type": "code",
   "execution_count": null,
   "metadata": {
    "scrolled": true
   },
   "outputs": [],
   "source": [
    "# 로그인되어 있으면 로그아웃, 로그아웃되어 있으면 로그인\n",
    "if \"ISession%5FID\" not in [_[\"name\"] for _ in driver.get_cookies()]:\n",
    "    login(account)\n",
    "else:\n",
    "    login(None, \"logout\")"
   ]
  },
  {
   "cell_type": "code",
   "execution_count": null,
   "metadata": {},
   "outputs": [],
   "source": [
    "# 공연 관련 목록 뽑아오기\n",
    "# 기본적으로는 콘서트 주소를 리턴해주지만 내가 원하는 게 있으면 그 주소값을 리턴\n",
    "def gnbbtns(category=\"콘서트\"):\n",
    "    links = [_ for _ in driver.find_elements_by_css_selector(\"ul.gnbBtns a[class^=btn]\")]\n",
    "    titles = [_.find_element_by_css_selector(\"img\").get_attribute(\"alt\") for _ in links]\n",
    "    if category in titles:\n",
    "        return links[titles.index(category)].get_attribute(\"href\")\n",
    "    return False"
   ]
  },
  {
   "cell_type": "code",
   "execution_count": null,
   "metadata": {},
   "outputs": [],
   "source": [
    "url = gnbbtns(\"콘서트\")\n",
    "if url:\n",
    "    driver.get(url)"
   ]
  },
  {
   "cell_type": "code",
   "execution_count": null,
   "metadata": {},
   "outputs": [],
   "source": [
    "# 공연 정보 불러오기\n",
    "# 다음에 좌측 콘서트탭 우측아래 전체보기 버튼 눌러서 해보는 거 해보기..\n",
    "def hotissue(issue=None):\n",
    "    issues = [_ for _ in driver.find_elements_by_css_selector(\"div.wrap_issue dl.list > dt.issue_obj > a\")]\n",
    "    title = [_.find_element_by_css_selector(\"span.txt1\").text for _ in issues]\n",
    "    if issue in title:\n",
    "        return issues[title.index(issue)].get_attribute(\"href\")\n",
    "    else:\n",
    "        return issues[0].get_attribute(\"href\")\n",
    "        "
   ]
  },
  {
   "cell_type": "code",
   "execution_count": null,
   "metadata": {},
   "outputs": [],
   "source": [
    "hotissue(\"박정현\")"
   ]
  },
  {
   "cell_type": "code",
   "execution_count": null,
   "metadata": {},
   "outputs": [],
   "source": [
    "driver.get(hotissue(\"박정현\"))"
   ]
  },
  {
   "cell_type": "code",
   "execution_count": null,
   "metadata": {},
   "outputs": [],
   "source": [
    "driver.find_element_by_css_selector(\"div.tk_dt_btn_TArea a span\").click()"
   ]
  },
  {
   "cell_type": "code",
   "execution_count": null,
   "metadata": {},
   "outputs": [],
   "source": [
    "driver.window_handles"
   ]
  },
  {
   "cell_type": "code",
   "execution_count": null,
   "metadata": {},
   "outputs": [],
   "source": [
    "driver.switch_to_window(driver.window_handles[0])"
   ]
  },
  {
   "cell_type": "code",
   "execution_count": null,
   "metadata": {},
   "outputs": [],
   "source": [
    "def bookWindow(options=None):\n",
    "    try:\n",
    "        if options:\n",
    "            print(\"옵션 있음\")\n",
    "            iframe = driver.find_element_by_name(\"ifrCalendar\")\n",
    "            print(\"여기까지\")\n",
    "            if iframe:\n",
    "                driver.switch_to_frame(iframe)\n",
    "                dates = [_ for _ in driver.find_elements_by_css_selector(\"td.able > a\")]\n",
    "                title = [_.text for _ in dates]\n",
    "            \n",
    "            if options in title:\n",
    "                driver.execute_script(dates[title.index(options)].get_attribute(\"onclick\"))\n",
    "            else:\n",
    "                # 무조건 앞에 꺼 선택\n",
    "                driver.execute_script(dates[0].get_attribute(\"onclick\"))\n",
    "            \n",
    "            driver.switch_to_default_content()\n",
    "        driver.find_element_by_css_selector(\".tk_dt_btn_TArea > a span\").click()\n",
    "        driver.switch_to_window(driver.window_handles[-1])\n",
    "        return True\n",
    "    except:\n",
    "        return False"
   ]
  },
  {
   "cell_type": "code",
   "execution_count": null,
   "metadata": {},
   "outputs": [],
   "source": [
    "driver.switch_to_window(driver.window_handles[-1])"
   ]
  },
  {
   "cell_type": "code",
   "execution_count": null,
   "metadata": {},
   "outputs": [],
   "source": [
    "bookWindow(\"20\")"
   ]
  },
  {
   "cell_type": "code",
   "execution_count": null,
   "metadata": {},
   "outputs": [],
   "source": [
    "driver.switch_to_window(driver.window_handles[1])"
   ]
  },
  {
   "cell_type": "code",
   "execution_count": null,
   "metadata": {},
   "outputs": [],
   "source": [
    "iframe = driver.find_element_by_name(\"ifrCalendar\")\n",
    "print(driver.current_url)\n",
    "datelist = [(_.find_element_by_css_selector(\"a\").text, _.find_element_by_css_selector(\"a\").get_attribute(\"href\"), _.find_element_by_css_selector(\"a\").get_attribute(\"onclick\")) for _ in driver.find_elements_by_css_selector(\"div.cal_Wrap tr td\") if _.get_attribute(\"id\")]\n",
    "driver.switch_to_window(driver.window_handles[-1])\n",
    "driver.find_element_by_css_selector(\".tk_dt_btn_TArea > a span\").click()\n",
    "datelist"
   ]
  },
  {
   "cell_type": "code",
   "execution_count": null,
   "metadata": {},
   "outputs": [],
   "source": [
    "driver.execute_script(datelist[0][1]+datelist[0][2])"
   ]
  },
  {
   "cell_type": "code",
   "execution_count": null,
   "metadata": {},
   "outputs": [],
   "source": [
    "datelist = [(_.find_element_by_css_selector(\"a\").text for _ in driver.find_elements_by_css_selector(\"div.cal_Wrap tr td\") if _.get_attribute(\"id\")]\n",
    "datelist"
   ]
  },
  {
   "cell_type": "code",
   "execution_count": null,
   "metadata": {},
   "outputs": [],
   "source": [
    "driver.switch_to_window(driver.window_handles[-1])"
   ]
  },
  {
   "cell_type": "code",
   "execution_count": null,
   "metadata": {},
   "outputs": [],
   "source": [
    "def safeClose():\n",
    "    if len(driver.window_handles) > 1:\n",
    "        for _ in driver.window_handles[1:]:\n",
    "            driver.switch_to_window(_)\n",
    "            driver.close()\n",
    "    driver.switch_to_window(driver.window_handles[0])\n",
    "    driver.switch_to_default_content()"
   ]
  },
  {
   "cell_type": "code",
   "execution_count": null,
   "metadata": {},
   "outputs": [],
   "source": []
  },
  {
   "cell_type": "code",
   "execution_count": null,
   "metadata": {},
   "outputs": [],
   "source": [
    "driver.window_handles"
   ]
  },
  {
   "cell_type": "code",
   "execution_count": null,
   "metadata": {},
   "outputs": [],
   "source": [
    "driver.switch_to_window(driver.window_handles[1])"
   ]
  },
  {
   "cell_type": "code",
   "execution_count": null,
   "metadata": {},
   "outputs": [],
   "source": [
    "driver.find_element_by_id(\"LargeNextBtnImage\").click()"
   ]
  },
  {
   "cell_type": "code",
   "execution_count": null,
   "metadata": {},
   "outputs": [],
   "source": [
    "import re\n",
    "seat = re.compile('<img src=\".+?\" id=\".+?\" class=\".+?\" style=\".+?\" onclick=\"(.+?)\" seatinfo=\".+?\">')"
   ]
  },
  {
   "cell_type": "code",
   "execution_count": null,
   "metadata": {},
   "outputs": [],
   "source": [
    "seatiframe = driver.find_element_by_id(\"ifrmSeat\")\n",
    "driver.switch_to_frame(seatiframe)\n",
    "seatdetailiframe = driver.find_element_by_id(\"ifrmSeatDetail\")\n",
    "driver.switch_to_frame(seatdetailiframe)"
   ]
  },
  {
   "cell_type": "code",
   "execution_count": null,
   "metadata": {
    "scrolled": true
   },
   "outputs": [],
   "source": [
    "seatlist = seat.findall(driver.page_source)"
   ]
  },
  {
   "cell_type": "code",
   "execution_count": null,
   "metadata": {},
   "outputs": [],
   "source": [
    "seatinfore = re.compile(\"javascript: SelectSeat\\('.+?', '.+?', '.+?', '(.+?)', '(.+?)', '.+?'\\)\")"
   ]
  },
  {
   "cell_type": "code",
   "execution_count": null,
   "metadata": {},
   "outputs": [],
   "source": [
    "seatinfore.findall(seatlist[1]) #구역, 열, 좌석번호"
   ]
  },
  {
   "cell_type": "code",
   "execution_count": null,
   "metadata": {},
   "outputs": [],
   "source": [
    "seatinfore.findall(seatlist[1])[0][1]"
   ]
  },
  {
   "cell_type": "code",
   "execution_count": null,
   "metadata": {},
   "outputs": [],
   "source": [
    "seatlist[0]"
   ]
  },
  {
   "cell_type": "code",
   "execution_count": null,
   "metadata": {},
   "outputs": [],
   "source": [
    "#좌석 선택 안 되었을 때 제일 앞 좌석\n",
    "district='Z'\n",
    "row = 14\n",
    "col = 14\n",
    "seatindex = 0\n",
    "print(seatlist[seatindex])\n",
    "for _ in seatlist[1:]:\n",
    "    thisdistrict = seatinfore.findall(_)[0][0]\n",
    "    thisrow = int(seatinfore.findall(_)[0][1])\n",
    "    thiscol = int(seatinfore.findall(_)[0][2])\n",
    "    if thisdistrict < seatinfore.findall(seatlist[seatindex])[0][0]:\n",
    "#         print(thisdistrict)\n",
    "        seatindex = seatlist.index(_)\n",
    "        continue\n",
    "    elif thisdistrict == seatinfore.findall(seatlist[seatindex])[0][0]:\n",
    "        if thisrow < int(seatinfore.findall(seatlist[seatindex])[0][1]):\n",
    "#             print(thisrow)\n",
    "            seatindex = seatlist.index(_)\n",
    "            continue\n",
    "        elif thisrow == int(seatinfore.findall(seatlist[seatindex])[0][1]):\n",
    "            if thiscol < int(seatinfore.findall(seatlist[seatindex])[0][2]):\n",
    "#                 print(thisrow)\n",
    "                seatindex = seatlist.index(_)\n",
    "                continue\n",
    "            else:\n",
    "                continue\n",
    "        else:\n",
    "            continue\n",
    "    else:\n",
    "        continue\n",
    "print(seatlist[seatindex])\n",
    "print(seatindex)"
   ]
  },
  {
   "cell_type": "code",
   "execution_count": null,
   "metadata": {
    "scrolled": true
   },
   "outputs": [],
   "source": [
    "driver.execute_script(seatlist[0])"
   ]
  },
  {
   "cell_type": "code",
   "execution_count": null,
   "metadata": {},
   "outputs": [],
   "source": [
    "driver.switch_to_window(driver.window_handles[1])"
   ]
  },
  {
   "cell_type": "code",
   "execution_count": null,
   "metadata": {
    "scrolled": true
   },
   "outputs": [],
   "source": [
    "seatiframe = driver.find_element_by_id(\"ifrmSeat\")\n",
    "driver.switch_to_frame(seatiframe)"
   ]
  },
  {
   "cell_type": "code",
   "execution_count": null,
   "metadata": {
    "scrolled": true
   },
   "outputs": [],
   "source": [
    "driver.execute_script(\"fnSelect()\")"
   ]
  },
  {
   "cell_type": "code",
   "execution_count": null,
   "metadata": {},
   "outputs": [],
   "source": [
    "driver.switch_to_window(driver.window_handles[1])"
   ]
  },
  {
   "cell_type": "code",
   "execution_count": null,
   "metadata": {},
   "outputs": [],
   "source": [
    "bookstepiframe = driver.find_element_by_id(\"ifrmBookStep\")\n",
    "driver.switch_to_frame(bookstepiframe)"
   ]
  },
  {
   "cell_type": "code",
   "execution_count": null,
   "metadata": {},
   "outputs": [],
   "source": [
    "onfocusscript = driver.find_element_by_css_selector(\"#PriceRow001 td select\").get_attribute(\"onfocus\")\n",
    "onchangescript = driver.find_element_by_css_selector(\"#PriceRow001 td select\").get_attribute(\"onchange\")"
   ]
  },
  {
   "cell_type": "code",
   "execution_count": null,
   "metadata": {},
   "outputs": [],
   "source": [
    "from selenium.webdriver.support.ui import Select"
   ]
  },
  {
   "cell_type": "code",
   "execution_count": null,
   "metadata": {
    "scrolled": true
   },
   "outputs": [],
   "source": [
    "select = Select(driver.find_element_by_css_selector(\"#PriceRow001 td select\"))"
   ]
  },
  {
   "cell_type": "code",
   "execution_count": null,
   "metadata": {},
   "outputs": [],
   "source": [
    "select.select_by_index(1)"
   ]
  },
  {
   "cell_type": "code",
   "execution_count": null,
   "metadata": {},
   "outputs": [],
   "source": [
    "driver.switch_to_window(driver.window_handles[1])"
   ]
  },
  {
   "cell_type": "code",
   "execution_count": null,
   "metadata": {},
   "outputs": [],
   "source": [
    "driver.execute_script(driver.find_element_by_id(\"SmallNextBtnLink\").get_attribute(\"href\"))"
   ]
  },
  {
   "cell_type": "code",
   "execution_count": null,
   "metadata": {},
   "outputs": [],
   "source": [
    "driver.switch_to_window(driver.window_handles[1])"
   ]
  },
  {
   "cell_type": "code",
   "execution_count": null,
   "metadata": {},
   "outputs": [],
   "source": [
    "bookstepiframe = driver.find_element_by_id(\"ifrmBookStep\")\n",
    "driver.switch_to_frame(bookstepiframe)"
   ]
  },
  {
   "cell_type": "code",
   "execution_count": null,
   "metadata": {},
   "outputs": [],
   "source": [
    "driver.find_element_by_id(\"YYMMDD\").send_keys(\"951124\")"
   ]
  },
  {
   "cell_type": "code",
   "execution_count": null,
   "metadata": {},
   "outputs": [],
   "source": [
    "driver.switch_to_window(driver.window_handles[1])"
   ]
  },
  {
   "cell_type": "code",
   "execution_count": null,
   "metadata": {},
   "outputs": [],
   "source": [
    "driver.execute_script(driver.find_element_by_id(\"SmallNextBtnLink\").get_attribute(\"href\"))"
   ]
  },
  {
   "cell_type": "code",
   "execution_count": null,
   "metadata": {},
   "outputs": [],
   "source": [
    "safeClose()"
   ]
  },
  {
   "cell_type": "code",
   "execution_count": null,
   "metadata": {},
   "outputs": [],
   "source": [
    "driver.switch_to_window(driver.window_handles[-1])"
   ]
  },
  {
   "cell_type": "code",
   "execution_count": null,
   "metadata": {},
   "outputs": [],
   "source": [
    "driver.close()"
   ]
  }
 ],
 "metadata": {
  "kernelspec": {
   "display_name": "Python 3",
   "language": "python",
   "name": "python3"
  },
  "language_info": {
   "codemirror_mode": {
    "name": "ipython",
    "version": 3
   },
   "file_extension": ".py",
   "mimetype": "text/x-python",
   "name": "python",
   "nbconvert_exporter": "python",
   "pygments_lexer": "ipython3",
   "version": "3.7.3"
  }
 },
 "nbformat": 4,
 "nbformat_minor": 2
}
