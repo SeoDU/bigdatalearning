{
 "cells": [
  {
   "cell_type": "markdown",
   "metadata": {},
   "source": [
    "# Preprocessing"
   ]
  },
  {
   "cell_type": "markdown",
   "metadata": {},
   "source": [
    "- Iris 데이터..\n",
    "- Text 데이터는 가져온 부분의 일정부분이 feature가 된다.(Vectorize)\n",
    "- 즉 numerical data로 바꿔주어야 한다.\n",
    "- 어떤 모델이 나오든 이것은 해줘야한다.\n",
    "- BERT 성공 이유: Preprocessing을 1억건 해준 이유도 있다.\n",
    "- Text Mining, NLP 기반\n",
    "- 전산 언어학\n",
    "- 머신러닝 + 통계 + 언어학적 내용등 다 필요하다.\n",
    "- NLP안에는 음성, 텍스트, 영상 등등 다 들어가고 텍스트 처리 제일 경쟁력있다.\n",
    "- 챗봇은 만드는 거 힘들 것임. 문맥을 파악해야 하는데 그게 힘들다.\n",
    "- 관련 강의 찾아봤자 하루이틀짜리 강의다.\n",
    "- 챗봇은 intent라는 것을 정의하고, 노가다를 해야한다."
   ]
  },
  {
   "cell_type": "markdown",
   "metadata": {},
   "source": [
    "- 대학원 와서 노예짓 굳이하지 마라. 다시오라면 자기는 안올것"
   ]
  },
  {
   "cell_type": "markdown",
   "metadata": {},
   "source": [
    "#### 응용, Text mining\n",
    "- 온라인 광고를 원래는 랜덤하게 돌렸는데 사람에 맞춤형으로 돌리기시작(구글)\n",
    "- 광고를 보면 사용자 기록에 뭘 봤었는지 기록이 남아 프로파일링 가능\n",
    "- 감정분석 : 정책이 어떻게 생각하는지, 사람들이 국정운영에 대해 생각하는지\n",
    "- 영화평가지고 하는 이유는 starring이 붙어있어서 활용하기 좋음\n",
    "- 음성인식 : 신호처리를 알아야 한다.\n",
    "- NLP의 궁극적인 꼴은 QA 시스템이다."
   ]
  },
  {
   "cell_type": "markdown",
   "metadata": {},
   "source": [
    "- 형태소 분석 : 어근을 찾기위해 쓴다\n",
    "- 담화분석이 안된다 잘(paragraph단위로 하는 것)\n",
    "- 화제를 바꾸면 심심이가 잘 대답 못하는 이유(담화분석이 안되서)\n",
    "- 의미분석도 잘 안된다. : 대체로 word embedding\n",
    "\n",
    "- 우리는 이 분석 이전의 preprocessing을 할 것임"
   ]
  },
  {
   "cell_type": "markdown",
   "metadata": {},
   "source": [
    "#### 형태소 분석\n",
    "- Preprocessing의 거의 마지막 단계\n",
    "- 어간 추출 (Stemming) : 글자들의 공통된 sequence를 찾는 것\n",
    "- Feature의 수가 엄청 많음.> Matrix에 안올라감\n",
    "- 포터스 알고리즘\n",
    "- NLP 한국어 처리는 매우 어려움. 공부할 량이 많다.\n",
    "- lemmatization : 어근추출(말의 원형을 찾는 것) => 형태소분석으로 이어짐\n",
    "- 오늘은 Stemming 할 것. \n",
    "- 품사부착 : '나는'에서 나/날다/나다(풀이솟아) 뜻 등이 많으니 어느 건지 알기 힘듬. 그래서 가능한 것을 만들어 놓고 적절한 품사를 붙이는 것\n",
    "- 그러면 feature라는 것을 찾을 수 있다. 그걸로 index를 만든다.\n",
    "- 랙시콘,vocabulary > dimension이 된다.> search space를 만들어 낸다.> large scale dimension에서 하나의 의미를 만드는게 벡터화라고 한다. : vectorize\n",
    "- 백오브어드모델( 하나만 activate되고 나머지는 0으로 놓고 하는 방법 ... 등\n",
    "- 덴스 벡터, 벡터로 표현하는 방식이 필요하고 딥러닝으로 들어간다.\n",
    "- 품사를 기반으로 해서 문장의 구성성분을 만들어 낼 수 있다.\n",
    "- 체언/용언 등으로 뽑고 목적어와 주어가 되고, 수사 등을 뽑기도 하고\n",
    "- NER이라는 개체명을 찾을 수 있다.: 기계한테 이해할 수 있게 가르쳐주는 데이터가 될 수 있다.\n",
    "- 이렇게 분석 후에,  애플(회사, 과일명)이 있다면 그게 먹을 수 있는 것인 무엇인지 알고 싶고 문장생성을 하고 싶다.\n",
    "- 의미를 찾을 때 사전을 기반으로 해서 찾거나 ontology를 만들어서 하는 것(과거) ontology도 사람이 만드는거라 어차피 사전만드는거라 어려워서 연구가 많이 죽었다.\n",
    "- 상위어 하위어, 반의어 등등을 tree로 만들어서 찾아가는 것 가능\n",
    "- word embedding을 통해 단어가 비슷한 공간에만 위치해 있는지 보면 된다.\n",
    "- 아니면 난수주고 어차피 학습시키면 된다.\n",
    "- 단어가 어떻게 쓰이는지 문장이 어떻게 쓰이는지, 어떻게 쓰이는지 하고까지 왔다.\n",
    "\n",
    "#### 담론분석\n",
    "- 안되는 분야 중 하나. 문맥 파악이 잘 안됨.\n",
    "- 문서요약, 검색\n",
    "- Copy했는지 탐지\n",
    "\n",
    "- 널리 알려진 것은 번역, 감성분석, 언어 생성(한국말 잘 안됨 : 한국어의 특성 때문에, 영어는 하나의 단어가 하나의 어절인데 우리말은 인풋에 하나를 여러개의 형태소로 나누던가 통으로 넣어야하는데 통으로 넣으면 할 수 있다 할 수 있는데 등을 다르게 본다는 문제점이 있다.)"
   ]
  },
  {
   "cell_type": "markdown",
   "metadata": {},
   "source": [
    "- LG 산업보고서 : 우리나라 챗봇 90%는 검색기반이다.\n",
    "- 챗봇을 보면 가장 적합한 선택지를 찾아서 답을 주는 것 뿐이지, 말을 하는 것이아니다. 능동적으로 대화를 한다기 보다는 내가 던진 질문에 가장 적합한것을 찾고 심지어 잘 찾지도 못한다.\n",
    "- 아직 갈길이 멀다. 특수목적 군사용이 아닌 일반적인 ai는 위협될게 없다."
   ]
  },
  {
   "cell_type": "markdown",
   "metadata": {},
   "source": [
    "- 담화는 문단이 여러 개 얽힌 것이다.\n",
    "- 이야기의 흐름이 바뀔 때 엔터를 친다.\n",
    "- 담화는 전혀다른 이야기가 있는게 아니라, 연관이 있는 것들이다.\n",
    "- 문제는 잘 정리된 데이터를 구하기가 힘들다. (Focus:말뭉치)\n",
    "- 언젠가는 양질의 담화데이터를 받을 수 있고 그것을 이용할 수 있을 것이라 생각"
   ]
  },
  {
   "cell_type": "markdown",
   "metadata": {},
   "source": [
    "- 문장을 detect하는 것이 첫번째. 문장은 구나 절로 구성되어 있다.\n",
    "- 담화, 문장, 문단은 서로 같은 의미다.\n",
    "- 최소:문장, 최대 : text 역할이 같다.\n",
    "- 문장이 꼭 마침표가 있지는 않다. 물음표(?), 느낌표(!), 접속사\n",
    "- sentence 토크나이징이 가장 첫번째이다.\n",
    "- 어절 : whitespace를 기반으로 한 것\n",
    "- 방바닥을, 방바닥+을\n",
    "- 있었다 세개로 쪼개진다.\n",
    "- 단어, 어간과 어미를 쪼개서 나열한 형태. : 구분해서 쪼개기 힘들 것이다.\n",
    "- 형태소, 의미를 가진 문법의 최소 단위로 쪼갠다. 방바닥 : 방+바닥\n",
    "- 다른 기관은 영어로 많이할 것이다. 형태소까지 가기 힘들 것이다. 그리고 딥러닝 같은거 다 영어기반이라 우리나라것 별로 없다."
   ]
  },
  {
   "cell_type": "markdown",
   "metadata": {},
   "source": [
    "- 형태소 : 자립형태소/의존형태소/실질형태소/형식형태소\n",
    "- NLP하는 사람은 국문학과 수업 꼭 같이들음.\n",
    "- 실질형태소 + 자립형태소 : 주로 명사형 > 명사로만 문장 구성해도 의미파악 주로 됨. 즉, 바꿔서 얘기하면 명사위주로만 문장을 분석하면 된다. > 즉 형태소 분석해서 feature를 쳐낸다.\n",
    "> 한국어 패키지 : KoNLPy, NLTK,Natural Language Toolkit 한국어X (윈도우)  \n",
    "> 카카오에서 만든 한국어판(리눅스)\n",
    "- NLTK 쓸거고 영어기반이라 한국어에는 못씀\n",
    "- 음절 : 소리가 나는 최소단위."
   ]
  },
  {
   "cell_type": "code",
   "execution_count": 1,
   "metadata": {},
   "outputs": [
    {
     "name": "stdout",
     "output_type": "stream",
     "text": [
      "Requirement already satisfied: nltk in c:\\users\\seodonguk\\anaconda3\\lib\\site-packages (3.4)\n",
      "Requirement already satisfied: six in c:\\users\\seodonguk\\anaconda3\\lib\\site-packages (from nltk) (1.12.0)\n",
      "Requirement already satisfied: singledispatch in c:\\users\\seodonguk\\anaconda3\\lib\\site-packages (from nltk) (3.4.0.3)\n"
     ]
    }
   ],
   "source": [
    "!pip install nltk"
   ]
  },
  {
   "cell_type": "markdown",
   "metadata": {},
   "source": [
    "- 우리는 corpus 가지고 할일 없을 것임\n",
    "- Input text (unstructured)"
   ]
  },
  {
   "cell_type": "code",
   "execution_count": 5,
   "metadata": {},
   "outputs": [],
   "source": [
    "import nltk"
   ]
  },
  {
   "cell_type": "code",
   "execution_count": 6,
   "metadata": {},
   "outputs": [
    {
     "name": "stderr",
     "output_type": "stream",
     "text": [
      "[nltk_data] Downloading package punkt to\n",
      "[nltk_data]     C:\\Users\\SeoDongUk\\AppData\\Roaming\\nltk_data...\n",
      "[nltk_data]   Unzipping tokenizers\\punkt.zip.\n"
     ]
    },
    {
     "data": {
      "text/plain": [
       "True"
      ]
     },
     "execution_count": 6,
     "metadata": {},
     "output_type": "execute_result"
    }
   ],
   "source": [
    "nltk.download('punkt')"
   ]
  },
  {
   "cell_type": "code",
   "execution_count": 8,
   "metadata": {},
   "outputs": [],
   "source": [
    "import sqlite3 as sql3\n",
    "con = sql3.connect(\"news.db\")\n",
    "cur = con.cursor()"
   ]
  },
  {
   "cell_type": "code",
   "execution_count": 23,
   "metadata": {},
   "outputs": [],
   "source": [
    "cur.execute(\"\"\"\n",
    "    SELECT content\n",
    "    FROM table2\n",
    "    ORDER BY id ASC\n",
    "\"\"\")\n",
    "corpus = [_[0] for _ in cur.fetchall()]"
   ]
  },
  {
   "cell_type": "code",
   "execution_count": 29,
   "metadata": {},
   "outputs": [
    {
     "data": {
      "text/plain": [
       "35"
      ]
     },
     "execution_count": 29,
     "metadata": {},
     "output_type": "execute_result"
    }
   ],
   "source": [
    "len(corpus)"
   ]
  },
  {
   "cell_type": "code",
   "execution_count": 32,
   "metadata": {},
   "outputs": [
    {
     "data": {
      "text/plain": [
       "(2115, 481, 37)"
      ]
     },
     "execution_count": 32,
     "metadata": {},
     "output_type": "execute_result"
    }
   ],
   "source": [
    "len(corpus[0]), len(corpus[0].split()), len(corpus[0].splitlines())\n",
    "# 낱자, 어절, 개행단위 분석.\n",
    "\n",
    "# 2115개이므로 4메가 정도"
   ]
  },
  {
   "cell_type": "code",
   "execution_count": 74,
   "metadata": {},
   "outputs": [
    {
     "data": {
      "text/plain": [
       "(2115, 559, 24)"
      ]
     },
     "execution_count": 74,
     "metadata": {},
     "output_type": "execute_result"
    }
   ],
   "source": [
    "len(corpus[0]) , len(word_tokenize(corpus[0])), len(sent_tokenize(corpus[0]))\n",
    "# 어절 갯수는 오히려 늘었다."
   ]
  },
  {
   "cell_type": "code",
   "execution_count": 77,
   "metadata": {},
   "outputs": [
    {
     "ename": "ModuleNotFoundError",
     "evalue": "No module named 'konlpy'",
     "output_type": "error",
     "traceback": [
      "\u001b[1;31m---------------------------------------------------------------------------\u001b[0m",
      "\u001b[1;31mModuleNotFoundError\u001b[0m                       Traceback (most recent call last)",
      "\u001b[1;32m<ipython-input-77-e70ae01da3aa>\u001b[0m in \u001b[0;36m<module>\u001b[1;34m\u001b[0m\n\u001b[1;32m----> 1\u001b[1;33m \u001b[1;32mfrom\u001b[0m \u001b[0mkonlpy\u001b[0m\u001b[1;33m.\u001b[0m\u001b[0mtag\u001b[0m \u001b[1;32mimport\u001b[0m \u001b[0mKkma\u001b[0m\u001b[1;33m\u001b[0m\u001b[1;33m\u001b[0m\u001b[0m\n\u001b[0m",
      "\u001b[1;31mModuleNotFoundError\u001b[0m: No module named 'konlpy'"
     ]
    }
   ],
   "source": [
    "from konlpy.tag import Kkma\n",
    "len(Kkma.morphs(corpus[0]),len(word_tokenize(corpus[0]))"
   ]
  },
  {
   "cell_type": "code",
   "execution_count": 33,
   "metadata": {},
   "outputs": [
    {
     "data": {
      "text/plain": [
       "24"
      ]
     },
     "execution_count": 33,
     "metadata": {},
     "output_type": "execute_result"
    }
   ],
   "source": [
    "# Tokenizing\n",
    "from nltk.tokenize import sent_tokenize\n",
    "len(sent_tokenize(corpus[0])) # 실제 24개의 문장이 있다."
   ]
  },
  {
   "cell_type": "code",
   "execution_count": 36,
   "metadata": {},
   "outputs": [
    {
     "data": {
      "text/plain": [
       "'\"2005년 민관위 조사서'"
      ]
     },
     "execution_count": 36,
     "metadata": {},
     "output_type": "execute_result"
    }
   ],
   "source": [
    "corpus[0].splitlines()[0] # 완결된 문장이라 보기 힘듦."
   ]
  },
  {
   "cell_type": "code",
   "execution_count": 37,
   "metadata": {},
   "outputs": [
    {
     "data": {
      "text/plain": [
       "'\"2005년 민관위 조사서\\n불법행위 청구권소멸\\n결론 낸 적 없어\" 반박\\n\\n\"日과 타협여지 줄여\\n논란키울 소지\" 비판도\\n\\n◆ 한일 정면충돌 ◆\\n\\n강경화 외교부 장관(오른쪽)이 17일 오후 서울 종로 외교부 청사를 방문한 데이비드 스틸웰 신임 미국 국무부 동아태 차관보와 악수하고 있다.'"
      ]
     },
     "execution_count": 37,
     "metadata": {},
     "output_type": "execute_result"
    }
   ],
   "source": [
    "sent_tokenize(corpus[0])[0] # 하나의 문장 구성"
   ]
  },
  {
   "cell_type": "code",
   "execution_count": 51,
   "metadata": {},
   "outputs": [
    {
     "data": {
      "text/plain": [
       "['\\nLife is too short???',\n",
       " 'Life is too short....\\nLife is too short Life is too short']"
      ]
     },
     "execution_count": 51,
     "metadata": {},
     "output_type": "execute_result"
    }
   ],
   "source": [
    "sent_tokenize(\"\"\"\n",
    "Life is too short??? Life is too short....\n",
    "Life is too short Life is too short\n",
    "\"\"\") \n",
    "# 우리나라,일본말 둘다 없는데 일본것 MeCab 유명한것 있다.\n",
    "# 단점 : 리눅스에서만 쓸 수 있다. (가상OS 띄워서 해라)"
   ]
  },
  {
   "cell_type": "code",
   "execution_count": 39,
   "metadata": {},
   "outputs": [
    {
     "data": {
      "text/plain": [
       "'!\"#$%&\\'()*+,-./:;<=>?@[\\\\]^_`{|}~'"
      ]
     },
     "execution_count": 39,
     "metadata": {},
     "output_type": "execute_result"
    }
   ],
   "source": [
    "from string import punctuation\n",
    "punctuation # 이것들을 기반으로 해서 자를 것임."
   ]
  },
  {
   "cell_type": "code",
   "execution_count": 60,
   "metadata": {},
   "outputs": [
    {
     "data": {
      "text/plain": [
       "['\\n    술 한잔 마셨습1니다... 영화가 잘 안되도 좋습니다.',\n",
       " '하지만 엄복동 하나만\\n    기억해 주세요 진심을 다해 전합니다.',\n",
       " '영화가 별로 일 수 있습니다.',\n",
       " '밤낮으로 고민하고 연기 했습니다 ...최선을 다했고 열심히 했습니다.',\n",
       " '저의 진심이 느껴지길 바랍니다.',\n",
       " '고맙습니다....']"
      ]
     },
     "execution_count": 60,
     "metadata": {},
     "output_type": "execute_result"
    }
   ],
   "source": [
    "sent_tokenize(\"\"\"\n",
    "    술 한잔 마셨습1니다... 영화가 잘 안되도 좋습니다. 하지만 '엄복동' 하나만\n",
    "    기억해 주세요 진심을 다해 전합니다. 영화가 별로 일 수 있습니다.\n",
    "    밤낮으로 고민하고 연기 했습니다 ...최선을 다했고 열심히 했습니다.\n",
    "    저의 진심이 느껴지길 바랍니다. 고맙습니다....\n",
    "\"\"\") #구어체에, 온라인에서 하는 대화에서는 쓰기 쉽지 않을 것이다.\n",
    "# 우리나라는 어순이 바뀌어도 되고 생략도 되서 어렵다."
   ]
  },
  {
   "cell_type": "markdown",
   "metadata": {},
   "source": [
    "- 구어체에 적용하기 힘들다.\n",
    "- 문어체에서 (기사)에서 일단 해보자 sent_tokenize"
   ]
  },
  {
   "cell_type": "code",
   "execution_count": 65,
   "metadata": {},
   "outputs": [
    {
     "data": {
      "text/plain": [
       "['Life', 'is', 'too', 'short', ',', 'Life', 'is', 'too', 'short', '.']"
      ]
     },
     "execution_count": 65,
     "metadata": {},
     "output_type": "execute_result"
    }
   ],
   "source": [
    "from nltk.tokenize import word_tokenize\n",
    "word_tokenize(\"Life is too short, Life is too short.\")\n",
    "# 어절단위. (영어는 하나의 단어가 어절 매칭이 맞나 보다.)\n",
    "# split보다는 ,.등을 나눠주므로 더 좋음."
   ]
  },
  {
   "cell_type": "code",
   "execution_count": 68,
   "metadata": {},
   "outputs": [
    {
     "data": {
      "text/plain": [
       "['술',\n",
       " '한잔',\n",
       " '마셨습1니다',\n",
       " '...',\n",
       " '영화가',\n",
       " '잘',\n",
       " '안되도',\n",
       " '좋습니다',\n",
       " '.',\n",
       " '하지만',\n",
       " '``',\n",
       " '엄복동',\n",
       " \"''\",\n",
       " '하나만',\n",
       " '기억해',\n",
       " '주세요',\n",
       " '진심을',\n",
       " '다해',\n",
       " '전합니다',\n",
       " '.',\n",
       " '영화가',\n",
       " '별로',\n",
       " '일',\n",
       " '수',\n",
       " '있습니다',\n",
       " '.',\n",
       " '밤낮으로',\n",
       " '고민하고',\n",
       " '연기',\n",
       " '했습니다',\n",
       " '...',\n",
       " '최선을',\n",
       " '다했고',\n",
       " '열심히',\n",
       " '했습니다',\n",
       " '.',\n",
       " '저의',\n",
       " '진심이',\n",
       " '느껴지길',\n",
       " '바랍니다',\n",
       " '.',\n",
       " '고맙습니다',\n",
       " '...',\n",
       " '.']"
      ]
     },
     "execution_count": 68,
     "metadata": {},
     "output_type": "execute_result"
    }
   ],
   "source": [
    "word_tokenize(\"\"\"\n",
    "술 한잔 마셨습1니다... 영화가 잘 안되도 좋습니다. 하지만 \"엄복동\" 하나만\n",
    "    기억해 주세요 진심을 다해 전합니다. 영화가 별로 일 수 있습니다.\n",
    "    밤낮으로 고민하고 연기 했습니다 ...최선을 다했고 열심히 했습니다.\n",
    "    저의 진심이 느껴지길 바랍니다. 고맙습니다....\n",
    "    \"\"\") # single quote, double quote를 다르게 자른다.\n",
    "# 이렇게 잘린 것들 어절도 아닌것을 token (?)\n",
    "# 말 조각은 chunk"
   ]
  },
  {
   "cell_type": "code",
   "execution_count": 78,
   "metadata": {},
   "outputs": [],
   "source": [
    "from nltk.tokenize import TweetTokenizer\n",
    "=) : 해외에서는 중요한 정보 (트위터에서 자주쓴다.)"
   ]
  },
  {
   "cell_type": "code",
   "execution_count": 93,
   "metadata": {},
   "outputs": [
    {
     "data": {
      "text/plain": [
       "['You', 'need', 'Python', '=)', ';(']"
      ]
     },
     "execution_count": 93,
     "metadata": {},
     "output_type": "execute_result"
    }
   ],
   "source": [
    "word_tokenize(\"You need Python =)\")\n",
    "TweetTokenizer().tokenize(\"You need Python =);(\")"
   ]
  },
  {
   "cell_type": "code",
   "execution_count": 102,
   "metadata": {},
   "outputs": [
    {
     "data": {
      "text/plain": [
       "['You', 'need', 'Python', '12', '한', '글']"
      ]
     },
     "execution_count": 102,
     "metadata": {},
     "output_type": "execute_result"
    }
   ],
   "source": [
    "import re\n",
    "from nltk.tokenize import regexp_tokenize\n",
    "pattern = re.compile(r\"\\b(\\w+)\\b\") # 어절 이야기\n",
    "regexp_tokenize(\"You need Python!!!!! 12 한@@#%글\",pattern)\n",
    "# 텍스트 처리에서는 regular expression 필수다"
   ]
  },
  {
   "cell_type": "code",
   "execution_count": 149,
   "metadata": {},
   "outputs": [
    {
     "data": {
      "text/plain": [
       "['한', '글']"
      ]
     },
     "execution_count": 149,
     "metadata": {},
     "output_type": "execute_result"
    }
   ],
   "source": [
    "pattern =  re.compile(r'\\b([가-힣]+)\\b')\n",
    "regexp_tokenize(\"You need Python!!!!! 12 한@@#%글\",pattern)"
   ]
  },
  {
   "cell_type": "code",
   "execution_count": 133,
   "metadata": {},
   "outputs": [
    {
     "data": {
      "text/plain": [
       "'ㅠㅠㅜㅜㅋㅋ한글'"
      ]
     },
     "execution_count": 133,
     "metadata": {},
     "output_type": "execute_result"
    }
   ],
   "source": [
    "re.sub(r\"[^ㄱ-힣]\",\"\",'ㅠㅠ ㅜㅜ ㅋㅋ 한#%@글')"
   ]
  },
  {
   "cell_type": "code",
   "execution_count": 147,
   "metadata": {},
   "outputs": [
    {
     "data": {
      "text/plain": [
       "'ㅠㅠㅜㅜㅋㅋ한글'"
      ]
     },
     "execution_count": 147,
     "metadata": {},
     "output_type": "execute_result"
    }
   ],
   "source": [
    "re.sub(r\"[^ㄱ-ㅎㅏ-ㅣ가-힣]\",\"\",'ㅠㅠ ㅜㅜ ㅋㅋ 한#%@글')"
   ]
  },
  {
   "cell_type": "code",
   "execution_count": 150,
   "metadata": {},
   "outputs": [
    {
     "data": {
      "text/plain": [
       "['한글']"
      ]
     },
     "execution_count": 150,
     "metadata": {},
     "output_type": "execute_result"
    }
   ],
   "source": [
    "pattern = re.compile(r\"\\b([가-힣]+)\\b\")\n",
    "regexp_tokenize(re.sub(\n",
    "    r\"[^ ㄱ-ㅎ ㅏ-ㅣ 가-힣]\", \"\" , \"ㅠㅠ ㅜㅜ ㅋㅋ 한#@#글\"\n",
    "),pattern)"
   ]
  },
  {
   "cell_type": "code",
   "execution_count": 111,
   "metadata": {},
   "outputs": [],
   "source": [
    "from nltk  import Text"
   ]
  },
  {
   "cell_type": "code",
   "execution_count": 119,
   "metadata": {},
   "outputs": [],
   "source": [
    "text = Text(word_tokenize(corpus[0])) # 통계를 내줌. 많이 언급 "
   ]
  },
  {
   "cell_type": "code",
   "execution_count": 194,
   "metadata": {},
   "outputs": [
    {
     "ename": "NameError",
     "evalue": "name 'Largetext' is not defined",
     "output_type": "error",
     "traceback": [
      "\u001b[1;31m---------------------------------------------------------------------------\u001b[0m",
      "\u001b[1;31mNameError\u001b[0m                                 Traceback (most recent call last)",
      "\u001b[1;32m<ipython-input-194-46c1bdda5b5e>\u001b[0m in \u001b[0;36m<module>\u001b[1;34m\u001b[0m\n\u001b[1;32m----> 1\u001b[1;33m \u001b[0mLargetext\u001b[0m\u001b[1;33m.\u001b[0m\u001b[0mvocab\u001b[0m\u001b[1;33m(\u001b[0m\u001b[1;33m)\u001b[0m\u001b[1;33m.\u001b[0m\u001b[0mB\u001b[0m\u001b[1;33m(\u001b[0m\u001b[1;33m)\u001b[0m\u001b[1;33m,\u001b[0m \u001b[0mtext\u001b[0m\u001b[1;33m.\u001b[0m\u001b[0mvocab\u001b[0m\u001b[1;33m(\u001b[0m\u001b[1;33m)\u001b[0m\u001b[1;33m.\u001b[0m\u001b[0mN\u001b[0m\u001b[1;33m(\u001b[0m\u001b[1;33m)\u001b[0m \u001b[1;31m# 단어의 전체 갯수, B는 유니크한 갯수\u001b[0m\u001b[1;33m\u001b[0m\u001b[1;33m\u001b[0m\u001b[0m\n\u001b[0m",
      "\u001b[1;31mNameError\u001b[0m: name 'Largetext' is not defined"
     ]
    }
   ],
   "source": [
    "text.vocab().B(), text.vocab().N() # 단어의 전체 갯수, B는 유니크한 갯수 "
   ]
  },
  {
   "cell_type": "code",
   "execution_count": 141,
   "metadata": {},
   "outputs": [
    {
     "name": "stdout",
     "output_type": "stream",
     "text": [
      "0.04114490161001789\n",
      "0.017889087656529516\n",
      "0.014311270125223614\n",
      "0.014311270125223614\n",
      "0.012522361359570662\n",
      "0.012522361359570662\n",
      "0.012522361359570662\n",
      "0.01073345259391771\n",
      "0.008944543828264758\n",
      "0.007155635062611807\n",
      "0.007155635062611807\n",
      "0.007155635062611807\n",
      "0.007155635062611807\n",
      "0.007155635062611807\n",
      "0.007155635062611807\n",
      "0.007155635062611807\n",
      "0.005366726296958855\n",
      "0.005366726296958855\n",
      "0.005366726296958855\n",
      "0.005366726296958855\n",
      "0.2164579606440071\n"
     ]
    }
   ],
   "source": [
    "ratio = 0.0\n",
    "for _ in [_[0] for _ in text.vocab().most_common(20)]:\n",
    "    ratio += text.vocab().freq(_)\n",
    "    print(text.vocab().freq(_))\n",
    "    \n",
    "print(ratio)"
   ]
  },
  {
   "cell_type": "code",
   "execution_count": 155,
   "metadata": {},
   "outputs": [
    {
     "data": {
      "text/plain": [
       "0.01073345259391771"
      ]
     },
     "execution_count": 155,
     "metadata": {},
     "output_type": "execute_result"
    }
   ],
   "source": [
    "text.vocab().freq(\"강제징용\") # 비율이 나온다."
   ]
  },
  {
   "cell_type": "code",
   "execution_count": 137,
   "metadata": {},
   "outputs": [
    {
     "data": {
      "text/plain": [
       "FreqDist({'.': 23, \"''\": 10, '``': 8, \"'\": 8, '입장을': 7, '고': 7, '당시': 7, '강제징용': 6, '있다': 5, '2005년': 4, ...})"
      ]
     },
     "execution_count": 137,
     "metadata": {},
     "output_type": "execute_result"
    }
   ],
   "source": [
    "text.vocab()"
   ]
  },
  {
   "cell_type": "code",
   "execution_count": 122,
   "metadata": {},
   "outputs": [
    {
     "data": {
      "text/plain": [
       "[('.', 23),\n",
       " (\"''\", 10),\n",
       " ('``', 8),\n",
       " (\"'\", 8),\n",
       " ('입장을', 7),\n",
       " ('고', 7),\n",
       " ('당시', 7),\n",
       " ('강제징용', 6),\n",
       " ('있다', 5),\n",
       " ('2005년', 4),\n",
       " ('청와대가', 4),\n",
       " ('손해배상청구권이', 4),\n",
       " ('남아', 4),\n",
       " ('일본', 4),\n",
       " ('명확하게', 4),\n",
       " (',', 4),\n",
       " ('이', 3),\n",
       " ('[', 3),\n",
       " (']', 3),\n",
       " ('피해자', 3),\n",
       " ('개인의', 3),\n",
       " ('정부가', 3),\n",
       " ('수', 3),\n",
       " ('것은', 3),\n",
       " ('대해서는', 3),\n",
       " ('관련', 3),\n",
       " ('밝혔다', 3),\n",
       " ('대변인은', 3),\n",
       " ('바', 3),\n",
       " ('것으로', 3)]"
      ]
     },
     "execution_count": 122,
     "metadata": {},
     "output_type": "execute_result"
    }
   ],
   "source": [
    "text.vocab().most_common(30)"
   ]
  },
  {
   "cell_type": "code",
   "execution_count": 129,
   "metadata": {},
   "outputs": [
    {
     "data": {
      "image/png": "[encoded data removed]",
      "text/plain": [
       "<Figure size 432x288 with 1 Axes>"
      ]
     },
     "metadata": {
      "needs_background": "light"
     },
     "output_type": "display_data"
    }
   ],
   "source": [
    "text.plot(30)"
   ]
  },
  {
   "cell_type": "markdown",
   "metadata": {},
   "source": [
    "## Empirical Low\n",
    "- 엔트로피가 높다. 이런 애들 제거해야함.\n",
    "- Zipf's Law  : 내가 수집한 데이터가 저걸 따르면 bias가 적고 일반화 된 것이다.\n",
    "- 얼마나 밸런스가 맞는지 내 데이터가\n",
    "- 단어 빈도 vs 단어 순위, 빈도가 높으면 오히려 의미가 없다.\n",
    "- 너무 빈도가 적어도 중요도가 0에 가까워서 안쓴다.\n",
    "- 빈도는 문서마다 달라지기 때문에 빈도가지고 자르기는 조금 그렇다.\n",
    "- 결국은 비율, 순위를 가지고 잘라야 한다.\n",
    "- 그래서 상위 몇개, 하위 몇개 일인걸로 맞춘다.\n",
    "- 아니면 최대빈도로 나누어서 정규화 해준다.\n",
    "- 보통 상위,하위 20% 날리고 시작한다. (원래는 실험을 통해서 밝혀야 한다.)\n",
    "- 혹은 top k개를 버리고 시작해야한다."
   ]
  },
  {
   "cell_type": "code",
   "execution_count": 176,
   "metadata": {},
   "outputs": [
    {
     "data": {
      "text/plain": [
       "(\"''\", 10)"
      ]
     },
     "execution_count": 176,
     "metadata": {},
     "output_type": "execute_result"
    }
   ],
   "source": [
    "sorted(text.vocab().items())[2]"
   ]
  },
  {
   "cell_type": "code",
   "execution_count": 184,
   "metadata": {},
   "outputs": [],
   "source": [
    "LargeText =  Text(word_tokenize('\\n'.join(corpus)))\n",
    "\n",
    "text = Text(word_tokenize(corpus[0])) # 통계를 내줌. 많이 언급 "
   ]
  },
  {
   "cell_type": "code",
   "execution_count": 214,
   "metadata": {},
   "outputs": [
    {
     "data": {
      "image/png": "[encoded data removed]",
      "text/plain": [
       "<Figure size 432x288 with 1 Axes>"
      ]
     },
     "metadata": {
      "needs_background": "light"
     },
     "output_type": "display_data"
    },
    {
     "data": {
      "image/png": "[encoded data removed]",
      "text/plain": [
       "<Figure size 432x288 with 1 Axes>"
      ]
     },
     "metadata": {
      "needs_background": "light"
     },
     "output_type": "display_data"
    }
   ],
   "source": [
    "import matplotlib.pyplot as plt\n",
    "from math import log\n",
    "token = [_[0] for _ in \n",
    "         sorted(LargeText.vocab().items(),key=lambda x:x[1],reverse=True)]\n",
    "# [1]에 횟수 들어 있는데 reverse해줌.\n",
    "\n",
    "freq = [_[1]/LargeText.vocab().most_common(1)[0][1] for _ in sorted(LargeText.vocab().items(),key=lambda x:x[1],reverse=True)]\n",
    "_freq = [log(_) for _ in freq]\n",
    "rank = [1/(_+1) for _ in range(len(token))]\n",
    "_rank = [log(_) for _ in rank]\n",
    "\n",
    "plt.plot([i for i in range(len(token))],freq,\"r-\")\n",
    "plt.plot([i for i in range(len(token))],rank,\"b-\")\n",
    "plt.show()\n",
    "\n",
    "plt.plot([log(i+1) for i in range(len(token))],_freq,\"r-\")\n",
    "plt.plot([log(i+1) for i in range(len(token))],_rank,\"b-\")\n",
    "plt.show()\n",
    "\n",
    "# context 중요하게 하면 be동사나 앞에부분 같은거 날리면 안된다.\n",
    "# word embedding은 문맥정보가 필요 없어서 앞부분 날리는게 좋을 것이다.\n",
    "# 경험적인 법칙이 맞아 떨어진다. 고빈도 = rank"
   ]
  },
  {
   "cell_type": "markdown",
   "metadata": {},
   "source": [
    "# Heap's Law\n",
    "- 얼만큼 유니크한 것이 있을지\n",
    "- K는 10에서 100사이의 특정 상수, 베타도 0.4~0.6상수 T: 전체 단어수"
   ]
  },
  {
   "cell_type": "code",
   "execution_count": 226,
   "metadata": {
    "collapsed": true
   },
   "outputs": [
    {
     "ename": "ModuleNotFoundError",
     "evalue": "No module named 'konlpy'",
     "output_type": "error",
     "traceback": [
      "\u001b[1;31m---------------------------------------------------------------------------\u001b[0m",
      "\u001b[1;31mModuleNotFoundError\u001b[0m                       Traceback (most recent call last)",
      "\u001b[1;32m<ipython-input-226-17fbd13272d0>\u001b[0m in \u001b[0;36m<module>\u001b[1;34m\u001b[0m\n\u001b[1;32m----> 1\u001b[1;33m \u001b[1;32mfrom\u001b[0m \u001b[0mkonlpy\u001b[0m\u001b[1;33m.\u001b[0m\u001b[0mtag\u001b[0m \u001b[1;32mimport\u001b[0m \u001b[0mOkt\u001b[0m\u001b[1;33m\u001b[0m\u001b[1;33m\u001b[0m\u001b[0m\n\u001b[0m",
      "\u001b[1;31mModuleNotFoundError\u001b[0m: No module named 'konlpy'"
     ]
    }
   ],
   "source": [
    "from konlpy.tag import Okt"
   ]
  },
  {
   "cell_type": "code",
   "execution_count": 224,
   "metadata": {},
   "outputs": [],
   "source": [
    "K = 10 # 10~100\n",
    "B = 0.4 # 0.4 ~0.6\n",
    "unique = list()\n",
    "total = list()\n",
    "heaps = list()\n",
    "largeText = \"\"\n",
    "for _ in corpus:\n",
    "    largeText += _\n",
    "    text = Text(largeText)\n",
    "    unique.append(text.vocab().B())\n",
    "    total.append(text.vocab().N())\n",
    "    heaps.append(K*text.vocab().N()**B)"
   ]
  },
  {
   "cell_type": "code",
   "execution_count": 225,
   "metadata": {},
   "outputs": [
    {
     "data": {
      "image/png": "[encoded data removed]",
      "text/plain": [
       "<Figure size 432x288 with 1 Axes>"
      ]
     },
     "metadata": {
      "needs_background": "light"
     },
     "output_type": "display_data"
    }
   ],
   "source": [
    "plt.plot(total,unique,'r-')\n",
    "plt.plot(total,heaps,'b-')\n",
    "plt.show()"
   ]
  },
  {
   "cell_type": "markdown",
   "metadata": {},
   "source": [
    "# n-gram 모델 (중요한 language 모델)\n",
    "- 단순히 빈도와 통계 정보를 활용할 수 있는 모델\n",
    "- 아주 많은 feature를 생성한다는 유일한 단점\n",
    "- 한글에서 feature를 어떻게 추출할까, 어간을 찾기 좋은 approach\n",
    "- Sequence를 어떻게 찾을까. 어떤 확률값을 가질지 계산하는 language 모델\n",
    "- n개만큼 전의 단어들을 봐서 조건부 확률로 다른 단어의 확률을 생각해보는 것\n",
    "- 언어를 생성하는, 이해하는 방법. 단, 실제로는 이대로 못쓰임 저 패턴이 나올 수 있는게 너무나 많다. 즉, 특정 패턴 빈도가 너무 적다. 즉 확률값이 0에 가까워진다. chain rule에 의해서 확률이 0에 가까워져서 힘들다. \n",
    "- 언어학적 지식이 없을때 사용하기 좋다.\n",
    "- 빅데이터와 코퍼스는 다르다. 코퍼스는 밸런스가 맞춰줘야한다. nlp에는 다양한 언어패턴(친구,사설,뉴스 등등에서 골고루 있는 것)이 있어야 한다.\n",
    "- 코퍼스는 각각의 신문사, 논조 등 여러신문사를 다니면서 받아야 한다. 특정 주제에 쏠리지 않게 여러 날짜에 걸쳐서 나타났던 글을 수집해야한다.\n",
    "- 어절단위의 n-gram"
   ]
  },
  {
   "cell_type": "code",
   "execution_count": 228,
   "metadata": {},
   "outputs": [
    {
     "ename": "SyntaxError",
     "evalue": "invalid syntax (<ipython-input-228-499df2b8ffc7>, line 6)",
     "output_type": "error",
     "traceback": [
      "\u001b[1;36m  File \u001b[1;32m\"<ipython-input-228-499df2b8ffc7>\"\u001b[1;36m, line \u001b[1;32m6\u001b[0m\n\u001b[1;33m    P(Python|need,You,short,too,is,Life)\u001b[0m\n\u001b[1;37m                                 ^\u001b[0m\n\u001b[1;31mSyntaxError\u001b[0m\u001b[1;31m:\u001b[0m invalid syntax\n"
     ]
    }
   ],
   "source": [
    "sentence = \"Life is too short, You need Python\"\n",
    "N = 2\n",
    "Python?\n",
    "P(Python|need)\n",
    "P(need|You)\n",
    "P(Python|need,You,short,too,is,Life)\n",
    "\n",
    "N = 3\n",
    "P(Python|need,You) = P(Python|need)*P(need|You)\n",
    "\n",
    "- 술 한잔 마셨습니다.\n",
    "- 아버지 + 가(확률이 갑자기 낮아질것이라 나눌 수 있다.)\n",
    "- n-gram은 생성보다는 이해하는 방법론이다.\n",
    "- 음성 인식에서도 많이 쓴다.\n",
    "- ㅅㅜㄹ 뒤에 나오는 것들 추천해주면 좋다. 맞춤형 db 만들어서\n",
    "- 몸이나 말하기 불편할 사람들 추천해줄때 좋다.\n",
    "- 유니코드는 완성형이 아니고 초성중성 등 나누기 가능해서 할 수 있다."
   ]
  },
  {
   "cell_type": "code",
   "execution_count": 232,
   "metadata": {},
   "outputs": [
    {
     "data": {
      "text/plain": [
       "[('Life', 'is', 'too'),\n",
       " ('is', 'too', 'short'),\n",
       " ('too', 'short', ','),\n",
       " ('short', ',', 'You'),\n",
       " (',', 'You', 'need'),\n",
       " ('You', 'need', 'Python')]"
      ]
     },
     "execution_count": 232,
     "metadata": {},
     "output_type": "execute_result"
    }
   ],
   "source": [
    "sentence = \"Life is too short, You need Python\"\n",
    "def eojeol(sentence,N=2):\n",
    "    tokens = word_tokenize(sentence)\n",
    "    ngram = list()\n",
    "    for i in range(len(tokens)-(N-1)):\n",
    "        ngram.append(tuple(tokens[i:i+N]))\n",
    "    return ngram\n",
    "\n",
    "eojeol(sentence,3)        "
   ]
  },
  {
   "cell_type": "code",
   "execution_count": 234,
   "metadata": {},
   "outputs": [],
   "source": [
    "from collections import defaultdict\n",
    "\n",
    "freq = defaultdict(int)\n",
    "for _ in eojeol(corpus[0]):\n",
    "    freq[_] += 1"
   ]
  },
  {
   "cell_type": "code",
   "execution_count": 235,
   "metadata": {},
   "outputs": [
    {
     "data": {
      "text/plain": [
       "[((\"''\", '고'), 5),\n",
       " (('있다', '.'), 4),\n",
       " (('강제징용', '피해자'), 3),\n",
       " (('개인의', '손해배상청구권이'), 3),\n",
       " (('.', '['), 2),\n",
       " (('피해자', '개인의'), 2),\n",
       " (('손해배상청구권이', '남아'), 2),\n",
       " (('지난해', '10월'), 2),\n",
       " (('강제징용', '판결'), 2),\n",
       " (('3권', '분립'), 2)]"
      ]
     },
     "execution_count": 235,
     "metadata": {},
     "output_type": "execute_result"
    }
   ],
   "source": [
    "sorted(freq.items(),key=lambda x:x[1],reverse = True)[:10]"
   ]
  },
  {
   "cell_type": "code",
   "execution_count": 241,
   "metadata": {},
   "outputs": [
    {
     "data": {
      "text/plain": [
       "0.003584229390681004"
      ]
     },
     "execution_count": 241,
     "metadata": {},
     "output_type": "execute_result"
    }
   ],
   "source": [
    "freq[('강제징용', '피해자')] / sum(freq.values()) *\\\n",
    "freq[('피해자', '개인의')]/freq[('강제징용', '피해자')] \n"
   ]
  },
  {
   "cell_type": "code",
   "execution_count": 242,
   "metadata": {},
   "outputs": [
    {
     "data": {
      "text/plain": [
       "[('피해자', '개인의'), ('.', '개인의')]"
      ]
     },
     "execution_count": 242,
     "metadata": {},
     "output_type": "execute_result"
    }
   ],
   "source": [
    "[_ for _ in freq if _[1] == \"개인의\"]\n",
    "P(\"개인의\")"
   ]
  },
  {
   "cell_type": "code",
   "execution_count": null,
   "metadata": {},
   "outputs": [],
   "source": [
    "P(\")\")?\n",
    "P(\")\"|\"서울=연합뉴스\")\n",
    "P(\"서울=연합뉴스\"|\"(\")\n",
    "P(\"(\")"
   ]
  },
  {
   "cell_type": "code",
   "execution_count": null,
   "metadata": {},
   "outputs": [],
   "source": [
    "# 예를 들어 )가 나올 확률을 계산할 때 꼭 서울뉴스가 아닐수도 있지만\n",
    "# 미리 쌍을 만들어놓고 거기서 계산하면 어차피 찾아야 되니까 사용해서 한다.\n",
    "\n",
    "# 확률 모델로써 사용하거나 feature을 어떻게 선택할것인지에 대한 \n",
    "# 이야기가 될 수 있다."
   ]
  },
  {
   "cell_type": "code",
   "execution_count": 249,
   "metadata": {},
   "outputs": [
    {
     "data": {
      "text/plain": [
       "2114"
      ]
     },
     "execution_count": 249,
     "metadata": {},
     "output_type": "execute_result"
    }
   ],
   "source": [
    "def umjeol(token,N=2):\n",
    "    tokens = list(token)\n",
    "    ngram = list()\n",
    "    for i in range(len(tokens)-(N-1)):\n",
    "        ngram.append(\"\".join(tokens[i:i+N]))\n",
    "    return ngram\n",
    "\n",
    "len(umjeol(corpus[0]))\n",
    "# 어간을 분리할 줄 모를 때 이용하면 좋음.\n",
    "# 단, 갯수가 너무 많다는게 단점."
   ]
  },
  {
   "cell_type": "markdown",
   "metadata": {},
   "source": [
    "# WPM\n",
    "\n",
    "- 어간을 어떻게 추출할지에 대한 모델\n",
    "- 좋은 모델 + 앞단 단어에 대한 의미표현을 잘 해놔야한다.\n",
    "- 단어를 1억개 이상 사용\n",
    "- 어간을 활용해 search_space를 줄이면 좋지 않을까 해서 만듦.\n",
    "\n",
    "## Byte Pate Encoding : WPM의 근간 모델\n",
    "- 언어학적 지식을 입히면 WPM\n",
    "- 얘를 알면 어간 추출을 할 수 있다.\n",
    "- most common pair를 찾는 것임. \n",
    "- ??????????????? 어간 혹은 어근을 찾아서 그걸 나열해서 조사는 문법규칙으로 붙이면 되는거 아닌가???\n",
    "- l o lo ow 같이 빈도 수로 합치게 되면 적당한 수에서 멈추면 어간이 된다."
   ]
  },
  {
   "cell_type": "markdown",
   "metadata": {},
   "source": [
    "# Normalization\n",
    "- 나누었으면 정형화된 틀로 만들어서 넣어줘야한다.\n",
    "- 어떤 단어는 낱자면 안되고..."
   ]
  },
  {
   "cell_type": "code",
   "execution_count": 386,
   "metadata": {},
   "outputs": [
    {
     "data": {
      "text/plain": [
       "{'er</w>', 'low'}"
      ]
     },
     "execution_count": 386,
     "metadata": {},
     "output_type": "execute_result"
    }
   ],
   "source": [
    "tokens ={\n",
    "    \"l o w </w>\" : 5,\n",
    "    \"l o w e s t </w>\" : 2,\n",
    "    \"n e w e r </w>\" : 6,\n",
    "    \"r i d e r </w>\" : 3\n",
    "}\n",
    "# tokens ={\n",
    "#     \"아 버 지 가 </w>\" : 5,\n",
    "#     \"아 버 지 께 서 </w>\" : 2,\n",
    "#     \"아 버 지 를 </w>\" : 6,\n",
    "#     \"아 버 지 에 게 </w>\" : 3\n",
    "# }\n",
    "\n",
    "\n",
    "K = max(tokens.values())\n",
    "for _ in range(100):\n",
    "    maxKey = findBigram(tokens)\n",
    "    tokens = mergeMaxkey(maxKey,tokens, K)\n",
    "    \n",
    "#     print(_,\"번째 : \",tokens)\n",
    "#     print(\"-----------------\")\n",
    "\n",
    "pattern = r\"[가-힣A-Za-z\\/\\<\\>]{2,}\"\n",
    "result = list()\n",
    "for _ in tokens:\n",
    "    result.extend([_ for _ in re.findall(pattern,_)\n",
    "          if _ != \"</w>\"])\n",
    "\n",
    "set(result)"
   ]
  },
  {
   "cell_type": "code",
   "execution_count": 367,
   "metadata": {},
   "outputs": [],
   "source": [
    "# bi-gram(n-gram 에서 N=2)\n",
    "def findBigram(tokens):\n",
    "    ngram = defaultdict(int)\n",
    "    for token,freq in tokens.items():\n",
    "        syllables = token.split()\n",
    "        for i in range(len(syllables) - 1):\n",
    "            ngram[tuple(syllables[i:i+2])] += freq    \n",
    "    #print(ngram)\n",
    "    return ngram"
   ]
  },
  {
   "cell_type": "code",
   "execution_count": 385,
   "metadata": {},
   "outputs": [],
   "source": [
    "def mergeMaxkey(ngram,tokens, K):\n",
    "    maxKey = max(ngram,key = ngram.get)\n",
    "    maxValue = max(ngram.values())\n",
    "    newTokens = dict()\n",
    "    for token,freq in tokens.items():\n",
    "        newTokens[re.sub(\" \".join(maxKey),\n",
    "                         \"\".join(maxKey),token)\n",
    "                  if maxValue > K else token] = freq \n",
    "        \n",
    "    return newTokens"
   ]
  },
  {
   "cell_type": "code",
   "execution_count": 354,
   "metadata": {},
   "outputs": [
    {
     "name": "stdout",
     "output_type": "stream",
     "text": [
      "0 번째 :  {'l o w </w>': 5, 'l o w e s t </w>': 2, 'n e w er </w>': 6, 'r i d er </w>': 3}\n",
      "-----------------\n",
      "1 번째 :  {'l o w </w>': 5, 'l o w e s t </w>': 2, 'n e w er</w>': 6, 'r i d er</w>': 3}\n",
      "-----------------\n",
      "2 번째 :  {'lo w </w>': 5, 'lo w e s t </w>': 2, 'n e w er</w>': 6, 'r i d er</w>': 3}\n",
      "-----------------\n",
      "3 번째 :  {'low </w>': 5, 'low e s t </w>': 2, 'n e w er</w>': 6, 'r i d er</w>': 3}\n",
      "-----------------\n",
      "4 번째 :  {'low </w>': 5, 'low e s t </w>': 2, 'ne w er</w>': 6, 'r i d er</w>': 3}\n",
      "-----------------\n",
      "5 번째 :  {'low </w>': 5, 'low e s t </w>': 2, 'new er</w>': 6, 'r i d er</w>': 3}\n",
      "-----------------\n"
     ]
    }
   ],
   "source": []
  },
  {
   "cell_type": "code",
   "execution_count": 373,
   "metadata": {},
   "outputs": [
    {
     "data": {
      "text/plain": [
       "{'er</w>', 'low'}"
      ]
     },
     "execution_count": 373,
     "metadata": {},
     "output_type": "execute_result"
    }
   ],
   "source": [
    "pattern = r\"[A-Za-z\\/\\<\\>]{2,}\"\n",
    "result = list()\n",
    "for _ in tokens:\n",
    "    result.extend([_ for _ in re.findall(pattern,_)\n",
    "          if _ != \"</w>\"])\n",
    "\n",
    "set(result)"
   ]
  },
  {
   "cell_type": "code",
   "execution_count": 285,
   "metadata": {},
   "outputs": [],
   "source": [
    "tokens = newTokens"
   ]
  },
  {
   "cell_type": "code",
   "execution_count": 300,
   "metadata": {},
   "outputs": [
    {
     "data": {
      "text/plain": [
       "{}"
      ]
     },
     "execution_count": 300,
     "metadata": {},
     "output_type": "execute_result"
    }
   ],
   "source": [
    "newTokens"
   ]
  },
  {
   "cell_type": "markdown",
   "metadata": {},
   "source": [
    "# 불용어 추출\n",
    "- 나중에 기회가 되면..."
   ]
  },
  {
   "cell_type": "code",
   "execution_count": 250,
   "metadata": {},
   "outputs": [],
   "source": [
    "from nltk.corpus import stopwords"
   ]
  },
  {
   "cell_type": "code",
   "execution_count": 252,
   "metadata": {},
   "outputs": [
    {
     "name": "stderr",
     "output_type": "stream",
     "text": [
      "[nltk_data] Downloading package stopwords to\n",
      "[nltk_data]     C:\\Users\\SeoDongUk\\AppData\\Roaming\\nltk_data...\n",
      "[nltk_data]   Unzipping corpora\\stopwords.zip.\n"
     ]
    },
    {
     "data": {
      "text/plain": [
       "True"
      ]
     },
     "execution_count": 252,
     "metadata": {},
     "output_type": "execute_result"
    }
   ],
   "source": [
    "nltk.download('stopwords')"
   ]
  },
  {
   "cell_type": "code",
   "execution_count": 253,
   "metadata": {},
   "outputs": [
    {
     "name": "stdout",
     "output_type": "stream",
     "text": [
      "i\n",
      "me\n",
      "my\n",
      "myself\n",
      "we\n",
      "our\n",
      "ours\n",
      "ourselves\n",
      "you\n",
      "you're\n",
      "you've\n",
      "you'll\n",
      "you'd\n",
      "your\n",
      "yours\n",
      "yourself\n",
      "yourselves\n",
      "he\n",
      "him\n",
      "his\n",
      "himself\n",
      "she\n",
      "she's\n",
      "her\n",
      "hers\n",
      "herself\n",
      "it\n",
      "it's\n",
      "its\n",
      "itself\n",
      "they\n",
      "them\n",
      "their\n",
      "theirs\n",
      "themselves\n",
      "what\n",
      "which\n",
      "who\n",
      "whom\n",
      "this\n",
      "that\n",
      "that'll\n",
      "these\n",
      "those\n",
      "am\n",
      "is\n",
      "are\n",
      "was\n",
      "were\n",
      "be\n",
      "been\n",
      "being\n",
      "have\n",
      "has\n",
      "had\n",
      "having\n",
      "do\n",
      "does\n",
      "did\n",
      "doing\n",
      "a\n",
      "an\n",
      "the\n",
      "and\n",
      "but\n",
      "if\n",
      "or\n",
      "because\n",
      "as\n",
      "until\n",
      "while\n",
      "of\n",
      "at\n",
      "by\n",
      "for\n",
      "with\n",
      "about\n",
      "against\n",
      "between\n",
      "into\n",
      "through\n",
      "during\n",
      "before\n",
      "after\n",
      "above\n",
      "below\n",
      "to\n",
      "from\n",
      "up\n",
      "down\n",
      "in\n",
      "out\n",
      "on\n",
      "off\n",
      "over\n",
      "under\n",
      "again\n",
      "further\n",
      "then\n",
      "once\n",
      "here\n",
      "there\n",
      "when\n",
      "where\n",
      "why\n",
      "how\n",
      "all\n",
      "any\n",
      "both\n",
      "each\n",
      "few\n",
      "more\n",
      "most\n",
      "other\n",
      "some\n",
      "such\n",
      "no\n",
      "nor\n",
      "not\n",
      "only\n",
      "own\n",
      "same\n",
      "so\n",
      "than\n",
      "too\n",
      "very\n",
      "s\n",
      "t\n",
      "can\n",
      "will\n",
      "just\n",
      "don\n",
      "don't\n",
      "should\n",
      "should've\n",
      "now\n",
      "d\n",
      "ll\n",
      "m\n",
      "o\n",
      "re\n",
      "ve\n",
      "y\n",
      "ain\n",
      "aren\n",
      "aren't\n",
      "couldn\n",
      "couldn't\n",
      "didn\n",
      "didn't\n",
      "doesn\n",
      "doesn't\n",
      "hadn\n",
      "hadn't\n",
      "hasn\n",
      "hasn't\n",
      "haven\n",
      "haven't\n",
      "isn\n",
      "isn't\n",
      "ma\n",
      "mightn\n",
      "mightn't\n",
      "mustn\n",
      "mustn't\n",
      "needn\n",
      "needn't\n",
      "shan\n",
      "shan't\n",
      "shouldn\n",
      "shouldn't\n",
      "wasn\n",
      "wasn't\n",
      "weren\n",
      "weren't\n",
      "won\n",
      "won't\n",
      "wouldn\n",
      "wouldn't\n",
      "\n"
     ]
    }
   ],
   "source": [
    "print(stopwords.open(\"english\").read())"
   ]
  },
  {
   "cell_type": "code",
   "execution_count": null,
   "metadata": {},
   "outputs": [],
   "source": []
  }
 ],
 "metadata": {
  "kernelspec": {
   "display_name": "Python 3",
   "language": "python",
   "name": "python3"
  },
  "language_info": {
   "codemirror_mode": {
    "name": "ipython",
    "version": 3
   },
   "file_extension": ".py",
   "mimetype": "text/x-python",
   "name": "python",
   "nbconvert_exporter": "python",
   "pygments_lexer": "ipython3",
   "version": "3.7.3"
  }
 },
 "nbformat": 4,
 "nbformat_minor": 2
}
